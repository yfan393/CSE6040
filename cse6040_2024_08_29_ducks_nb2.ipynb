{
  "cells": [
    {
      "cell_type": "markdown",
      "metadata": {
        "id": "view-in-github",
        "colab_type": "text"
      },
      "source": [
        "<a href=\"https://colab.research.google.com/github/yfan393/CSE6040/blob/main/cse6040_2024_08_29_ducks_nb2.ipynb\" target=\"_parent\"><img src=\"https://colab.research.google.com/assets/colab-badge.svg\" alt=\"Open In Colab\"/></a>"
      ]
    },
    {
      "cell_type": "markdown",
      "metadata": {
        "id": "Hcep5u9lwhCV"
      },
      "source": [
        "# CSE 6040, Fall 2024: August 29 — Duck typing and higher-order functions (nb2) #\n",
        "\n",
        "**Stuff for today:**\n",
        "* \"Duck typing\"\n",
        "* An application to Notebook 2 of duck typing and refactoring using higher-order functions"
      ]
    },
    {
      "cell_type": "markdown",
      "metadata": {
        "id": "q1ribvXhwhCX"
      },
      "source": [
        "# Duck typing #\n",
        "\n",
        "<img src=\"https://i.ytimg.com/vi/WM1x2L1dFJk/maxresdefault.jpg\" width=\"640\" height=\"480\" alt=\"Picture of a duck 'explaining' duck typing\">"
      ]
    },
    {
      "cell_type": "markdown",
      "source": [
        "Recall: All values (objects) have an associated type, which you can query via the built-in function, `type`."
      ],
      "metadata": {
        "id": "64I1Jp0pw5HO"
      }
    },
    {
      "cell_type": "code",
      "source": [
        "obj1 = 'hello, world'\n",
        "print(obj1, \"==>\", type(obj1))\n",
        "\n",
        "obj2 = 5.34\n",
        "print(obj2, \"==>\", type(obj2))\n",
        "\n",
        "obj3 = {1, 2, 3, 4, 5}\n",
        "print(obj3, \"==>\", type(obj3))"
      ],
      "metadata": {
        "id": "H_GGQzaQw-Ry",
        "colab": {
          "base_uri": "https://localhost:8080/"
        },
        "outputId": "f3ca2491-7674-4f14-93f2-4ede3b171aa9"
      },
      "execution_count": null,
      "outputs": [
        {
          "output_type": "stream",
          "name": "stdout",
          "text": [
            "hello, world ==> <class 'str'>\n",
            "5.34 ==> <class 'float'>\n",
            "{1, 2, 3, 4, 5} ==> <class 'set'>\n"
          ]
        }
      ]
    },
    {
      "cell_type": "markdown",
      "source": [
        "However, you can write functions without saying _explicitly_ what the types are. The behavior of the function will adapt according to the input types once they are known."
      ],
      "metadata": {
        "id": "3taNRltWxOqh"
      }
    },
    {
      "cell_type": "code",
      "execution_count": null,
      "metadata": {
        "ExecuteTime": {
          "end_time": "2023-09-05T20:50:55.624429Z",
          "start_time": "2023-09-05T20:50:55.612418Z"
        },
        "id": "x8RDFQ3FwhCX"
      },
      "outputs": [],
      "source": [
        "def add(x, y):\n",
        "    return x + y # types checked at runtime"
      ]
    },
    {
      "cell_type": "code",
      "execution_count": null,
      "metadata": {
        "ExecuteTime": {
          "end_time": "2023-09-05T20:50:56.443660Z",
          "start_time": "2023-09-05T20:50:56.434098Z"
        },
        "id": "vfHjad3fwhCY",
        "colab": {
          "base_uri": "https://localhost:8080/"
        },
        "outputId": "2855a421-ef8b-4455-a52c-5e4404a97514"
      },
      "outputs": [
        {
          "output_type": "execute_result",
          "data": {
            "text/plain": [
              "8"
            ]
          },
          "metadata": {},
          "execution_count": 3
        }
      ],
      "source": [
        "add(3, 5)"
      ]
    },
    {
      "cell_type": "code",
      "execution_count": null,
      "metadata": {
        "ExecuteTime": {
          "end_time": "2023-09-05T20:51:02.545360Z",
          "start_time": "2023-09-05T20:51:02.539311Z"
        },
        "id": "6UzRd2xmwhCY",
        "colab": {
          "base_uri": "https://localhost:8080/"
        },
        "outputId": "e15128e5-d937-416a-aeec-a5431b023860"
      },
      "outputs": [
        {
          "output_type": "execute_result",
          "data": {
            "text/plain": [
              "-0.14150000000000018"
            ]
          },
          "metadata": {},
          "execution_count": 4
        }
      ],
      "source": [
        "add(3, -3.1415)"
      ]
    },
    {
      "cell_type": "code",
      "execution_count": null,
      "metadata": {
        "ExecuteTime": {
          "end_time": "2023-09-05T20:51:06.726778Z",
          "start_time": "2023-09-05T20:51:06.721907Z"
        },
        "id": "AFYtbTKbwhCY",
        "colab": {
          "base_uri": "https://localhost:8080/",
          "height": 56
        },
        "outputId": "b8ea818b-632f-4fef-8845-30ae3e1a96e7"
      },
      "outputs": [
        {
          "output_type": "execute_result",
          "data": {
            "text/plain": [
              "'abcdef'"
            ],
            "application/vnd.google.colaboratory.intrinsic+json": {
              "type": "string"
            }
          },
          "metadata": {},
          "execution_count": 5
        }
      ],
      "source": [
        "# anything that \"looks like it can be added\" works\n",
        "add('abc', 'def')"
      ]
    },
    {
      "cell_type": "code",
      "execution_count": null,
      "metadata": {
        "ExecuteTime": {
          "end_time": "2023-09-05T20:51:10.056168Z",
          "start_time": "2023-09-05T20:51:10.053476Z"
        },
        "id": "FJcQEZ7MwhCZ",
        "colab": {
          "base_uri": "https://localhost:8080/",
          "height": 259
        },
        "outputId": "c5002c9b-928b-47c3-a0b6-8b92006b7d5a"
      },
      "outputs": [
        {
          "output_type": "error",
          "ename": "TypeError",
          "evalue": "unsupported operand type(s) for +: 'set' and 'set'",
          "traceback": [
            "\u001b[0;31m---------------------------------------------------------------------------\u001b[0m",
            "\u001b[0;31mTypeError\u001b[0m                                 Traceback (most recent call last)",
            "\u001b[0;32m<ipython-input-6-f17398377a02>\u001b[0m in \u001b[0;36m<cell line: 2>\u001b[0;34m()\u001b[0m\n\u001b[1;32m      1\u001b[0m \u001b[0;31m# no add? runtime error: (uncomment to see)\u001b[0m\u001b[0;34m\u001b[0m\u001b[0;34m\u001b[0m\u001b[0m\n\u001b[0;32m----> 2\u001b[0;31m \u001b[0madd\u001b[0m\u001b[0;34m(\u001b[0m\u001b[0;34m{\u001b[0m\u001b[0;36m1\u001b[0m\u001b[0;34m,\u001b[0m \u001b[0;36m2\u001b[0m\u001b[0;34m,\u001b[0m \u001b[0;36m3\u001b[0m\u001b[0;34m}\u001b[0m\u001b[0;34m,\u001b[0m \u001b[0;34m{\u001b[0m\u001b[0;36m4\u001b[0m\u001b[0;34m,\u001b[0m \u001b[0;36m5\u001b[0m\u001b[0;34m,\u001b[0m \u001b[0;36m6\u001b[0m\u001b[0;34m}\u001b[0m\u001b[0;34m)\u001b[0m\u001b[0;34m\u001b[0m\u001b[0;34m\u001b[0m\u001b[0m\n\u001b[0m",
            "\u001b[0;32m<ipython-input-2-31b32c981f64>\u001b[0m in \u001b[0;36madd\u001b[0;34m(x, y)\u001b[0m\n\u001b[1;32m      1\u001b[0m \u001b[0;32mdef\u001b[0m \u001b[0madd\u001b[0m\u001b[0;34m(\u001b[0m\u001b[0mx\u001b[0m\u001b[0;34m,\u001b[0m \u001b[0my\u001b[0m\u001b[0;34m)\u001b[0m\u001b[0;34m:\u001b[0m\u001b[0;34m\u001b[0m\u001b[0;34m\u001b[0m\u001b[0m\n\u001b[0;32m----> 2\u001b[0;31m     \u001b[0;32mreturn\u001b[0m \u001b[0mx\u001b[0m \u001b[0;34m+\u001b[0m \u001b[0my\u001b[0m \u001b[0;31m# types checked at runtime\u001b[0m\u001b[0;34m\u001b[0m\u001b[0;34m\u001b[0m\u001b[0m\n\u001b[0m",
            "\u001b[0;31mTypeError\u001b[0m: unsupported operand type(s) for +: 'set' and 'set'"
          ]
        }
      ],
      "source": [
        "# no add? runtime error: (uncomment to see)\n",
        "add({1, 2, 3}, {4, 5, 6})"
      ]
    },
    {
      "cell_type": "markdown",
      "metadata": {
        "id": "pFNWEasCwhCZ"
      },
      "source": [
        "The above are examples of **dynamic typing**, where types are inspected and checked at runtime.\n",
        "\n",
        "By contrast, some languages use **static typing**, where you specify the types in advance (at \"coding time\"). A C/C++/Java example:\n",
        "\n",
        "```c\n",
        "int add_ft(int x, int y) {\n",
        "    return x + y;\n",
        "}\n",
        "```\n",
        "\n",
        "While Python has type hints, these are not enforced.\n",
        "\n",
        "> _(Question to the class: Were type hints covered in the pre-semester bootcamp? If not, I believe they *are* covered in the in-semester online bootcamp sessions, in the event you are interested in learning more. Maybe I will do a quick demo here!)_"
      ]
    },
    {
      "cell_type": "markdown",
      "metadata": {
        "id": "t64oPFGowhCZ"
      },
      "source": [
        "The basic static vs. dynamic type tradeoff:\n",
        "\n",
        "- With static types, a compiler (translates your program to machine code) can verify that types match ahead of time, before the code even runs. That helps to catch errors at that time. It also enables the compiler to generate faster code, by specializing the code to work with the given types. But these benefits come at the price of flexibility, since it's harder for future users to try to make variations or otherwise customize the code for previously unforeseen uses.\n",
        "\n",
        "- Dynamic types make it easier to do rapid prototyping, making the code more flexible for future users to customize. That comes at the price performance and ahead-of-time corrections, as type mismatch errors must be caught and handled at runtime."
      ]
    },
    {
      "cell_type": "markdown",
      "metadata": {
        "id": "ZSImsm39whCa"
      },
      "source": [
        "You can simulate an effect of static types with dynamic checks:"
      ]
    },
    {
      "cell_type": "code",
      "execution_count": null,
      "metadata": {
        "ExecuteTime": {
          "end_time": "2023-09-05T20:51:41.439320Z",
          "start_time": "2023-09-05T20:51:41.435292Z"
        },
        "id": "pbQT-2brwhCa"
      },
      "outputs": [],
      "source": [
        "def add_ft(x, y): # This function will only succeed if `x` and `y` are both `int` objects\n",
        "    assert isinstance(x, int) and isinstance(y, int)\n",
        "    return x + y"
      ]
    },
    {
      "cell_type": "code",
      "execution_count": null,
      "metadata": {
        "ExecuteTime": {
          "end_time": "2023-09-05T20:51:42.316333Z",
          "start_time": "2023-09-05T20:51:42.311442Z"
        },
        "id": "gI-yT2d6whCb"
      },
      "outputs": [],
      "source": [
        "add_ft(3, 5) # Demo: ok!"
      ]
    },
    {
      "cell_type": "code",
      "execution_count": null,
      "metadata": {
        "ExecuteTime": {
          "end_time": "2023-09-05T20:51:44.489090Z",
          "start_time": "2023-09-05T20:51:44.486194Z"
        },
        "id": "oZ-VTAA0whCb"
      },
      "outputs": [],
      "source": [
        "# Type mismatch example: (uncomment to reveal)\n",
        "#add_ft(3, -3.14159)"
      ]
    },
    {
      "cell_type": "markdown",
      "metadata": {
        "id": "8G3jgt7cwhCb"
      },
      "source": [
        "# Higher-order functions (Notebook 2) #"
      ]
    },
    {
      "cell_type": "markdown",
      "metadata": {
        "id": "xkAFnH5nwhCc"
      },
      "source": [
        "**Functions are objects!** That is, you can think of a function as having a \"value,\" and you can pass functions around like you would other kinds of values like floats, strings, and so on."
      ]
    },
    {
      "cell_type": "code",
      "execution_count": null,
      "metadata": {
        "ExecuteTime": {
          "end_time": "2023-09-05T20:51:55.907476Z",
          "start_time": "2023-09-05T20:51:55.901963Z"
        },
        "id": "JT_aQraOwhCc"
      },
      "outputs": [],
      "source": [
        "def generate_hello(recipient):\n",
        "    return f\"Hello there, {recipient}, it's so good to see you again.\"\n",
        "\n",
        "generate_hello(\"Alice\")"
      ]
    },
    {
      "cell_type": "code",
      "execution_count": null,
      "metadata": {
        "ExecuteTime": {
          "end_time": "2023-09-05T20:51:58.403776Z",
          "start_time": "2023-09-05T20:51:58.398357Z"
        },
        "id": "jbEAovi9whCc"
      },
      "outputs": [],
      "source": [
        "print(2.71828)\n",
        "print(generate_hello)"
      ]
    },
    {
      "cell_type": "markdown",
      "metadata": {
        "id": "q_j8WaxWwhCc"
      },
      "source": [
        "By implication, the _name_ of a function is distinct from its value. You can use **lambdas** to create an unnamed, or _anonymous_, function value."
      ]
    },
    {
      "cell_type": "code",
      "execution_count": null,
      "metadata": {
        "ExecuteTime": {
          "end_time": "2023-09-05T20:52:01.303179Z",
          "start_time": "2023-09-05T20:52:01.298112Z"
        },
        "id": "h_yvl0U5whCc"
      },
      "outputs": [],
      "source": [
        "lambda recipient: f\"Goodbye, {recipient}, hope to see you again soon.\""
      ]
    },
    {
      "cell_type": "code",
      "execution_count": null,
      "metadata": {
        "ExecuteTime": {
          "end_time": "2023-09-05T20:52:02.825122Z",
          "start_time": "2023-09-05T20:52:02.821745Z"
        },
        "id": "aB4HywjywhCd"
      },
      "outputs": [],
      "source": [
        "# generate_hello(\"Carol\")"
      ]
    },
    {
      "cell_type": "code",
      "execution_count": null,
      "metadata": {
        "ExecuteTime": {
          "end_time": "2023-09-05T20:52:03.653523Z",
          "start_time": "2023-09-05T20:52:03.648012Z"
        },
        "id": "IAQ7ArTcwhCd"
      },
      "outputs": [],
      "source": [
        "(lambda recipient: f\"Goodbye, {recipient}, I hope to see you again soon.\")(\"Carol\")"
      ]
    },
    {
      "cell_type": "code",
      "execution_count": null,
      "metadata": {
        "ExecuteTime": {
          "end_time": "2023-09-05T20:52:05.517569Z",
          "start_time": "2023-09-05T20:52:05.509871Z"
        },
        "id": "inBtb763whCd"
      },
      "outputs": [],
      "source": [
        "hal = lambda you: f\"I'm afraid. I'm afraid, {you}. {you}, my mind is going. I can feel it.\"\n",
        "print(hal)"
      ]
    },
    {
      "cell_type": "code",
      "execution_count": null,
      "metadata": {
        "ExecuteTime": {
          "end_time": "2023-09-05T20:52:05.815096Z",
          "start_time": "2023-09-05T20:52:05.809434Z"
        },
        "id": "viVFPCGPwhCd"
      },
      "outputs": [],
      "source": [
        "hal(\"Dave\")"
      ]
    },
    {
      "cell_type": "markdown",
      "metadata": {
        "id": "JMyPUupAwhCd"
      },
      "source": [
        "**An application: generalizing function-ality via higher-order functions.** A higher-order function is a function that takes another function as a value and uses it.\n",
        "\n",
        "Let's apply this concept to a part of Notebook 2 (Exercise 8)."
      ]
    },
    {
      "cell_type": "code",
      "execution_count": null,
      "metadata": {
        "ExecuteTime": {
          "end_time": "2023-09-05T20:52:09.756531Z",
          "start_time": "2023-09-05T20:52:09.737022Z"
        },
        "id": "dphaDB6MwhCd"
      },
      "outputs": [],
      "source": [
        "def make_itemsets(baskets):\n",
        "    return [set(b) for b in baskets]\n",
        "\n",
        "make_itemsets(['sed', 'ut', 'perspiciatis', 'unde', 'omnis'])"
      ]
    },
    {
      "cell_type": "code",
      "execution_count": null,
      "metadata": {
        "ExecuteTime": {
          "end_time": "2023-09-05T20:52:13.362775Z",
          "start_time": "2023-09-05T20:52:13.358315Z"
        },
        "id": "lFR6Dk-uwhCd"
      },
      "outputs": [],
      "source": [
        "csv_input = \"\"\"citrus fruit,semi-finished bread,margarine,ready soups\n",
        "tropical fruit,yogurt,coffee\n",
        "whole milk\n",
        "pip fruit,yogurt,cream cheese,meat spreads\n",
        "other vegetables,whole milk,condensed milk,long life bakery product\"\"\""
      ]
    },
    {
      "cell_type": "code",
      "execution_count": null,
      "metadata": {
        "ExecuteTime": {
          "end_time": "2023-09-05T20:52:13.741819Z",
          "start_time": "2023-09-05T20:52:13.737321Z"
        },
        "id": "62hG-vy4whCe"
      },
      "outputs": [],
      "source": [
        "gbs = csv_input.split('\\n')\n",
        "gbs"
      ]
    },
    {
      "cell_type": "code",
      "execution_count": null,
      "metadata": {
        "ExecuteTime": {
          "end_time": "2023-09-05T20:52:14.314614Z",
          "start_time": "2023-09-05T20:52:14.310511Z"
        },
        "id": "tdCvk62PwhCe"
      },
      "outputs": [],
      "source": [
        "print(gbs)"
      ]
    },
    {
      "cell_type": "code",
      "execution_count": null,
      "metadata": {
        "ExecuteTime": {
          "end_time": "2023-09-05T20:52:15.659167Z",
          "start_time": "2023-09-05T20:52:15.652249Z"
        },
        "id": "arDY4OYRwhCe"
      },
      "outputs": [],
      "source": [
        "# Can't just call `make_itemsets`, however:\n",
        "make_itemsets(gbs)"
      ]
    },
    {
      "cell_type": "markdown",
      "metadata": {
        "id": "q_sHuv4OwhCe"
      },
      "source": [
        "Need an extra step:"
      ]
    },
    {
      "cell_type": "code",
      "execution_count": null,
      "metadata": {
        "ExecuteTime": {
          "end_time": "2023-09-05T20:52:23.340125Z",
          "start_time": "2023-09-05T20:52:23.334023Z"
        },
        "id": "d-y1B6UmwhCe"
      },
      "outputs": [],
      "source": [
        "gbs2 = [b.split(',') for b in gbs]\n",
        "print(gbs2)\n",
        "make_itemsets(gbs2)"
      ]
    },
    {
      "cell_type": "markdown",
      "metadata": {
        "id": "J749VFpowhCe"
      },
      "source": [
        "**Alternative idea:** Generalize the original implementation to allow any \"set-like-converter\" from the caller:"
      ]
    },
    {
      "cell_type": "code",
      "execution_count": null,
      "metadata": {
        "ExecuteTime": {
          "end_time": "2023-09-05T20:52:41.359711Z",
          "start_time": "2023-09-05T20:52:41.350887Z"
        },
        "id": "GESvajx4whCe"
      },
      "outputs": [],
      "source": [
        "def make_itemsets2(baskets, to_set=set):\n",
        "    return [to_set(b) for b in baskets]\n",
        "\n",
        "def grocery_set(b):\n",
        "    return set(b.split(','))\n",
        "\n",
        "make_itemsets2(gbs, to_set=grocery_set)"
      ]
    },
    {
      "cell_type": "markdown",
      "metadata": {
        "id": "_3hThIevwhCf"
      },
      "source": [
        "**Variation:** Use a `lambda` to generate the function."
      ]
    },
    {
      "cell_type": "code",
      "execution_count": null,
      "metadata": {
        "ExecuteTime": {
          "end_time": "2023-09-05T20:53:32.893699Z",
          "start_time": "2023-09-05T20:53:32.888200Z"
        },
        "id": "yvprFOOZwhCf"
      },
      "outputs": [],
      "source": [
        "make_itemsets2(gbs, to_set=lambda b: set(b.split(',')))"
      ]
    },
    {
      "cell_type": "markdown",
      "metadata": {
        "id": "q07QPKZ3whCf"
      },
      "source": [
        "> **Aside:** Function definitions are not fully evaluated until used, so you can define some symbols _after_ where they first appear in the source code. For example:"
      ]
    },
    {
      "cell_type": "code",
      "execution_count": null,
      "metadata": {
        "ExecuteTime": {
          "end_time": "2023-09-05T20:53:58.518275Z",
          "start_time": "2023-09-05T20:53:58.512064Z"
        },
        "id": "yh-TBgz4whCf"
      },
      "outputs": [],
      "source": [
        "def asdlfkj(x):\n",
        "    return dkhja(x)\n",
        "\n",
        "def dkhja(y):\n",
        "    return 4\n",
        "\n",
        "asdlfkj(3)"
      ]
    },
    {
      "cell_type": "markdown",
      "metadata": {
        "id": "tNkXGCBXwhCf"
      },
      "source": [
        "# Summary #\n",
        "\n",
        "- Static versus dyamic types: Ahead-of-time correctness and performance versus \"programming flexibility\"\n",
        "- \"Duck typing\" is a programming style supported by some languages (like Python) that allow you to write \"generic\" functions that involve pre-specified operations (like `+`) but for types not specified ahead of time.\n",
        "- Consider assertions to check your typing assumptions\n",
        "- Consider _higher-order functions_ to help generalize your code"
      ]
    }
  ],
  "metadata": {
    "celltoolbar": "Slideshow",
    "kernelspec": {
      "display_name": "Python 3 (ipykernel)",
      "language": "python",
      "name": "python3"
    },
    "language_info": {
      "codemirror_mode": {
        "name": "ipython",
        "version": 3
      },
      "file_extension": ".py",
      "mimetype": "text/x-python",
      "name": "python",
      "nbconvert_exporter": "python",
      "pygments_lexer": "ipython3",
      "version": "3.8.15"
    },
    "toc": {
      "base_numbering": 1,
      "nav_menu": {},
      "number_sections": true,
      "sideBar": true,
      "skip_h1_title": false,
      "title_cell": "Table of Contents",
      "title_sidebar": "Contents",
      "toc_cell": false,
      "toc_position": {},
      "toc_section_display": true,
      "toc_window_display": false
    },
    "colab": {
      "provenance": [],
      "include_colab_link": true
    }
  },
  "nbformat": 4,
  "nbformat_minor": 0
}