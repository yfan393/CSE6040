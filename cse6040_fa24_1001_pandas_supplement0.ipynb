{
  "cells": [
    {
      "cell_type": "markdown",
      "metadata": {
        "id": "view-in-github",
        "colab_type": "text"
      },
      "source": [
        "<a href=\"https://colab.research.google.com/github/yfan393/CSE6040/blob/main/cse6040_fa24_1001_pandas_supplement0.ipynb\" target=\"_parent\"><img src=\"https://colab.research.google.com/assets/colab-badge.svg\" alt=\"Open In Colab\"/></a>"
      ]
    },
    {
      "cell_type": "markdown",
      "metadata": {
        "id": "dxOcI05jIk2F"
      },
      "source": [
        "# Supplemental notes on Pandas\n",
        "\n",
        "## Link: `bit.ly/3N9Xcyu`\n",
        "\n",
        "The [**pandas** library](https://pandas.pydata.org/) is a Python module for representing what we call \"tibbles\" in Topic 7. Beyond what you see there, this notebook has additional notes to help you understand how to manipulate objects in Pandas. These notes adapt those found in the recommended text, [Python for Data Analysis (2nd ed.)](http://shop.oreilly.com/product/0636920050896.do), which is written by the createor of pandas, [Wes McKinney](http://wesmckinney.com/)."
      ]
    },
    {
      "cell_type": "markdown",
      "metadata": {
        "id": "9JAfyuugIk2H"
      },
      "source": [
        "**Versions.** The state of pandas is a bit in-flux, so it's important to be flexible and accommodate differences in functionality that might vary by version. The following code shows you how to check what version of pandas you have."
      ]
    },
    {
      "cell_type": "code",
      "execution_count": null,
      "metadata": {
        "colab": {
          "base_uri": "https://localhost:8080/"
        },
        "id": "NLGMO1V-Ik2H",
        "outputId": "09771113-60ec-4191-efcc-419a8f2153bc"
      },
      "outputs": [
        {
          "output_type": "stream",
          "name": "stdout",
          "text": [
            "* pandas version: 2.1.4\n",
            "* Python version: 3.10.12 (main, Sep 11 2024, 15:47:36) [GCC 11.4.0]\n"
          ]
        }
      ],
      "source": [
        "import pandas as pd  # Standard idiom for loading pandas\n",
        "\n",
        "print(f\"* pandas version: {pd.__version__}\")\n",
        "\n",
        "import sys\n",
        "print(f\"* Python version: {sys.version}\")"
      ]
    },
    {
      "cell_type": "markdown",
      "metadata": {
        "id": "pu35b9ZvIk2I"
      },
      "source": [
        "The main object that pandas implements is the `DataFrame`, which is essentially a 2-D table. It's an ideal target for holding the tibbles of Topic+Notebook 7, and its design derives in part from [data frame objects in the R language](https://www.rdocumentation.org/packages/base/versions/3.5.1/topics/data.frame).\n",
        "\n",
        "In addition to `DataFrame`, another important component of pandas is the `Series`, which is essentially one column of a `DataFrame` object (and, therefore, corresponds to variables and responses in a tibble)."
      ]
    },
    {
      "cell_type": "code",
      "execution_count": null,
      "metadata": {
        "collapsed": true,
        "id": "q2elj3QjIk2I"
      },
      "outputs": [],
      "source": [
        "from pandas import DataFrame, Series"
      ]
    },
    {
      "cell_type": "markdown",
      "metadata": {
        "id": "miWr4_NzIk2I"
      },
      "source": [
        "# `Series` objects\n",
        "\n",
        "A pandas [`Series`](http://pandas.pydata.org/pandas-docs/stable/generated/pandas.Series.html) object is a column-oriented object that we will use to store a variable of a tibble."
      ]
    },
    {
      "cell_type": "code",
      "execution_count": null,
      "metadata": {
        "colab": {
          "base_uri": "https://localhost:8080/"
        },
        "id": "Cb_VMib-Ik2I",
        "outputId": "abc1ff86-3782-4321-9c9f-de03b1f4bb01"
      },
      "outputs": [
        {
          "output_type": "stream",
          "name": "stdout",
          "text": [
            "`obj` has type `<class 'pandas.core.series.Series'>`:\n",
            "\n",
            "0   -1\n",
            "1    2\n",
            "2   -3\n",
            "3    4\n",
            "4   -5\n",
            "dtype: int64\n"
          ]
        }
      ],
      "source": [
        "obj = Series([-1, 2, -3, 4, -5])\n",
        "print(f\"`obj` has type `{type(obj)}`:\\n\\n{obj}\")"
      ]
    },
    {
      "cell_type": "markdown",
      "metadata": {
        "id": "dh9b6WDJIk2J"
      },
      "source": [
        "Observe the common **base type** (`dtype: int64`) and **index** (element numbers)."
      ]
    },
    {
      "cell_type": "markdown",
      "metadata": {
        "id": "RSLCTtnrIk2J"
      },
      "source": [
        "Regarding the base type, a `Series` differs from a Python `list` in that the types of its elements are assumed to be the same. Doing so allows many operations on a `Series` to be faster than their counterparts for `list` objects, as in this search example."
      ]
    },
    {
      "cell_type": "code",
      "execution_count": null,
      "metadata": {
        "colab": {
          "base_uri": "https://localhost:8080/"
        },
        "id": "AAYqiLQPIk2J",
        "outputId": "7456a643-5624-41c4-853f-bf53a213d53c"
      },
      "outputs": [
        {
          "output_type": "stream",
          "name": "stdout",
          "text": [
            "\n",
            "Creating random `list` and `Series` objects:\n",
            "- Length: 10000000 elements\n",
            "- Range: [-50000000, 50000000]\n",
            "\n",
            "==> Estimating time to search the `list`:\n",
            "176 ms ± 31.2 ms per loop (mean ± std. dev. of 7 runs, 10 loops each)\n",
            "\n",
            "==> Estimating time to search the `Series`:\n",
            "51 ms ± 8.39 ms per loop (mean ± std. dev. of 7 runs, 10 loops each)\n",
            "\n",
            "==> (`list` time) divided by `Series` time is roughly 3.5x\n"
          ]
        }
      ],
      "source": [
        "from random import randint\n",
        "n_ints = 10000000\n",
        "max_value = 5*n_ints\n",
        "\n",
        "print(f\"\"\"\n",
        "Creating random `list` and `Series` objects:\n",
        "- Length: {n_ints} elements\n",
        "- Range: [{-max_value}, {max_value}]\n",
        "\"\"\")\n",
        "a_list = [randint(-max_value, max_value) for _ in range(n_ints)]\n",
        "a_series = Series(a_list)\n",
        "\n",
        "print(\"==> Estimating time to search the `list`:\")\n",
        "t_list_search = %timeit -o randint(-max_value, max_value) in a_list\n",
        "\n",
        "print(\"\\n==> Estimating time to search the `Series`:\")\n",
        "t_series_search = %timeit -o a_series.isin([randint(-max_value, max_value)])\n",
        "\n",
        "print(f\"\\n==> (`list` time) divided by `Series` time is roughly {t_list_search.average / t_series_search.average:.1f}x\")"
      ]
    },
    {
      "cell_type": "markdown",
      "metadata": {
        "id": "Xz4vgXGAIk2K"
      },
      "source": [
        "If you create a `Series` with \"mixed types,\" the `dtype` will become the most generic Python type, `object`. (A deeper understanding of what this fact means requires some knowledge of object-oriented programming, but that won't be necessary for our course.)"
      ]
    },
    {
      "cell_type": "code",
      "execution_count": null,
      "metadata": {
        "id": "pAyoJtYwIk2K"
      },
      "outputs": [],
      "source": [
        "obj2 = Series([-1, '2', -3, '4', -5])\n",
        "obj2"
      ]
    },
    {
      "cell_type": "markdown",
      "metadata": {
        "id": "S6Ad8wimIk2K"
      },
      "source": [
        "If you want to query the base type, use:"
      ]
    },
    {
      "cell_type": "code",
      "execution_count": null,
      "metadata": {
        "id": "JNgizKvLIk2L"
      },
      "outputs": [],
      "source": [
        "print(obj.dtype)\n",
        "print(obj2.dtype)"
      ]
    },
    {
      "cell_type": "markdown",
      "metadata": {
        "id": "Qu11OGBWIk2L"
      },
      "source": [
        "Regarding the index, it provides a convenient way to reference individual elements of the `Series`."
      ]
    },
    {
      "cell_type": "markdown",
      "metadata": {
        "id": "_8lYFxW8Ik2L"
      },
      "source": [
        "By default, a `Series` has an index that is akin to `range()` in standard Python, and effectively numbers the entries from 0 to `n-1`, where `n` is the length of the `Series`. A `Series` object also becomes list-like in how you reference its elements."
      ]
    },
    {
      "cell_type": "code",
      "execution_count": null,
      "metadata": {
        "scrolled": true,
        "id": "XRMp5bz4Ik2L"
      },
      "outputs": [],
      "source": [
        "print(f\"obj.index: {obj.index}\")\n",
        "print(f\"range(0, 5): {range(0, 5)}\")"
      ]
    },
    {
      "cell_type": "code",
      "execution_count": null,
      "metadata": {
        "id": "VfGOOAFUIk2L"
      },
      "outputs": [],
      "source": [
        "print(f\"==> obj[2]:\\n{obj[2]}\\n\")\n",
        "print(f\"==> obj[3]:\\n{obj[3]}\\n\")\n",
        "print(f\"==> obj[1:3]:\\n{obj[1:4]}\\n\")"
      ]
    },
    {
      "cell_type": "markdown",
      "metadata": {
        "id": "2yG8k4cIIk2L"
      },
      "source": [
        "You can also use more complex index objects, like lists of integers and conditional masks."
      ]
    },
    {
      "cell_type": "code",
      "execution_count": null,
      "metadata": {
        "id": "pV-jcBciIk2L"
      },
      "outputs": [],
      "source": [
        "I = [0, 2, 3]\n",
        "obj[I] # Also: obj[[0, 2, 3]]"
      ]
    },
    {
      "cell_type": "code",
      "execution_count": null,
      "metadata": {
        "id": "DTVTebeFIk2L"
      },
      "outputs": [],
      "source": [
        "I_pos = obj > 0\n",
        "print(type(I_pos), I_pos)"
      ]
    },
    {
      "cell_type": "code",
      "execution_count": null,
      "metadata": {
        "id": "MrNbM6DuIk2M"
      },
      "outputs": [],
      "source": [
        "print(obj[I_pos])"
      ]
    },
    {
      "cell_type": "markdown",
      "metadata": {
        "id": "_hgpbIJsIk2M"
      },
      "source": [
        "However, the index can be a more general structure, which effectively turns a `Series` object into something that is \"dictionary-like.\""
      ]
    },
    {
      "cell_type": "code",
      "execution_count": null,
      "metadata": {
        "id": "MU044LJpIk2M"
      },
      "outputs": [],
      "source": [
        "obj3 = Series([      1,    -2,       3,     -4,        5,      -6],\n",
        "              ['alice', 'bob', 'carol', 'dave', 'esther', 'frank'])\n",
        "obj3"
      ]
    },
    {
      "cell_type": "code",
      "execution_count": null,
      "metadata": {
        "id": "4ydXBxyfIk2M"
      },
      "outputs": [],
      "source": [
        "print(f\"* obj3['bob']: {obj3['bob']}\\n\")\n",
        "print(f\"* obj3['carol']: {obj3['carol']}\\n\")"
      ]
    },
    {
      "cell_type": "markdown",
      "metadata": {
        "id": "TqFxx2WpIk2M"
      },
      "source": [
        "In fact, you can construct a `Series` from a dictionary directly:"
      ]
    },
    {
      "cell_type": "code",
      "execution_count": null,
      "metadata": {
        "id": "EZPZm6z-Ik2M"
      },
      "outputs": [],
      "source": [
        "peeps = {'alice': 1, 'carol': 3, 'esther': 5, 'bob': -2, 'dave': -4, 'frank': -6}\n",
        "obj4 = Series(peeps)\n",
        "print(obj4)"
      ]
    },
    {
      "cell_type": "code",
      "execution_count": null,
      "metadata": {
        "id": "O-wsMVaHIk2M"
      },
      "outputs": [],
      "source": [
        "evens = [0, 2, 4] # list of integer offsets\n",
        "print(f\"* `evens` of `obj3` at offsets {evens}:\\n{obj3[evens]}\\n\")"
      ]
    },
    {
      "cell_type": "code",
      "execution_count": null,
      "metadata": {
        "id": "JD72MsepIk2N"
      },
      "outputs": [],
      "source": [
        "odds = ['bob', 'dave', 'frank'] # list of index values\n",
        "print(f\"* `odds`, by their names, {odds}:\\n{obj3[odds]}\")"
      ]
    },
    {
      "cell_type": "code",
      "execution_count": null,
      "metadata": {
        "id": "NEHwyzzAIk2N"
      },
      "outputs": [],
      "source": [
        "I_neg = obj3 < 0\n",
        "print(I_neg)"
      ]
    },
    {
      "cell_type": "code",
      "execution_count": null,
      "metadata": {
        "id": "bPXNKiUAIk2N"
      },
      "outputs": [],
      "source": [
        "print(obj3[I_neg])"
      ]
    },
    {
      "cell_type": "markdown",
      "metadata": {
        "id": "hsCMSsfdIk2N"
      },
      "source": [
        "Because of the dictionary-like naming of `Series` elements, you can use the Python `in` operator in the same way you would a dictionary.\n",
        "\n",
        "> Note: In the timing experiment comparing `list` search and `Series` search, you may have noticed that the benchmark does not use `in`, but rather, `Series.isin`. Why is that?"
      ]
    },
    {
      "cell_type": "code",
      "execution_count": null,
      "metadata": {
        "id": "4C2M3CBMIk2N"
      },
      "outputs": [],
      "source": [
        "print('carol' in peeps)\n",
        "print('carol' in obj3)"
      ]
    },
    {
      "cell_type": "markdown",
      "metadata": {
        "id": "D_tQw8HCIk2N"
      },
      "source": [
        "Basic arithmetic works on `Series` as vector-like operations."
      ]
    },
    {
      "cell_type": "code",
      "execution_count": null,
      "metadata": {
        "id": "DXTlss0wIk2N"
      },
      "outputs": [],
      "source": [
        "print(obj3, \"\\n\")\n",
        "print(obj3 + 5, \"\\n\")\n",
        "print(obj3 + 5 > 0, \"\\n\")\n",
        "print((-2.5 * obj3) + (obj3 + 5))"
      ]
    },
    {
      "cell_type": "markdown",
      "metadata": {
        "id": "Zu5nnVmhIk2N"
      },
      "source": [
        "A `Series` object also supports vector-style operations with automatic alignment based on index values."
      ]
    },
    {
      "cell_type": "code",
      "execution_count": null,
      "metadata": {
        "id": "Zatqhg9XIk2N"
      },
      "outputs": [],
      "source": [
        "print(obj3)"
      ]
    },
    {
      "cell_type": "code",
      "execution_count": null,
      "metadata": {
        "id": "Ug2qtEPRIk2O"
      },
      "outputs": [],
      "source": [
        "obj_l = obj3[evens]\n",
        "obj_l"
      ]
    },
    {
      "cell_type": "code",
      "execution_count": null,
      "metadata": {
        "id": "DL6NNebnIk2O"
      },
      "outputs": [],
      "source": [
        "obj3 + obj_l"
      ]
    },
    {
      "cell_type": "markdown",
      "metadata": {
        "id": "mZSITKDMIk2O"
      },
      "source": [
        "Observe what happened with undefined elements. If you are familiar with relational databases, this behavior is akin to an _outer-join_."
      ]
    },
    {
      "cell_type": "markdown",
      "metadata": {
        "id": "MZcOK1ajIk2O"
      },
      "source": [
        "Another useful transformation is the `.apply(fun)` method. It returns a copy of the `Series` where the function `fun` has been applied to each element. For example:"
      ]
    },
    {
      "cell_type": "code",
      "execution_count": null,
      "metadata": {
        "id": "dJqrCezQIk2O"
      },
      "outputs": [],
      "source": [
        "abs(-5) # Python built-in function"
      ]
    },
    {
      "cell_type": "code",
      "execution_count": null,
      "metadata": {
        "id": "nWp5bBasIk2P"
      },
      "outputs": [],
      "source": [
        "obj3 # Recall"
      ]
    },
    {
      "cell_type": "code",
      "execution_count": null,
      "metadata": {
        "id": "iZ0cALG3Ik2P"
      },
      "outputs": [],
      "source": [
        "obj3.apply(abs)"
      ]
    },
    {
      "cell_type": "code",
      "execution_count": null,
      "metadata": {
        "id": "-l3yZOG1Ik2P"
      },
      "outputs": [],
      "source": [
        "obj3 # Note: `.apply()` returned a copy, so the original is untouched"
      ]
    },
    {
      "cell_type": "markdown",
      "metadata": {
        "id": "zctKTGQGIk2P"
      },
      "source": [
        "A `Series` may be _named_, too."
      ]
    },
    {
      "cell_type": "code",
      "execution_count": null,
      "metadata": {
        "id": "5dpLJfMKIk2P"
      },
      "outputs": [],
      "source": [
        "print(obj3.name)"
      ]
    },
    {
      "cell_type": "code",
      "execution_count": null,
      "metadata": {
        "scrolled": true,
        "id": "7KtqxfrZIk2P"
      },
      "outputs": [],
      "source": [
        "obj3.name = 'peep'\n",
        "obj3"
      ]
    },
    {
      "cell_type": "markdown",
      "metadata": {
        "id": "I8dt7lV1Ik2P"
      },
      "source": [
        "When we move on to `DataFrame` objects, you'll see why names matter."
      ]
    },
    {
      "cell_type": "markdown",
      "metadata": {
        "id": "rZ8rawWPIk2Q"
      },
      "source": [
        "# `DataFrame` objects\n",
        "\n",
        "A pandas [`DataFrame`](https://pandas.pydata.org/pandas-docs/stable/generated/pandas.DataFrame.html) object is a table whose columns are `Series` objects, all keyed on the same index. It's the perfect container for what we have been referring to as a tibble."
      ]
    },
    {
      "cell_type": "code",
      "execution_count": null,
      "metadata": {
        "id": "dYcsqU-rIk2Q"
      },
      "outputs": [],
      "source": [
        "cafes = DataFrame({'name': ['east pole', 'chrome yellow', 'brash', 'taproom', '3heart', 'spiller park pcm', 'refuge', 'academy'],\n",
        "                   'zip': [30324, 30312, 30318, 30317, 30306, 30308, 30303, 30306],\n",
        "                   'poc': ['jared', 'kelly', 'matt', 'jonathan', 'nhan', 'dale', 'kitti', 'conan']})\n",
        "print(\"type:\", type(cafes))\n",
        "print(cafes)"
      ]
    },
    {
      "cell_type": "code",
      "execution_count": null,
      "metadata": {
        "id": "d0bHkH8hIk2Q"
      },
      "outputs": [],
      "source": [
        "display(cafes) # Or just `cafes` as the last line of a cell"
      ]
    },
    {
      "cell_type": "markdown",
      "metadata": {
        "id": "9Af-sulaIk2Q"
      },
      "source": [
        "The `DataFrame` has named columns, which are stored as an `Index` (more later!):"
      ]
    },
    {
      "cell_type": "code",
      "execution_count": null,
      "metadata": {
        "id": "okUUzBtKIk2Q"
      },
      "outputs": [],
      "source": [
        "cafes.columns"
      ]
    },
    {
      "cell_type": "markdown",
      "metadata": {
        "id": "9g5vo35DIk2Q"
      },
      "source": [
        "Each column is a named `Series`:"
      ]
    },
    {
      "cell_type": "code",
      "execution_count": null,
      "metadata": {
        "id": "cK2g9ExeIk2Q"
      },
      "outputs": [],
      "source": [
        "type(cafes['zip']) # Aha!"
      ]
    },
    {
      "cell_type": "markdown",
      "metadata": {
        "id": "wtnt8IdZIk2R"
      },
      "source": [
        "As you might expect, these `Series` objects should all have the same index."
      ]
    },
    {
      "cell_type": "code",
      "execution_count": null,
      "metadata": {
        "id": "qqPUjUXbIk2R"
      },
      "outputs": [],
      "source": [
        "cafes.index"
      ]
    },
    {
      "cell_type": "code",
      "execution_count": null,
      "metadata": {
        "scrolled": true,
        "id": "LR8Kr7YHIk2R"
      },
      "outputs": [],
      "source": [
        "cafes.index == cafes['zip'].index"
      ]
    },
    {
      "cell_type": "code",
      "execution_count": null,
      "metadata": {
        "id": "Uj1g6fvDIk2R"
      },
      "outputs": [],
      "source": [
        "cafes['zip'].index == cafes['poc'].index"
      ]
    },
    {
      "cell_type": "markdown",
      "metadata": {
        "id": "d40kgdzVIk2R"
      },
      "source": [
        "You may use complex indexing of columns."
      ]
    },
    {
      "cell_type": "code",
      "execution_count": null,
      "metadata": {
        "scrolled": false,
        "id": "kJg2Y0ceIk2R"
      },
      "outputs": [],
      "source": [
        "target_fields = ['zip', 'poc']\n",
        "cafes[target_fields]"
      ]
    },
    {
      "cell_type": "markdown",
      "metadata": {
        "id": "um3rToCDIk2R"
      },
      "source": [
        "But slices apply to rows."
      ]
    },
    {
      "cell_type": "code",
      "execution_count": null,
      "metadata": {
        "id": "mPpWSbKEIk2R"
      },
      "outputs": [],
      "source": [
        "cafes[1::2]"
      ]
    },
    {
      "cell_type": "markdown",
      "metadata": {
        "id": "HpeVpVbqIk2R"
      },
      "source": [
        "The index above is, by default, an integer range."
      ]
    },
    {
      "cell_type": "code",
      "execution_count": null,
      "metadata": {
        "id": "0ep1Pl1QIk2S"
      },
      "outputs": [],
      "source": [
        "cafes.index"
      ]
    },
    {
      "cell_type": "code",
      "execution_count": null,
      "metadata": {
        "id": "VwAcZ_DXIk2S"
      },
      "outputs": [],
      "source": [
        "cafes2 = cafes[['poc', 'zip']]\n",
        "cafes2.index = cafes['name']\n",
        "cafes2.index.name = None\n",
        "cafes2"
      ]
    },
    {
      "cell_type": "markdown",
      "metadata": {
        "id": "Y-z4IHCJIk2S"
      },
      "source": [
        "You can access subsets of rows using the `.loc` field and index values:"
      ]
    },
    {
      "cell_type": "code",
      "execution_count": null,
      "metadata": {
        "id": "G8ILRLt0Ik2S"
      },
      "outputs": [],
      "source": [
        "cafes2.loc[['chrome yellow', '3heart']]"
      ]
    },
    {
      "cell_type": "markdown",
      "metadata": {
        "id": "UtwRiCrTIk2S"
      },
      "source": [
        "Alternatively, you can use integer offsets via the `.iloc` field, which is 0-based."
      ]
    },
    {
      "cell_type": "code",
      "execution_count": null,
      "metadata": {
        "id": "jjt3XelrIk2S"
      },
      "outputs": [],
      "source": [
        "cafes2.iloc[[1, 3]]"
      ]
    },
    {
      "cell_type": "markdown",
      "metadata": {
        "id": "PWKU0ydsIk2S"
      },
      "source": [
        "Adding columns is easy. Suppose every cafe has a 4-star rating on Yelp! and a two-dollar-sign cost:"
      ]
    },
    {
      "cell_type": "code",
      "execution_count": null,
      "metadata": {
        "id": "Vvr3Z5_uIk2S"
      },
      "outputs": [],
      "source": [
        "cafes2['rating'] = 4.0\n",
        "cafes2['price'] = '$$'\n",
        "cafes2"
      ]
    },
    {
      "cell_type": "markdown",
      "metadata": {
        "id": "HuLHz5GoIk2S"
      },
      "source": [
        "And vector arithmetic should work on columns as expected."
      ]
    },
    {
      "cell_type": "code",
      "execution_count": null,
      "metadata": {
        "id": "m3YmahGVIk2S"
      },
      "outputs": [],
      "source": [
        "prices_as_ints = cafes2['price'].apply(lambda s: len(s))\n",
        "prices_as_ints"
      ]
    },
    {
      "cell_type": "code",
      "execution_count": null,
      "metadata": {
        "id": "sxfbeyjvIk2S"
      },
      "outputs": [],
      "source": [
        "cafes2['value'] = cafes2['rating'] / prices_as_ints\n",
        "cafes2"
      ]
    },
    {
      "cell_type": "markdown",
      "metadata": {
        "id": "Gi1upjB-Ik2S"
      },
      "source": [
        "Because the columns are `Series` objects, there is an implicit matching that is happening on the indexes. In the preceding example, it works because all the `Series` objects involved have identical indexes."
      ]
    },
    {
      "cell_type": "markdown",
      "metadata": {
        "id": "9dhCKcItIk2T"
      },
      "source": [
        "However, the following will not work as intended because referencing rows yields copies.\n",
        "\n",
        "For instance, suppose there is a price hike of one more `'$'` for being in the 30306 and 30308 zip codes. (If you are in Atlanta, you may know that these are the zip codes that place you close to, or in, [Ponce City Market](http://poncecitymarket.com/) and the [Eastside Beltline Trail](https://beltline.org/explore-atlanta-beltline-trails/eastside-trail/)!) Let's increase the price there, on a copy of the dataframe, `cafes3`."
      ]
    },
    {
      "cell_type": "code",
      "execution_count": null,
      "metadata": {
        "id": "Z85sQpz9Ik2T"
      },
      "outputs": [],
      "source": [
        "cafes3 = cafes2.copy()\n",
        "cafes3"
      ]
    },
    {
      "cell_type": "code",
      "execution_count": null,
      "metadata": {
        "id": "Lqoa6eiTIk2T"
      },
      "outputs": [],
      "source": [
        "is_fancy = cafes3['zip'].isin({30306, 30308})\n",
        "# Alternative:\n",
        "#is_fancy = cafes3['zip'].apply(lambda z: z in {30306, 30308})\n",
        "is_fancy"
      ]
    },
    {
      "cell_type": "code",
      "execution_count": null,
      "metadata": {
        "id": "oVRI5Q-pIk2T"
      },
      "outputs": [],
      "source": [
        "cafes3[is_fancy]"
      ]
    },
    {
      "cell_type": "code",
      "execution_count": null,
      "metadata": {
        "id": "ml80-5fvIk2T"
      },
      "outputs": [],
      "source": [
        "# Recall: Legal Python for string concatenation\n",
        "s = '$$'\n",
        "s += '$'\n",
        "print(s)"
      ]
    },
    {
      "cell_type": "code",
      "execution_count": null,
      "metadata": {
        "id": "CNAPXjT8Ik2T"
      },
      "outputs": [],
      "source": [
        "cafes3[is_fancy]['price'] += '$'"
      ]
    },
    {
      "cell_type": "markdown",
      "metadata": {
        "id": "xyyvCZOiIk2U"
      },
      "source": [
        "What does that error message mean? Let's see if anything changed."
      ]
    },
    {
      "cell_type": "code",
      "execution_count": null,
      "metadata": {
        "id": "EypqLnuyIk2U"
      },
      "outputs": [],
      "source": [
        "cafes3"
      ]
    },
    {
      "cell_type": "markdown",
      "metadata": {
        "id": "FQe9JdtYIk2U"
      },
      "source": [
        "Nope! When you slice horizontally, you get copies of the original data, not references to subsets of the original data. Therefore, we'll need different strategy.\n",
        "\n",
        "Observe that the error message suggests a way!"
      ]
    },
    {
      "cell_type": "code",
      "execution_count": null,
      "metadata": {
        "scrolled": true,
        "id": "dQHeuFCwIk2U"
      },
      "outputs": [],
      "source": [
        "cafes3.loc[is_fancy, 'price'] += '$'\n",
        "cafes3"
      ]
    },
    {
      "cell_type": "markdown",
      "metadata": {
        "id": "Bu0s1hUsIk2U"
      },
      "source": [
        "**A different approach.** For pedagogical purposes, let's see if we can go about solving this problem in other ways to see what might or might not work."
      ]
    },
    {
      "cell_type": "code",
      "execution_count": null,
      "metadata": {
        "id": "0WvQcY4bIk2U"
      },
      "outputs": [],
      "source": [
        "cafes4 = cafes2.copy() # Start over\n",
        "cafes4"
      ]
    },
    {
      "cell_type": "markdown",
      "metadata": {
        "id": "dNBfZeFiIk2U"
      },
      "source": [
        "Based on the earlier discussion, a well-educated first attempt might be to construct a `Series` with a named index, where the index values for fancy neighborhoods have an additional `'$'`, and then use string concatentation."
      ]
    },
    {
      "cell_type": "code",
      "execution_count": null,
      "metadata": {
        "id": "UQH1pI7kIk2U"
      },
      "outputs": [],
      "source": [
        "fancy_shops = cafes4.index[is_fancy]\n",
        "fancy_shops"
      ]
    },
    {
      "cell_type": "code",
      "execution_count": null,
      "metadata": {
        "id": "yHOOSJDxIk2U"
      },
      "outputs": [],
      "source": [
        "fancy_markup = Series(['$'] * len(fancy_shops), index=fancy_shops)\n",
        "fancy_markup"
      ]
    },
    {
      "cell_type": "code",
      "execution_count": null,
      "metadata": {
        "id": "vn7I_stfIk2V"
      },
      "outputs": [],
      "source": [
        "cafes4['price'] + fancy_markup"
      ]
    },
    {
      "cell_type": "markdown",
      "metadata": {
        "id": "4acfA_dUIk2V"
      },
      "source": [
        "Close! Remember that missing values are treated as `NaN` objects.\n",
        "\n",
        "**Exercise**. Develop an alternative scheme."
      ]
    },
    {
      "cell_type": "code",
      "execution_count": null,
      "metadata": {
        "id": "XzgpMG4EIk2V"
      },
      "outputs": [],
      "source": [
        "# Preliminary observation:\n",
        "print(\"False * '$' == '{}'\".format(False * '$'))\n",
        "print(\"True * '$' == '{}'\".format(True * '$'))"
      ]
    },
    {
      "cell_type": "code",
      "execution_count": null,
      "metadata": {
        "id": "ip5cpSFhIk2V"
      },
      "outputs": [],
      "source": [
        "cafes4 = cafes2.copy()\n",
        "cafes4['price'] += Series([x * '$' for x in is_fancy.tolist()], index=is_fancy.index)\n",
        "cafes4"
      ]
    },
    {
      "cell_type": "markdown",
      "metadata": {
        "id": "yfp9xju5Ik2V"
      },
      "source": [
        "**More on `apply()` for `DataFrame` objects.** As with a `Series`, there is a `DataFrame.apply()` procedure. However, it's meaning is a bit more nuanced because a `DataFrame` is generally 2-D rather than 1-D."
      ]
    },
    {
      "cell_type": "code",
      "execution_count": null,
      "metadata": {
        "id": "IY43HOeiIk2V"
      },
      "outputs": [],
      "source": [
        "cafes4.apply(lambda x: repr(type(x))) # What does this do? What does the output tell you?"
      ]
    },
    {
      "cell_type": "markdown",
      "metadata": {
        "id": "RRbCUfz6Ik2W"
      },
      "source": [
        "A useful parameter is `axis`:"
      ]
    },
    {
      "cell_type": "code",
      "execution_count": null,
      "metadata": {
        "id": "wodYdtjqIk2W"
      },
      "outputs": [],
      "source": [
        "cafes4.apply(lambda x: repr(type(x)), axis=1) # What does this do? What does the output tell you?"
      ]
    },
    {
      "cell_type": "markdown",
      "metadata": {
        "id": "1pRfWV4yIk2X"
      },
      "source": [
        "And just to quickly verify what you get when `axis=1`:"
      ]
    },
    {
      "cell_type": "code",
      "execution_count": null,
      "metadata": {
        "id": "M9kM9OGkIk2X"
      },
      "outputs": [],
      "source": [
        "cafes4.apply(lambda x: print('==> ' + x.name + '\\n' + repr(x)) if x.name == 'east pole' else None, axis=1);"
      ]
    },
    {
      "cell_type": "markdown",
      "metadata": {
        "id": "kUO5TePzIk2X"
      },
      "source": [
        "**Exercise.** Use `DataFrame.apply()` to update the `'value'` column in `cafes4`, which is out of date given the update of the prices."
      ]
    },
    {
      "cell_type": "code",
      "execution_count": null,
      "metadata": {
        "id": "R2BTTA3eIk2X"
      },
      "outputs": [],
      "source": [
        "cafes4 # Verify visually that `'value'` is out of date"
      ]
    },
    {
      "cell_type": "code",
      "execution_count": null,
      "metadata": {
        "id": "mPjUFYRTIk2X"
      },
      "outputs": [],
      "source": [
        "def calc_value(row):\n",
        "    return row['rating'] / len(row['price'])\n",
        "\n",
        "cafes4['value'] = cafes4.apply(calc_value, axis=1)\n",
        "cafes4"
      ]
    },
    {
      "cell_type": "markdown",
      "metadata": {
        "id": "shc-pv00Ik2X"
      },
      "source": [
        "Another useful operation is gluing `DataFrame` objects together. There are several helpful operations covered in Notebook 7; one not mentioned there, but useful in one of its exercises, is `.concat()`."
      ]
    },
    {
      "cell_type": "code",
      "execution_count": null,
      "metadata": {
        "id": "4RR-7t8OIk2X"
      },
      "outputs": [],
      "source": [
        "# Split based on price\n",
        "is_cheap = cafes4['price'] <= '$$'\n",
        "cafes_cheap = cafes4[is_cheap]\n",
        "cafes_pricey = cafes4[~is_cheap]\n",
        "\n",
        "display(cafes_cheap)\n",
        "display(cafes_pricey)"
      ]
    },
    {
      "cell_type": "code",
      "execution_count": null,
      "metadata": {
        "id": "VDTbBKL1Ik2X"
      },
      "outputs": [],
      "source": [
        "# Never mind; recombine\n",
        "pd.concat([cafes_cheap, cafes_pricey])"
      ]
    },
    {
      "cell_type": "markdown",
      "metadata": {
        "id": "gHIyOI9-Ik2X"
      },
      "source": [
        "## More on index objects\n",
        "\n",
        "A pandas [`Index`](https://pandas.pydata.org/pandas-docs/stable/generated/pandas.Index.html), used by `Series` and `DataFrame`, is \"list-like.\" It has a number of useful operations, including set-like operations (e.g., testing for membership, intersection, union, difference):"
      ]
    },
    {
      "cell_type": "code",
      "execution_count": null,
      "metadata": {
        "collapsed": true,
        "id": "es2YhzSPIk2Y"
      },
      "outputs": [],
      "source": [
        "from pandas import Index"
      ]
    },
    {
      "cell_type": "code",
      "execution_count": null,
      "metadata": {
        "id": "eGb7oHRPIk2Y"
      },
      "outputs": [],
      "source": [
        "cafes4.index"
      ]
    },
    {
      "cell_type": "code",
      "execution_count": null,
      "metadata": {
        "id": "It9Dq11dIk2Y"
      },
      "outputs": [],
      "source": [
        "cafes4.index.isin(['brash', '3heart'])"
      ]
    },
    {
      "cell_type": "code",
      "execution_count": null,
      "metadata": {
        "id": "tBuMH9ewIk2Y"
      },
      "outputs": [],
      "source": [
        "cafes4.index.union(['chattahoochee'])"
      ]
    },
    {
      "cell_type": "code",
      "execution_count": null,
      "metadata": {
        "id": "tYDjdUwEIk2Y"
      },
      "outputs": [],
      "source": [
        "cafes4.index.difference(['chattahoochee', 'starbucks', 'bar crema'])"
      ]
    },
    {
      "cell_type": "markdown",
      "metadata": {
        "id": "63T25rXrIk2Y"
      },
      "source": [
        "If you need to change the index of a `DataFrame`, here is one way to do it."
      ]
    },
    {
      "cell_type": "code",
      "execution_count": null,
      "metadata": {
        "id": "jTTB6IHBIk2Y"
      },
      "outputs": [],
      "source": [
        "cafes5 = cafes4.reindex(Index(['3heart', 'east pole', 'brash', 'starbucks']))\n",
        "\n",
        "display(cafes4)\n",
        "display(cafes5)"
      ]
    },
    {
      "cell_type": "markdown",
      "metadata": {
        "id": "Fqr8tt_7Ik2Y"
      },
      "source": [
        "Observe that this reindexing operation matches the supplied index values against the existing ones. (What happens to index values you leave out? What happens with new index values?)"
      ]
    },
    {
      "cell_type": "markdown",
      "metadata": {
        "id": "lFxKTfouIk2Y"
      },
      "source": [
        "Another useful operation is dropping the index (and replacing it with the default, integers)."
      ]
    },
    {
      "cell_type": "code",
      "execution_count": null,
      "metadata": {
        "id": "85EKuyq9Ik2Y"
      },
      "outputs": [],
      "source": [
        "cafes6 = cafes4.reset_index(drop=True)\n",
        "cafes6['name'] = cafes4.index\n",
        "cafes6"
      ]
    },
    {
      "cell_type": "markdown",
      "metadata": {
        "id": "D9t1PpX_Ik2Y"
      },
      "source": [
        "**Fin!** That's the end of these notes. With this information as background, you should be able to complete Notebook 7."
      ]
    }
  ],
  "metadata": {
    "kernel_info": {
      "name": "python3"
    },
    "kernelspec": {
      "display_name": "Python 3.8",
      "language": "python",
      "name": "python38"
    },
    "language_info": {
      "codemirror_mode": {
        "name": "ipython",
        "version": 3
      },
      "file_extension": ".py",
      "mimetype": "text/x-python",
      "name": "python",
      "nbconvert_exporter": "python",
      "pygments_lexer": "ipython3",
      "version": "3.8.7"
    },
    "nteract": {
      "version": "0.11.7"
    },
    "colab": {
      "provenance": [],
      "toc_visible": true,
      "include_colab_link": true
    }
  },
  "nbformat": 4,
  "nbformat_minor": 0
}