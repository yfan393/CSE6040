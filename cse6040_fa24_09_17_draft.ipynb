{
  "nbformat": 4,
  "nbformat_minor": 0,
  "metadata": {
    "colab": {
      "provenance": [],
      "include_colab_link": true
    },
    "kernelspec": {
      "name": "python3",
      "display_name": "Python 3"
    },
    "language_info": {
      "name": "python"
    }
  },
  "cells": [
    {
      "cell_type": "markdown",
      "metadata": {
        "id": "view-in-github",
        "colab_type": "text"
      },
      "source": [
        "<a href=\"https://colab.research.google.com/github/yfan393/CSE6040/blob/main/cse6040_fa24_09_17_draft.ipynb\" target=\"_parent\"><img src=\"https://colab.research.google.com/assets/colab-badge.svg\" alt=\"Open In Colab\"/></a>"
      ]
    },
    {
      "cell_type": "markdown",
      "source": [
        "# Link to this notebook: [`bit.ly/3MMb41J`](https://bit.ly/3MMb41J)"
      ],
      "metadata": {
        "id": "2KM8m_HQCFxt"
      }
    },
    {
      "cell_type": "code",
      "source": [
        "from random import seed, uniform\n",
        "\n",
        "seed(1_234_567_890)\n",
        "x = [uniform(-10, 10) for _ in range(10)]\n",
        "x"
      ],
      "metadata": {
        "colab": {
          "base_uri": "https://localhost:8080/"
        },
        "id": "K4UMhjnBJBjv",
        "outputId": "950f229c-b0e8-4975-e692-d76d1c36924d"
      },
      "execution_count": null,
      "outputs": [
        {
          "output_type": "execute_result",
          "data": {
            "text/plain": [
              "[8.41365256654997,\n",
              " 2.7020040393860363,\n",
              " -1.1295771272030315,\n",
              " 6.137688696249985,\n",
              " 7.85369690569706,\n",
              " 6.162602500071667,\n",
              " -4.901995974314595,\n",
              " -8.320911758992297,\n",
              " -7.229317296469695,\n",
              " -1.3654382288286016]"
            ]
          },
          "metadata": {},
          "execution_count": 7
        }
      ]
    },
    {
      "cell_type": "markdown",
      "source": [
        "# Higher-order functions (Notebook 2) #\n",
        "\n",
        "**Functions are objects!** That is, you can think of a function as having a \"value,\" and you can pass functions around like you would other kinds of values like floats, strings, and so on."
      ],
      "metadata": {
        "id": "8j_-Cp0zDWQg"
      }
    },
    {
      "cell_type": "code",
      "source": [
        "def generate_hello(recipient):\n",
        "    return f\"Hello there, {recipient}, it's so good to see you again.\"\n",
        "\n",
        "generate_hello(\"Alice\")"
      ],
      "metadata": {
        "id": "25lUVAkBDVBJ"
      },
      "execution_count": null,
      "outputs": []
    },
    {
      "cell_type": "code",
      "source": [
        "print(2.71828)\n",
        "print(generate_hello)"
      ],
      "metadata": {
        "id": "KeUk7Mf_Doth"
      },
      "execution_count": null,
      "outputs": []
    },
    {
      "cell_type": "markdown",
      "source": [
        "By implication, the _name_ of a function is distinct from its value. You can use **lambdas** to create an unnamed, or _anonymous_, function value."
      ],
      "metadata": {
        "id": "mKljrIBvDuqM"
      }
    },
    {
      "cell_type": "code",
      "source": [
        "lambda recipient: f\"Goodbye, {recipient}, hope to see you again soon.\""
      ],
      "metadata": {
        "id": "I0lzhcVzDtDR"
      },
      "execution_count": null,
      "outputs": []
    },
    {
      "cell_type": "code",
      "source": [
        "# Example: Call a lambda object\n",
        "\n",
        "lambda you: f\"I'm afraid. I'm afraid, {you}. {you}, my mind is going. I can feel it.\""
      ],
      "metadata": {
        "id": "Lm0gkS8bD0Ms"
      },
      "execution_count": null,
      "outputs": []
    },
    {
      "cell_type": "markdown",
      "source": [
        "**An application: generalizing function-ality via higher-order functions.** A higher-order function is a function that takes another function as a value and uses it.\n",
        "\n",
        "Let's apply this concept to a part of Notebook 2 (Exercise 8)."
      ],
      "metadata": {
        "id": "CT0hZkbdEj8d"
      }
    },
    {
      "cell_type": "code",
      "source": [
        "def make_itemsets(baskets):\n",
        "    return [set(b) for b in baskets]\n",
        "\n",
        "make_itemsets(['sed', 'ut', 'perspiciatis', 'unde', 'omnis'])"
      ],
      "metadata": {
        "id": "RUCuUYAiFCHH"
      },
      "execution_count": null,
      "outputs": []
    },
    {
      "cell_type": "code",
      "source": [
        "csv_input = \"\"\"citrus fruit,semi-finished bread,margarine,ready soups\n",
        "tropical fruit,yogurt,coffee\n",
        "whole milk\n",
        "pip fruit,yogurt,cream cheese,meat spreads\n",
        "other vegetables,whole milk,condensed milk,long life bakery product\"\"\""
      ],
      "metadata": {
        "id": "npkCDEeyFEQk"
      },
      "execution_count": null,
      "outputs": []
    },
    {
      "cell_type": "code",
      "source": [
        "# Example: Generalize `make_itemsets` to work with input like `csv_input`"
      ],
      "metadata": {
        "id": "1uUrR-EQFHux"
      },
      "execution_count": null,
      "outputs": []
    },
    {
      "cell_type": "markdown",
      "source": [
        "# Default dictionaries (Review) #"
      ],
      "metadata": {
        "id": "P_8zHc9OEGPg"
      }
    },
    {
      "cell_type": "markdown",
      "source": [
        "**Exercise:** Suppose I have a list of pairs of `('student name', assignment-score)` pairs. Construct a native Python `dict` named `scores` that maps each student's name to a Python `list` of their scores."
      ],
      "metadata": {
        "id": "yLFPBMYUCcny"
      }
    },
    {
      "cell_type": "code",
      "execution_count": null,
      "metadata": {
        "id": "H2p4hBxLBnHM"
      },
      "outputs": [],
      "source": [
        "raw_scores = [('Alice', 27), ('Bob', 25), ('Alice', 30), ('Carol', 30), ('Bob', 22), ('Alice', 43)]"
      ]
    },
    {
      "cell_type": "code",
      "source": [
        "### YOUR CODE HERE ###\n",
        "# Should produce: scores = {'Alice': [27, 30, 43], 'Bob': [25, 22], 'Carol': [30]}"
      ],
      "metadata": {
        "id": "Qzi97nTgDB7k"
      },
      "execution_count": null,
      "outputs": []
    },
    {
      "cell_type": "markdown",
      "source": [
        "# New topic: Regular expressions #\n",
        "\n",
        "Some sites for learning or debugging regex:\n",
        "- https://regexone.com — Highly recommended interactive tutorial on basic regex syntax\n",
        "- https://www.debuggex.com (visual!)\n",
        "- https://regex101.com (more full-featured, e.g., supports grouping)\n",
        "- https://regexr.com (similar to regex101 but maybe a nicer UI/UX)"
      ],
      "metadata": {
        "id": "nFCbVxg9EJH_"
      }
    },
    {
      "cell_type": "markdown",
      "source": [
        "**Exercise:** Extract all phone numbers from the following string and return them as a Python list of strings."
      ],
      "metadata": {
        "id": "meaY62lCCj3e"
      }
    },
    {
      "cell_type": "code",
      "source": [
        "message = \"\"\"My number is 510-123-4567 and my zip code is 30306.\n",
        "To call Alice, use 310-836-2746; she gets her paper mail (how archaic!) at\n",
        "123 Main Street, Atlanta, GA 30309-5184. Oh, and then there's Bob, whose\n",
        "digits are 703-813-4861 and zip is 30318.\n",
        "Almost forgot about Carol: 510-361-4766 &\n",
        "30156 (not really an ATLien IMO).\n",
        "(Also, what's up with all the Californians?)\"\"\"\n",
        "\n",
        "print(message)"
      ],
      "metadata": {
        "id": "BPIHomNqCg6x"
      },
      "execution_count": null,
      "outputs": []
    },
    {
      "cell_type": "code",
      "source": [
        "### YOUR CODE HERE ###\n",
        "# You should produce: `['510-123-4567', '310-836-2746', '703-813-4861', '510-361-4766']"
      ],
      "metadata": {
        "id": "zJG0oMU3CulK"
      },
      "execution_count": null,
      "outputs": []
    },
    {
      "cell_type": "code",
      "source": [],
      "metadata": {
        "id": "djWWEZfkDSZr"
      },
      "execution_count": null,
      "outputs": []
    }
  ]
}