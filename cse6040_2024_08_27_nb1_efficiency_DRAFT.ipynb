{
  "cells": [
    {
      "cell_type": "markdown",
      "metadata": {
        "id": "view-in-github",
        "colab_type": "text"
      },
      "source": [
        "<a href=\"https://colab.research.google.com/github/yfan393/CSE6040/blob/main/cse6040_2024_08_27_nb1_efficiency_DRAFT.ipynb\" target=\"_parent\"><img src=\"https://colab.research.google.com/assets/colab-badge.svg\" alt=\"Open In Colab\"/></a>"
      ]
    },
    {
      "cell_type": "markdown",
      "metadata": {
        "id": "zk2SuFP9Pkkt"
      },
      "source": [
        "# CSE 6040, Fall 2024: Efficiency (nb1.1.3) [Aug 27]#\n",
        "\n",
        "Topics in this note:\n",
        "\n",
        "* Exercise nb1.1.3 — contrasting three methods\n",
        "* Extension: Sparse dot products"
      ]
    },
    {
      "cell_type": "markdown",
      "metadata": {
        "id": "xfQkWEGfPkku"
      },
      "source": [
        "## nb1.1.3 — Decompressing a sparse vector ##"
      ]
    },
    {
      "cell_type": "markdown",
      "metadata": {
        "id": "R0rtcmAKPkku"
      },
      "source": [
        "Consider a sparse vector as defined for problem nb1.1.3. A logical vector of length `n`, which is expected to have many zero elements, is stored using a pair of lists that record only the nonzero values and their indices. These two lists are, in turn, wrapped into a dictionary."
      ]
    },
    {
      "cell_type": "code",
      "execution_count": null,
      "metadata": {
        "ExecuteTime": {
          "end_time": "2023-08-31T15:28:52.053608Z",
          "start_time": "2023-08-31T15:28:52.044614Z"
        },
        "id": "e8KDiqySPkku"
      },
      "outputs": [],
      "source": [
        "d = {} # sparse\n",
        "d['vals'] = [1.0, 2.0, 3.0, 4.0, 5.0, 6.0, 7.0]\n",
        "d['inds'] = [0,   3,   7,   3,   3,   5,   1]"
      ]
    },
    {
      "cell_type": "markdown",
      "metadata": {
        "id": "-xCDJkP7Pkkv"
      },
      "source": [
        "This represents the following logical (mathematical) vector:"
      ]
    },
    {
      "cell_type": "code",
      "execution_count": null,
      "metadata": {
        "ExecuteTime": {
          "end_time": "2023-08-31T15:28:52.062585Z",
          "start_time": "2023-08-31T15:28:52.058124Z"
        },
        "id": "bDjstOqfPkkv"
      },
      "outputs": [],
      "source": [
        "#           0    1    2     3\n",
        "x_true = [1.0, 7.0, 0.0, 11.0, 0.0, 6.0, 0.0, 3.0] # dense representation"
      ]
    },
    {
      "cell_type": "code",
      "source": [
        "for i, v in zip(range(len(x_true)), x_true): # i, v in enumerate(x_true)\n",
        "    print(f\"Value {v} is at location {i}\")"
      ],
      "metadata": {
        "colab": {
          "base_uri": "https://localhost:8080/"
        },
        "id": "LLdGVQGxWwlv",
        "outputId": "249851cb-d33c-493a-8fe9-3fc6cc11c979"
      },
      "execution_count": null,
      "outputs": [
        {
          "output_type": "stream",
          "name": "stdout",
          "text": [
            "Value 1.0 is at location 0\n",
            "Value 7.0 is at location 1\n",
            "Value 0.0 is at location 2\n",
            "Value 11.0 is at location 3\n",
            "Value 0.0 is at location 4\n",
            "Value 6.0 is at location 5\n",
            "Value 0.0 is at location 6\n",
            "Value 3.0 is at location 7\n"
          ]
        }
      ]
    },
    {
      "cell_type": "code",
      "source": [
        "for i in range(len(x_true)):\n",
        "    print(f\"Value {x_true[i]} is at location {i}\")"
      ],
      "metadata": {
        "colab": {
          "base_uri": "https://localhost:8080/"
        },
        "id": "Y-K9gw0pWdf2",
        "outputId": "f4d1fe5e-c457-4cab-d225-884c844a8699"
      },
      "execution_count": null,
      "outputs": [
        {
          "output_type": "stream",
          "name": "stdout",
          "text": [
            "Value 1.0 is at location 0\n",
            "Value 7.0 is at location 1\n",
            "Value 0.0 is at location 2\n",
            "Value 11.0 is at location 3\n",
            "Value 0.0 is at location 4\n",
            "Value 6.0 is at location 5\n",
            "Value 0.0 is at location 6\n",
            "Value 3.0 is at location 7\n"
          ]
        }
      ]
    },
    {
      "cell_type": "markdown",
      "metadata": {
        "id": "16nJkP-IPkkv"
      },
      "source": [
        "Thus, the object `d` is a compact representation of `x_true` when there are many zero components."
      ]
    },
    {
      "cell_type": "markdown",
      "metadata": {
        "id": "E6Ijw9pEPkkv"
      },
      "source": [
        "Recall that the task in nb1.1.3 is to decompress `d`, producing `x_true`. A natural method is to construct each element of the output, one at a time. For each output, the method scans the sparse vector and accumulates all matching entries."
      ]
    },
    {
      "cell_type": "code",
      "source": [],
      "metadata": {
        "id": "9Cz6wxqeWU6t"
      },
      "execution_count": null,
      "outputs": []
    },
    {
      "cell_type": "code",
      "source": [
        "for e in zip(d['inds'], d['vals']):\n",
        "    if e[0] == i: s += e[1]"
      ],
      "metadata": {
        "id": "05yIjmqiV9HA"
      },
      "execution_count": null,
      "outputs": []
    },
    {
      "cell_type": "code",
      "source": [
        "for e in zip(...): # is a tuple"
      ],
      "metadata": {
        "id": "qRTDzwjZVlhy"
      },
      "execution_count": null,
      "outputs": []
    },
    {
      "cell_type": "code",
      "source": [
        "zip([1, 2, 3], [4, 5, 6])"
      ],
      "metadata": {
        "colab": {
          "base_uri": "https://localhost:8080/"
        },
        "id": "nq6a8efUcuDZ",
        "outputId": "dda643ce-4581-47c4-c6d0-3034e8c0ae00"
      },
      "execution_count": null,
      "outputs": [
        {
          "output_type": "execute_result",
          "data": {
            "text/plain": [
              "<zip at 0x79a4aedd8480>"
            ]
          },
          "metadata": {},
          "execution_count": 10
        }
      ]
    },
    {
      "cell_type": "code",
      "execution_count": null,
      "metadata": {
        "ExecuteTime": {
          "end_time": "2023-08-31T15:28:52.072171Z",
          "start_time": "2023-08-31T15:28:52.065051Z"
        },
        "id": "HmyrOqh1Pkkv"
      },
      "outputs": [],
      "source": [
        "# Suppose size `d` is `m` (meaning len(d['inds']) and len(d['vals']) are `m`)\n",
        "def decomp_i(i, d): # calculate `x[i]` from `d`\n",
        "    s = 0 # O(1)\n",
        "    for j, v in zip(d['inds'], d['vals']): # execute `m` times => O(m)\n",
        "        if j == i: # O(1) (constant) independent of `m`\n",
        "            s += v\n",
        "    return s # O(1)"
      ]
    },
    {
      "cell_type": "code",
      "source": [
        "# Demo: Get element 3 from the sparse vector `d`; should print \"11.0\"\n",
        "decomp_i(3, d)"
      ],
      "metadata": {
        "id": "1NVdkntJ6nww",
        "colab": {
          "base_uri": "https://localhost:8080/"
        },
        "outputId": "712429b7-df1e-4bb7-b1c4-0bc52b89789c"
      },
      "execution_count": null,
      "outputs": [
        {
          "output_type": "execute_result",
          "data": {
            "text/plain": [
              "11.0"
            ]
          },
          "metadata": {},
          "execution_count": 8
        }
      ]
    },
    {
      "cell_type": "code",
      "execution_count": null,
      "metadata": {
        "ExecuteTime": {
          "end_time": "2023-08-31T15:28:52.082737Z",
          "start_time": "2023-08-31T15:28:52.077408Z"
        },
        "id": "cUnZsXY9Pkkw"
      },
      "outputs": [],
      "source": [
        "# Alternative implementation using a list comprehension:\n",
        "def decomp_i__alt(i, d):\n",
        "    vals_i = [] ### DEMO: FILL IN ###\n",
        "    return sum(vals_i)"
      ]
    },
    {
      "cell_type": "markdown",
      "metadata": {
        "id": "KC23-kiYPkkw"
      },
      "source": [
        "Below, we use the notation $f(n) = O(n)$ to mean, _informally_, that \"$f(n)$ is proportional to $n$\" or \"$f(n)$ scales linearly with $n$.\"\n",
        "\n",
        "> In formal computer science terms, we define $f(n) = O(n)$ to mean that there exists some constant $c$ **independent** of $n$ such that $f(n) \\leq c \\cdot n$ as $n$ goes to infinity. So, this notation actually means that $f(n)$ is some asymptotic function $n$ _in the worst case_."
      ]
    },
    {
      "cell_type": "code",
      "execution_count": null,
      "metadata": {
        "ExecuteTime": {
          "end_time": "2023-08-31T15:28:52.088703Z",
          "start_time": "2023-08-31T15:28:52.084592Z"
        },
        "id": "BWBskAoLPkkw",
        "colab": {
          "base_uri": "https://localhost:8080/"
        },
        "outputId": "d35f894e-24b1-4208-9a72-dae262189403"
      },
      "outputs": [
        {
          "output_type": "stream",
          "name": "stdout",
          "text": [
            "[1.0, 7.0, 0, 11.0, 0, 6.0, 0, 3.0]\n"
          ]
        }
      ],
      "source": [
        "def decomp__v0(d, n=None):\n",
        "    # Input is of length `m`\n",
        "    # Output is of length `n`\n",
        "    # If possible, we'd like a method that scales like `O(m + n)`\n",
        "\n",
        "    if n is None:\n",
        "        n = max(d['inds']) + 1\n",
        "\n",
        "    # Inputs: `d` - let the size be `m`\n",
        "    # Outputs: x - let the size be `n`\n",
        "    # => A good algorithm should scale like `O(m + n)`\n",
        "    x = [] # O(1)\n",
        "    for i in range(n): # executes `n` times; O(m * n)\n",
        "        x.append(decomp_i(i, d)) # build element x[i] => O(m)\n",
        "    # Loop above scales like O(@???@) rather than O(@???@) <== \"bad\"\n",
        "    return x # O(1)\n",
        "\n",
        "x = decomp__v0(d)\n",
        "print(x)\n",
        "assert x == x_true"
      ]
    },
    {
      "cell_type": "markdown",
      "metadata": {
        "id": "65lrquIXPkkw"
      },
      "source": [
        "The problem with the above is that it reads `d` for _every_ output element. If the input vector `d` has $m$ nonzeros and the output vector is of length $n$, this procedure does $O(n \\cdot m)$ operations instead of the more desirable linear cost of $O(m + n)$ operations."
      ]
    },
    {
      "cell_type": "markdown",
      "metadata": {
        "id": "jR01MB6ZPkkw"
      },
      "source": [
        "Can we accomplish the same thing touching each input only once (or only a few times)? Yes!"
      ]
    },
    {
      "cell_type": "markdown",
      "metadata": {
        "id": "ivTogy0uPkkx"
      },
      "source": [
        "Consider any function that consumes `m` inputs, executes `k` steps, and returns an output of size `n`. Assume `k` is a constant number of steps that does not depend on `m` or `n`.\n",
        "\n",
        "```python\n",
        "def foo(...):    # Input of size `m`\n",
        "    step_0(...)  # O(m + n)\n",
        "    step_1(...)  # O(m + n)\n",
        "    ...\n",
        "    step_k(...)  # O(m + n)\n",
        "    return ...   # Output of size `n`\n",
        "```\n",
        "\n",
        "The cost is $O(m + n)$ as long as `k` does not depend on `m` or `n`."
      ]
    },
    {
      "cell_type": "code",
      "execution_count": null,
      "metadata": {
        "ExecuteTime": {
          "end_time": "2023-08-31T15:28:52.097927Z",
          "start_time": "2023-08-31T15:28:52.090460Z"
        },
        "id": "d0BnNYQNPkkx",
        "colab": {
          "base_uri": "https://localhost:8080/"
        },
        "outputId": "634ce86e-b26d-421c-d8d0-00c66ef37fd9"
      },
      "outputs": [
        {
          "output_type": "stream",
          "name": "stdout",
          "text": [
            "[1.0, 7.0, 0, 11.0, 0, 6.0, 0, 3.0]\n"
          ]
        }
      ],
      "source": [
        "def decomp__v1(d, n=None): # |d| = m elements\n",
        "    if n is None:\n",
        "        n = max(d['inds']) + 1 # `max` scales like `O(m)`\n",
        "\n",
        "    ### YOUR CODE HERE ###\n",
        "    # 1. Create an empty (all zeros) output of length n # O(n)\n",
        "    # 2. For each element of d, add the value to the corresponding output element # O(m)\n",
        "    x = [0] * n # O(n)\n",
        "    for j, v in zip(d['inds'], d['vals']): # executes `m` times ==> O(m)\n",
        "        x[j] += v\n",
        "    return x\n",
        "\n",
        "y = decomp__v1(d)\n",
        "print(y)\n",
        "assert y == x_true"
      ]
    },
    {
      "cell_type": "markdown",
      "metadata": {
        "id": "JJtUyeKhPkkx"
      },
      "source": [
        "## Follow-up exercise: Sparse dot products ##"
      ]
    },
    {
      "cell_type": "markdown",
      "metadata": {
        "id": "KM5flUb7Pkkx"
      },
      "source": [
        "Consider a dense dot product where the vector elements (or components) include zeros:"
      ]
    },
    {
      "cell_type": "code",
      "execution_count": null,
      "metadata": {
        "ExecuteTime": {
          "end_time": "2023-08-31T15:28:52.107532Z",
          "start_time": "2023-08-31T15:28:52.101007Z"
        },
        "id": "LL3Iq629Pkkx"
      },
      "outputs": [],
      "source": [
        "x = [17, 0, 0, -20, -20, 14, 0, 0, -6, 0]\n",
        "y = [-6, 0, 13, 0, 2, 0, 0, 7, -2, 0]\n",
        "\n",
        "def dot(x, y):\n",
        "    return sum(ex*ey for ex, ey in zip(x, y))\n",
        "\n",
        "dot(x, y)"
      ]
    },
    {
      "cell_type": "markdown",
      "metadata": {
        "id": "09Miy_VNPkkx"
      },
      "source": [
        "Here is a variation on this code designed to resemble more closely the mathematical formula for a dot product, which iterates over an index:\n",
        "\n",
        "$$\\mbox{dot}(x, y) = \\sum_{i=0}^{n-1} x_i y_i.$$"
      ]
    },
    {
      "cell_type": "code",
      "execution_count": null,
      "metadata": {
        "ExecuteTime": {
          "end_time": "2023-08-31T15:28:52.118160Z",
          "start_time": "2023-08-31T15:28:52.113666Z"
        },
        "id": "jXR2SFavPkkx"
      },
      "outputs": [],
      "source": [
        "def dot__v2(x, y):\n",
        "    assert len(x) == len(y)\n",
        "    return sum(x[i]*y[i] for i in range(len(x)))\n",
        "\n",
        "dot__v2(x, y)"
      ]
    },
    {
      "cell_type": "markdown",
      "metadata": {
        "id": "MHGuAx96Pkky"
      },
      "source": [
        "Suppose we want to exploit the zeros by avoiding storing and operating on them. Here are two sparse vectors in the style of `nb1.1.3`:"
      ]
    },
    {
      "cell_type": "code",
      "execution_count": null,
      "metadata": {
        "ExecuteTime": {
          "end_time": "2023-08-31T15:28:52.122229Z",
          "start_time": "2023-08-31T15:28:52.119849Z"
        },
        "id": "H6kMRq8bPkky"
      },
      "outputs": [],
      "source": [
        "dx = {'inds': [0, 3, 4, 5, 8], 'vals': [17, -20, -20, 14, -6]} # O(m1)\n",
        "dy = {'inds': [0, 2, 4, 7, 8], 'vals': [-6, 13, 2, 7, -2]} # O(m2)\n",
        "# Hoping for O(m1 + m2)"
      ]
    },
    {
      "cell_type": "markdown",
      "metadata": {
        "id": "NzPZ8pY8Pkky"
      },
      "source": [
        "**Question:** What does a dot product look like for this sparse representation? To simplify the problem a little, let's assume positions are unique."
      ]
    },
    {
      "cell_type": "markdown",
      "metadata": {
        "id": "hJxdqhywPkky"
      },
      "source": [
        "The terms of the dot product (i.e., $x_i y_i$) are nonzero only when _both_ $x_i \\neq 0$ and $y_i \\neq 0$. We can detect the common $i$ indices between the two sparse vectors by converting the indices to sets and then finding their intersection:"
      ]
    },
    {
      "cell_type": "code",
      "execution_count": null,
      "metadata": {
        "ExecuteTime": {
          "end_time": "2023-08-31T15:28:52.130597Z",
          "start_time": "2023-08-31T15:28:52.127608Z"
        },
        "id": "UiXnueHaPkky"
      },
      "outputs": [],
      "source": [
        "def common_inds(dx, dy):\n",
        "    ### YOUR CODE HERE\n",
        "    pass\n",
        "\n",
        "print('Ix =', dx['inds'])\n",
        "print('Iy =', dy['inds'])\n",
        "print('common_inds(Ix, Iy):', common_inds(dx, dy))"
      ]
    },
    {
      "cell_type": "markdown",
      "metadata": {
        "id": "6EK2VdbOPkky"
      },
      "source": [
        "From this building block, here's a first cut at a dot product \"derived\" from `dot__v2`:"
      ]
    },
    {
      "cell_type": "code",
      "execution_count": null,
      "metadata": {
        "ExecuteTime": {
          "end_time": "2023-08-31T15:28:52.134212Z",
          "start_time": "2023-08-31T15:28:52.131478Z"
        },
        "id": "XgRDq34YPkky"
      },
      "outputs": [],
      "source": [
        "# First, recall how to find a value in a `list`\n",
        "dx['inds'].index(5) # The value `5` is at position 3 of the list `dx['inds']`"
      ]
    },
    {
      "cell_type": "code",
      "execution_count": null,
      "metadata": {
        "ExecuteTime": {
          "end_time": "2023-08-31T15:28:52.138344Z",
          "start_time": "2023-08-31T15:28:52.134940Z"
        },
        "id": "4n43Z6JMPkky"
      },
      "outputs": [],
      "source": [
        "def sp_dot__v0(dx, dy):\n",
        "    dot = 0\n",
        "    for i in common_inds(dx, dy):    # O(@???@)\n",
        "        loc_x = dx['inds'].index(i)  # O(@???@)\n",
        "        ### YOUR CODE HERE ###\n",
        "    return dot\n",
        "\n",
        "sp_dot__v0(dx, dy)"
      ]
    },
    {
      "cell_type": "markdown",
      "metadata": {
        "id": "bOzVxkaVPkky"
      },
      "source": [
        "If each vector has an average of $m$ nonzeros, then the cost of this procedure is $O(m^2)$, since there is a hidden $O(m)$ cost to search the list to find the index location."
      ]
    },
    {
      "cell_type": "markdown",
      "metadata": {
        "id": "rKockB3GPkky"
      },
      "source": [
        "**Reducing the cost.** To reduce the cost of search, we can ask whether there is some preprocessing that might help. Indeed, in a single pass over the sparse vector, we can construct a \"lookup table\" that maps indices to values."
      ]
    },
    {
      "cell_type": "code",
      "execution_count": null,
      "metadata": {
        "ExecuteTime": {
          "end_time": "2023-08-31T15:28:52.141814Z",
          "start_time": "2023-08-31T15:28:52.139238Z"
        },
        "id": "fciKNTIGPkky"
      },
      "outputs": [],
      "source": [
        "def gen_lookup(d): # `d` is a sparse vector with unique indices\n",
        "    ### YOUR CODE HERE ###\n",
        "    pass\n",
        "\n",
        "print(\"dx =\", dx)\n",
        "print(\"lookup table:\", gen_lookup(dx))"
      ]
    },
    {
      "cell_type": "markdown",
      "metadata": {
        "id": "ZD-GEN-fPkkz"
      },
      "source": [
        "> **Exercise.** This approach only works when the sparse vector's indices are unique. Can you come up with an alternative method that works when there are nonunique indices?"
      ]
    },
    {
      "cell_type": "markdown",
      "metadata": {
        "id": "uVNMz-yRPkkz"
      },
      "source": [
        "Combining these two building blocks, here is a more efficient sparse dot:"
      ]
    },
    {
      "cell_type": "code",
      "execution_count": null,
      "metadata": {
        "ExecuteTime": {
          "end_time": "2023-08-31T15:28:52.149101Z",
          "start_time": "2023-08-31T15:28:52.145625Z"
        },
        "id": "C6gdvJzoPkkz"
      },
      "outputs": [],
      "source": [
        "def sp_dot__v1(dx, dy):\n",
        "    tx = gen_lookup(dx)\n",
        "    ty = gen_lookup(dy)\n",
        "    I = set(tx.keys()) & set(ty.keys()) # common indices\n",
        "    return sum(tx[i]*ty[i] for i in I)\n",
        "\n",
        "sp_dot__v1(dx, dy)"
      ]
    },
    {
      "cell_type": "markdown",
      "metadata": {
        "id": "8e9OLWDbPkkz"
      },
      "source": [
        "**Benchmarking.** Let's compare the speed of these two sparse dot product implementations against the dense case. Let's start with a small example."
      ]
    },
    {
      "cell_type": "code",
      "execution_count": null,
      "metadata": {
        "ExecuteTime": {
          "end_time": "2023-08-31T15:29:22.463675Z",
          "start_time": "2023-08-31T15:28:52.150170Z"
        },
        "id": "5Ak3QSWAPkkz"
      },
      "outputs": [],
      "source": [
        "def decomp(d, n_max=None):\n",
        "    if n_max is None:\n",
        "        n_max = (max(d['inds']) if d['inds'] else 0) + 1\n",
        "    y = [0] * n_max\n",
        "    for i, v in zip(d['inds'], d['vals']):\n",
        "        y[i] += v\n",
        "    return y\n",
        "\n",
        "print(\"* Dense case...\")\n",
        "x = decomp(dx)\n",
        "y = decomp(dy)\n",
        "%timeit dot(x, y) # Could also try `dot__v2`\n",
        "\n",
        "print(\"\\n* Sparse dot, version 0...\")\n",
        "%timeit sp_dot__v0(dx, dy)\n",
        "\n",
        "print(\"\\n* Sparse dot, version 1...\")\n",
        "%timeit sp_dot__v1(dx, dy)"
      ]
    },
    {
      "cell_type": "markdown",
      "metadata": {
        "id": "QNQ9Et7TPkkz"
      },
      "source": [
        "On small inputs, you can see the exact _opposite_ of what you might expect! That's because conversion to sets and construction or manipulation of lookup tables carries an overhead that outweights the benefits of sparse storage when the vectors are small.\n",
        "\n",
        "Instead, let's try large inputs. Here is a helper function to generate a large random sparse input vector:"
      ]
    },
    {
      "cell_type": "code",
      "execution_count": null,
      "metadata": {
        "ExecuteTime": {
          "end_time": "2023-08-31T15:29:22.470507Z",
          "start_time": "2023-08-31T15:29:22.465536Z"
        },
        "id": "wKqwS8RCPkkz"
      },
      "outputs": [],
      "source": [
        "def gen_rand_sparse_vector(n=10, nnz=10, max_val=20, unique=True):\n",
        "    from random import randint, sample, random, shuffle\n",
        "    nnz_unique = nnz\n",
        "    vals_unique = [(i, randint(-max_val, max_val)) for i in sample(range(n), nnz)]\n",
        "    d_true = {'inds': [i for i, _ in sorted(vals_unique)],\n",
        "              'vals': [v for _, v in sorted(vals_unique)]}\n",
        "    if unique:\n",
        "        return d_true\n",
        "\n",
        "    vals = []\n",
        "    for i, v in vals_unique:\n",
        "        if random() < 0.2: # Duplicate!\n",
        "            n_dups = randint(2, 5)\n",
        "            vals += [(i, w) for w in partition_value(v, n_dups)]\n",
        "        else:\n",
        "            vals += [(i, v)]\n",
        "    shuffle(vals)\n",
        "    d_input = {'inds': [i for i, _ in vals],\n",
        "               'vals': [v for _, v in vals]}\n",
        "    return d_input"
      ]
    },
    {
      "cell_type": "markdown",
      "metadata": {
        "id": "CNoPHH1fPkkz"
      },
      "source": [
        "Let's use `gen_rand_sparse_vector` to generate random sparse input vectors of length 100,000 elements with 1,000 nonzeros each."
      ]
    },
    {
      "cell_type": "code",
      "execution_count": null,
      "metadata": {
        "ExecuteTime": {
          "end_time": "2023-08-31T15:29:22.478004Z",
          "start_time": "2023-08-31T15:29:22.471404Z"
        },
        "id": "ony6vw82Pkk0"
      },
      "outputs": [],
      "source": [
        "N = 100_000\n",
        "dx_big = gen_rand_sparse_vector(n=N, nnz=1_000)\n",
        "dy_big = gen_rand_sparse_vector(n=N, nnz=1_000)\n",
        "\n",
        "print(f\"* dx_big: {len(dx_big['inds']):,} nonzeros.\")\n",
        "print(f\"* dy_big: {len(dx_big['inds']):,} nonzeros.\")\n",
        "print(f\"* common indices: {len(common_inds(dx_big, dy_big)):,} nonzeros.\")"
      ]
    },
    {
      "cell_type": "markdown",
      "metadata": {
        "id": "SRPScUpCPkk0"
      },
      "source": [
        "Let's try first converting to dense vectors:"
      ]
    },
    {
      "cell_type": "code",
      "execution_count": null,
      "metadata": {
        "ExecuteTime": {
          "end_time": "2023-08-31T15:29:26.377972Z",
          "start_time": "2023-08-31T15:29:22.479081Z"
        },
        "id": "t7-jSuW-Pkk0"
      },
      "outputs": [],
      "source": [
        "x_big = decomp(dx_big, n_max=N)\n",
        "y_big = decomp(dy_big, n_max=N)\n",
        "print(dot(x_big, y_big)) # note the \"correct\" answer\n",
        "%timeit dot(x_big, y_big)"
      ]
    },
    {
      "cell_type": "markdown",
      "metadata": {
        "id": "B-N1tii_Pkk0"
      },
      "source": [
        "Now let's try our two sparse methods:"
      ]
    },
    {
      "cell_type": "code",
      "execution_count": null,
      "metadata": {
        "ExecuteTime": {
          "end_time": "2023-08-31T15:29:44.491614Z",
          "start_time": "2023-08-31T15:29:26.378987Z"
        },
        "id": "gq5NnF4iPkk0"
      },
      "outputs": [],
      "source": [
        "print(sp_dot__v0(dx_big, dy_big)) # check answer against the dense case\n",
        "%timeit sp_dot__v0(dx_big, dy_big)\n",
        "\n",
        "print(sp_dot__v1(dx_big, dy_big)) # check answer\n",
        "%timeit sp_dot__v1(dx_big, dy_big)"
      ]
    },
    {
      "cell_type": "markdown",
      "metadata": {
        "id": "7tN3Q2n0Pkk0"
      },
      "source": [
        "You should observe these to be much faster now."
      ]
    },
    {
      "cell_type": "markdown",
      "metadata": {
        "id": "WuCsoGtsPkk0"
      },
      "source": [
        "## Summary ##\n",
        "\n",
        "1. From nb1.1.3, remember to strive for linear time methods.\n",
        "2. In the sparse dot product problem, using the right data structures helped to achieve efficient code, at least for large-enough inputs.\n",
        "\n",
        "Next time: Review the basic Python data structures and their tradeoffs."
      ]
    }
  ],
  "metadata": {
    "celltoolbar": "Slideshow",
    "kernelspec": {
      "display_name": "Python 3 (ipykernel)",
      "language": "python",
      "name": "python3"
    },
    "language_info": {
      "codemirror_mode": {
        "name": "ipython",
        "version": 3
      },
      "file_extension": ".py",
      "mimetype": "text/x-python",
      "name": "python",
      "nbconvert_exporter": "python",
      "pygments_lexer": "ipython3",
      "version": "3.8.15"
    },
    "toc": {
      "base_numbering": 1,
      "nav_menu": {},
      "number_sections": true,
      "sideBar": true,
      "skip_h1_title": false,
      "title_cell": "Table of Contents",
      "title_sidebar": "Contents",
      "toc_cell": false,
      "toc_position": {},
      "toc_section_display": true,
      "toc_window_display": false
    },
    "colab": {
      "provenance": [],
      "include_colab_link": true
    }
  },
  "nbformat": 4,
  "nbformat_minor": 0
}