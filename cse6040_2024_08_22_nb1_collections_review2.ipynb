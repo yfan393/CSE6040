{
  "cells": [
    {
      "cell_type": "markdown",
      "metadata": {
        "id": "view-in-github",
        "colab_type": "text"
      },
      "source": [
        "<a href=\"https://colab.research.google.com/github/yfan393/CSE6040/blob/main/cse6040_2024_08_22_nb1_collections_review2.ipynb\" target=\"_parent\"><img src=\"https://colab.research.google.com/assets/colab-badge.svg\" alt=\"Open In Colab\"/></a>"
      ]
    },
    {
      "cell_type": "markdown",
      "metadata": {
        "id": "iIG0DwTdSqaZ"
      },
      "source": [
        "# CSE 6040, Fall 2024: Th Aug 22 #\n",
        "\n",
        "Key concepts: Review of the elementary \"collection\" data types from the Python bootcamp.\n",
        "* Tuples\n",
        "* Lists\n",
        "* Variables are references!\n",
        "* Sets\n",
        "* Dictionaries\n",
        "* Nesting data structures\n",
        "\n",
        "For more detailed information, see Vanderplas or the [Python documentation on basic data structures](https://docs.python.org/3/tutorial/datastructures.html)."
      ]
    },
    {
      "cell_type": "markdown",
      "metadata": {
        "id": "_BoXZVTeSqaa"
      },
      "source": [
        "Although you can do a lot with operations on scalar values, programs are more compact and efficient when you can operate on collections of values."
      ]
    },
    {
      "cell_type": "markdown",
      "metadata": {
        "id": "KRQLt-qgSqaa"
      },
      "source": [
        "## Tuples ##\n",
        "\n",
        "A tuple is a read-only (\"immutable\") fixed-length sequence of values."
      ]
    },
    {
      "cell_type": "code",
      "execution_count": null,
      "metadata": {
        "ExecuteTime": {
          "end_time": "2023-08-31T18:12:55.951408Z",
          "start_time": "2023-08-31T18:12:55.927778Z"
        },
        "scrolled": true,
        "id": "eq3xAJYxSqab",
        "colab": {
          "base_uri": "https://localhost:8080/"
        },
        "outputId": "2bbd43ff-cfd7-4e64-9475-e6799d4fe943"
      },
      "outputs": [
        {
          "output_type": "stream",
          "name": "stdout",
          "text": [
            "('a', 'pair')\n",
            "element 0: a \n",
            "element 1: pair\n"
          ]
        }
      ],
      "source": [
        "z = (\"a\", \"pair\")\n",
        "print(z)\n",
        "print(\"element 0:\", z[0], \"\\nelement 1:\", z[1]) # Random access of values"
      ]
    },
    {
      "cell_type": "code",
      "execution_count": null,
      "metadata": {
        "ExecuteTime": {
          "end_time": "2023-08-31T18:13:56.942061Z",
          "start_time": "2023-08-31T18:13:56.937052Z"
        },
        "id": "KIjrONDySqab",
        "colab": {
          "base_uri": "https://localhost:8080/"
        },
        "outputId": "cdf8d36c-14d7-492a-991d-7c6f6170255b"
      },
      "outputs": [
        {
          "output_type": "execute_result",
          "data": {
            "text/plain": [
              "('4-tuple', 4, 1.2, False)"
            ]
          },
          "metadata": {},
          "execution_count": 2
        }
      ],
      "source": [
        "(\"4-tuple\", 4, 1.2, False) # Mix values"
      ]
    },
    {
      "cell_type": "markdown",
      "metadata": {
        "id": "s07ELTdiSqac"
      },
      "source": [
        "\"Immutability\" means you cannot modify the length of the tuple nor change its values."
      ]
    },
    {
      "cell_type": "code",
      "execution_count": null,
      "metadata": {
        "ExecuteTime": {
          "end_time": "2023-08-31T18:14:36.014154Z",
          "start_time": "2023-08-31T18:14:36.012454Z"
        },
        "id": "6faGrWaASqac"
      },
      "outputs": [],
      "source": [
        "#z[1] = \"triple?\"   # Uncommenting and running this statement will produce an error"
      ]
    },
    {
      "cell_type": "markdown",
      "metadata": {
        "id": "ltqyLyESSqac"
      },
      "source": [
        "**Aside: mutability.** Mutability is an important concept in Python, as certain critical operations may only be applied to mutable objects. A good discussion of mutability appears [here](https://medium.com/@meghamohan/mutable-and-immutable-side-of-python-c2145cf72747). You can think of the primitive built-in types––`int`, `float`, `bool`, `str`––as **immutable**. Tuples are, as noted above, also immutable, although it may hold mutable objects. Let's keep going and come back to this point later, after we meet a mutable object: the Python list (`list`)."
      ]
    },
    {
      "cell_type": "code",
      "execution_count": null,
      "metadata": {
        "ExecuteTime": {
          "end_time": "2023-08-31T18:15:49.521523Z",
          "start_time": "2023-08-31T18:15:49.518388Z"
        },
        "id": "CjYjyFKGSqac",
        "colab": {
          "base_uri": "https://localhost:8080/"
        },
        "outputId": "1e07a3cd-ed94-404b-c1f2-a18b62100a39"
      },
      "outputs": [
        {
          "output_type": "stream",
          "name": "stdout",
          "text": [
            "5.0\n",
            "7.14\n"
          ]
        }
      ],
      "source": [
        "# Question to you: If `float` is immutable, then what is happening here?\n",
        "z2 = 5.0\n",
        "print(z2)\n",
        "z2 = 7.14\n",
        "print(z2)"
      ]
    },
    {
      "cell_type": "markdown",
      "metadata": {
        "id": "7zlF5vVpSqac"
      },
      "source": [
        "## Lists ##\n",
        "\n",
        "A list of values is a sequence, and is similar to arrays in other languages. It provides fast random access (`x[i]`, using zero-based indices) and fast appends, but slow arbitrary insertions and search. Individual values (elements) of a list need not have the same type."
      ]
    },
    {
      "cell_type": "code",
      "execution_count": null,
      "metadata": {
        "ExecuteTime": {
          "end_time": "2023-08-31T18:20:53.210665Z",
          "start_time": "2023-08-31T18:20:53.207395Z"
        },
        "id": "WY1a7k15Sqad",
        "colab": {
          "base_uri": "https://localhost:8080/"
        },
        "outputId": "d4ccf5d4-a3f2-44cd-e5b5-817f42522873"
      },
      "outputs": [
        {
          "output_type": "stream",
          "name": "stdout",
          "text": [
            "Concat lists: [1, 2, 3] + [4, 'xo', 6.7, True] = [1, 2, 3, 4, 'xo', 6.7, True] (total length is 7)\n"
          ]
        }
      ],
      "source": [
        "x = [1, 2, 3]\n",
        "y = [4, \"xo\", 6.7, True]\n",
        "z = x + y\n",
        "print(\"Concat lists: {} + {} = {} (total length is {})\".format(x, y, z, len(z)))"
      ]
    },
    {
      "cell_type": "code",
      "execution_count": null,
      "metadata": {
        "ExecuteTime": {
          "end_time": "2023-08-31T18:22:19.926923Z",
          "start_time": "2023-08-31T18:22:19.923954Z"
        },
        "id": "yFLiiWxKSqad",
        "colab": {
          "base_uri": "https://localhost:8080/"
        },
        "outputId": "e41cf6b5-625e-435b-8572-155e4369cdfe"
      },
      "outputs": [
        {
          "output_type": "stream",
          "name": "stdout",
          "text": [
            "3 xo True\n",
            "[3, 'xo', True]\n",
            "[True, 6.7, 'xo', 4, 3, 2, 1]\n"
          ]
        }
      ],
      "source": [
        "print(z[2], z[4], z[6])\n",
        "print(z[2::2]) # slice (and later, dice)\n",
        "print(z[::-1])"
      ]
    },
    {
      "cell_type": "markdown",
      "metadata": {
        "id": "JHm05XzWSqaf"
      },
      "source": [
        "**List constructor.** The list type, denoted by `list` in Python, can also be used to construct an empty list or a list object from another collection type. A pair of empty square brackets is synonymous."
      ]
    },
    {
      "cell_type": "code",
      "execution_count": null,
      "metadata": {
        "ExecuteTime": {
          "end_time": "2023-08-31T18:23:25.835005Z",
          "start_time": "2023-08-31T18:23:25.832182Z"
        },
        "id": "SaaPUsb5Sqaf",
        "colab": {
          "base_uri": "https://localhost:8080/"
        },
        "outputId": "a53a8a82-179d-42e9-f671-e4471fa359c5"
      },
      "outputs": [
        {
          "output_type": "stream",
          "name": "stdout",
          "text": [
            "[]\n"
          ]
        }
      ],
      "source": [
        "empty_list = []\n",
        "print(empty_list)"
      ]
    },
    {
      "cell_type": "code",
      "execution_count": null,
      "metadata": {
        "ExecuteTime": {
          "end_time": "2023-08-31T18:23:36.522653Z",
          "start_time": "2023-08-31T18:23:36.519574Z"
        },
        "id": "tMeXah1YSqaf",
        "colab": {
          "base_uri": "https://localhost:8080/"
        },
        "outputId": "d7b8aecc-9485-4467-810a-b043d8e3f109"
      },
      "outputs": [
        {
          "output_type": "stream",
          "name": "stdout",
          "text": [
            "[]\n"
          ]
        }
      ],
      "source": [
        "another_empty_list = list()\n",
        "print(another_empty_list)"
      ]
    },
    {
      "cell_type": "code",
      "execution_count": null,
      "metadata": {
        "ExecuteTime": {
          "end_time": "2023-08-31T16:54:56.407908Z",
          "start_time": "2023-08-31T16:54:56.405527Z"
        },
        "id": "ov5zdV8hSqaf",
        "colab": {
          "base_uri": "https://localhost:8080/"
        },
        "outputId": "5d78018a-a7c3-4c88-da30-5b05c8bd41ff"
      },
      "outputs": [
        {
          "output_type": "stream",
          "name": "stdout",
          "text": [
            "['a', 'b', 'c', 'd', 'e', 'f', 'g']\n"
          ]
        }
      ],
      "source": [
        "list_from_string = list('abcdefg')\n",
        "print(list_from_string)"
      ]
    },
    {
      "cell_type": "markdown",
      "metadata": {
        "id": "cxaZM0mhSqaf"
      },
      "source": [
        "**Modifying lists.** Modifying lists (changing its shapes and values) is possible because list objects are mutable."
      ]
    },
    {
      "cell_type": "code",
      "execution_count": null,
      "metadata": {
        "ExecuteTime": {
          "end_time": "2023-08-31T18:25:12.523796Z",
          "start_time": "2023-08-31T18:25:12.521849Z"
        },
        "id": "pjIoZl41Sqag",
        "colab": {
          "base_uri": "https://localhost:8080/"
        },
        "outputId": "d64b2b20-14d1-43d6-8f05-ffa294590cf9"
      },
      "outputs": [
        {
          "output_type": "stream",
          "name": "stdout",
          "text": [
            "[1, 2, 3, 4, 'xo', 6.7, True]\n",
            "[1, 2, -7, 4, 'xo', 6.7, True]\n"
          ]
        }
      ],
      "source": [
        "# Make a change\n",
        "print(z)\n",
        "z[2] = -(z[2] + z[3])\n",
        "print(z)"
      ]
    },
    {
      "cell_type": "code",
      "execution_count": null,
      "metadata": {
        "ExecuteTime": {
          "end_time": "2023-08-31T18:25:54.954439Z",
          "start_time": "2023-08-31T18:25:54.950515Z"
        },
        "id": "0aUKZtg7Sqag",
        "colab": {
          "base_uri": "https://localhost:8080/"
        },
        "outputId": "5fa24fe6-a8b4-4469-9aa4-cbe8c8d0e9ea"
      },
      "outputs": [
        {
          "output_type": "stream",
          "name": "stdout",
          "text": [
            "[1, 2, 3, 4, 'xo', 6.7, True]\n"
          ]
        }
      ],
      "source": [
        "# Undo the change\n",
        "z[2] *= -1\n",
        "z[2] -= z[3]\n",
        "print(z)"
      ]
    },
    {
      "cell_type": "code",
      "execution_count": null,
      "metadata": {
        "ExecuteTime": {
          "end_time": "2023-08-31T18:26:22.390227Z",
          "start_time": "2023-08-31T18:26:22.387591Z"
        },
        "id": "RasLNRS1Sqag",
        "colab": {
          "base_uri": "https://localhost:8080/"
        },
        "outputId": "d326cbf6-0879-41d9-e172-961aaf8a8480"
      },
      "outputs": [
        {
          "output_type": "stream",
          "name": "stdout",
          "text": [
            "[1, 2, 3, 4, 'xo', 6.7, True, 'one more value...']\n"
          ]
        }
      ],
      "source": [
        "z.append(\"one more value...\")  # Methods, some of which involve in-place modifications\n",
        "print(z)"
      ]
    },
    {
      "cell_type": "code",
      "execution_count": null,
      "metadata": {
        "ExecuteTime": {
          "end_time": "2023-08-31T18:27:07.557614Z",
          "start_time": "2023-08-31T18:27:07.554718Z"
        },
        "id": "19PnesTpSqag",
        "colab": {
          "base_uri": "https://localhost:8080/"
        },
        "outputId": "405aa400-a8bf-4b2c-a96f-88c1c0ffc2b6"
      },
      "outputs": [
        {
          "output_type": "stream",
          "name": "stdout",
          "text": [
            "[1, 2, 3, 4, 'xo', 6.7, True, 'one more value...']\n",
            "['one more value...', True, 6.7, 'xo', 4, 3, 2, 1]\n",
            "[1, 2, 3, 4, 'xo', 6.7, True, 'one more value...']\n"
          ]
        }
      ],
      "source": [
        "print(z)\n",
        "z.reverse()\n",
        "print(z)\n",
        "z.reverse() # Undo\n",
        "print(z)"
      ]
    },
    {
      "cell_type": "markdown",
      "metadata": {
        "id": "zgo-MRZMSqag"
      },
      "source": [
        "**List comprehensions.** Use this compact construct to build up lists of values."
      ]
    },
    {
      "cell_type": "code",
      "execution_count": null,
      "metadata": {
        "ExecuteTime": {
          "end_time": "2023-08-31T18:27:39.388542Z",
          "start_time": "2023-08-31T18:27:39.386623Z"
        },
        "id": "UlinyLtoSqag",
        "colab": {
          "base_uri": "https://localhost:8080/"
        },
        "outputId": "6717ab2b-797a-4b16-cb8f-11c66f7d23c9"
      },
      "outputs": [
        {
          "output_type": "stream",
          "name": "stdout",
          "text": [
            "[2, 4, 6, 8, 'xoxo', 13.4, 2]\n"
          ]
        }
      ],
      "source": [
        "c = [2*xi for xi in x+y] # \"double\" every element\n",
        "print(c)"
      ]
    },
    {
      "cell_type": "markdown",
      "metadata": {
        "id": "qQ2Jz1DvSqag"
      },
      "source": [
        "Additionally, there is a conditional clause for filtering comprehension values."
      ]
    },
    {
      "cell_type": "code",
      "execution_count": null,
      "metadata": {
        "ExecuteTime": {
          "end_time": "2023-08-31T18:28:08.520725Z",
          "start_time": "2023-08-31T18:28:08.517330Z"
        },
        "id": "GYpiAb6_Sqah",
        "colab": {
          "base_uri": "https://localhost:8080/"
        },
        "outputId": "50da1785-21f2-44b5-ef51-40b230a512d4"
      },
      "outputs": [
        {
          "output_type": "execute_result",
          "data": {
            "text/plain": [
              "[4, 7, 0, 5, 9, 3, 1, 2, 6, 8]"
            ]
          },
          "metadata": {},
          "execution_count": 15
        }
      ],
      "source": [
        "g = [i for i in range(10)] # 0 .. 9\n",
        "\n",
        "from random import shuffle\n",
        "shuffle(g) # randomly permute *in-place*\n",
        "\n",
        "g"
      ]
    },
    {
      "cell_type": "code",
      "execution_count": null,
      "metadata": {
        "ExecuteTime": {
          "end_time": "2023-08-31T18:29:50.726578Z",
          "start_time": "2023-08-31T18:29:50.724482Z"
        },
        "id": "RhBvgcuiSqah",
        "colab": {
          "base_uri": "https://localhost:8080/"
        },
        "outputId": "ad916cdd-4a68-47b5-b774-4d92fcfed937"
      },
      "outputs": [
        {
          "output_type": "stream",
          "name": "stdout",
          "text": [
            "h = even(g) = [4, 0, 2, 6, 8]\n"
          ]
        }
      ],
      "source": [
        "# Select only even values\n",
        "h = [i for i in g if (i % 2) == 0]\n",
        "print('h = even(g) =', h)"
      ]
    },
    {
      "cell_type": "markdown",
      "metadata": {
        "id": "H427_S-ISqah"
      },
      "source": [
        "**Zipper iterations.** Use `zip(a, b, ...)` to \"merge\" two or more collections. Conceptually, `zip()` produces tuples of corresponding elements from each input collection."
      ]
    },
    {
      "cell_type": "code",
      "execution_count": null,
      "metadata": {
        "ExecuteTime": {
          "end_time": "2023-08-31T18:34:54.001266Z",
          "start_time": "2023-08-31T18:34:53.995034Z"
        },
        "id": "bdVig4vGSqah",
        "colab": {
          "base_uri": "https://localhost:8080/"
        },
        "outputId": "b85f6801-e3f8-4a1b-edde-0def119cb45b"
      },
      "outputs": [
        {
          "output_type": "execute_result",
          "data": {
            "text/plain": [
              "[(2, 2), (4, 13.4), (6, 'xoxo'), (8, 8), ('xoxo', 6), (13.4, 4), (2, 2)]"
            ]
          },
          "metadata": {},
          "execution_count": 17
        }
      ],
      "source": [
        "[e for e in zip(c, c[::-1])]"
      ]
    },
    {
      "cell_type": "code",
      "execution_count": null,
      "metadata": {
        "ExecuteTime": {
          "end_time": "2023-08-31T18:33:45.918447Z",
          "start_time": "2023-08-31T18:33:45.915649Z"
        },
        "id": "0fI_QfNSSqah",
        "colab": {
          "base_uri": "https://localhost:8080/"
        },
        "outputId": "2d892cf1-277f-497b-ef26-e18deae06b98"
      },
      "outputs": [
        {
          "output_type": "execute_result",
          "data": {
            "text/plain": [
              "[(2, 2), (4, 13.4), (6, 'xoxo'), (8, 8), ('xoxo', 6), (13.4, 4), (2, 2)]"
            ]
          },
          "metadata": {},
          "execution_count": 18
        }
      ],
      "source": [
        "# \"Merge\" forward and reverse lists\n",
        "[(f, b) for f, b in zip(c, c[::-1])]"
      ]
    },
    {
      "cell_type": "markdown",
      "metadata": {
        "id": "SD7t1j_pSqah"
      },
      "source": [
        "**Aside: Append versus concatenate.** Recall that we can concatenate two list objects, producing a new list object, as follows:"
      ]
    },
    {
      "cell_type": "code",
      "execution_count": null,
      "metadata": {
        "id": "HOh5T5s4Sqah",
        "colab": {
          "base_uri": "https://localhost:8080/"
        },
        "outputId": "f981bc24-4490-45cc-a81b-e8db714098e0"
      },
      "outputs": [
        {
          "output_type": "execute_result",
          "data": {
            "text/plain": [
              "[1, 2, 3, 4, 5, 6]"
            ]
          },
          "metadata": {},
          "execution_count": 19
        }
      ],
      "source": [
        "[1, 2, 3] + [4, 5, 6] # Produces a new list with 6 elements"
      ]
    },
    {
      "cell_type": "markdown",
      "metadata": {
        "id": "BALzGuJoSqah"
      },
      "source": [
        "Appending an object (via `.append()`) places that object in the next position of the list:"
      ]
    },
    {
      "cell_type": "code",
      "execution_count": null,
      "metadata": {
        "ExecuteTime": {
          "end_time": "2023-08-31T18:30:57.675087Z",
          "start_time": "2023-08-31T18:30:57.671182Z"
        },
        "id": "Olvy79gFSqah",
        "colab": {
          "base_uri": "https://localhost:8080/"
        },
        "outputId": "bbfcba13-cd1f-48f3-9ffe-2291f222a4fb"
      },
      "outputs": [
        {
          "output_type": "stream",
          "name": "stdout",
          "text": [
            "[1, 2]\n",
            "[1, 2, 3]\n"
          ]
        }
      ],
      "source": [
        "x1 = [1, 2]\n",
        "print(x1)\n",
        "x1.append(3)\n",
        "print(x1) # [1, 2, 3]"
      ]
    },
    {
      "cell_type": "markdown",
      "metadata": {
        "id": "KVAKeFD-Sqah"
      },
      "source": [
        "Consequently, the following is *not* the same as concatenation!"
      ]
    },
    {
      "cell_type": "code",
      "execution_count": null,
      "metadata": {
        "id": "cgjuKVA9Sqah",
        "colab": {
          "base_uri": "https://localhost:8080/"
        },
        "outputId": "d986e720-d48a-42c7-80d1-2b084e71db1b"
      },
      "outputs": [
        {
          "output_type": "stream",
          "name": "stdout",
          "text": [
            "[1, 2, 3, [4, 5, 6]]\n"
          ]
        }
      ],
      "source": [
        "x1.append([4, 5, 6]) # does *not* concatenate!\n",
        "print(x1)"
      ]
    },
    {
      "cell_type": "markdown",
      "metadata": {
        "id": "F2KClgYPSqai"
      },
      "source": [
        "**Performance: append vs. insert.** Appending values to a list is fast compared to arbitrary insertions."
      ]
    },
    {
      "cell_type": "code",
      "execution_count": null,
      "metadata": {
        "ExecuteTime": {
          "end_time": "2023-08-31T18:45:29.793831Z",
          "start_time": "2023-08-31T18:45:29.783827Z"
        },
        "id": "qc6-MRLDSqai",
        "colab": {
          "base_uri": "https://localhost:8080/"
        },
        "outputId": "79d147ff-8b8e-476f-947c-9ea700764e92"
      },
      "outputs": [
        {
          "output_type": "stream",
          "name": "stdout",
          "text": [
            "The slowest run took 33.66 times longer than the fastest. This could mean that an intermediate result is being cached.\n",
            "147 ns ± 281 ns per loop (mean ± std. dev. of 100 runs, 1000 loops each)\n"
          ]
        }
      ],
      "source": [
        "# Append 100,000 values at the end of the list\n",
        "c1 = []\n",
        "t_append = %timeit -o -n1000 -r100 c1.append('a')"
      ]
    },
    {
      "cell_type": "code",
      "execution_count": null,
      "metadata": {
        "ExecuteTime": {
          "end_time": "2023-08-31T18:45:31.970083Z",
          "start_time": "2023-08-31T18:45:30.255041Z"
        },
        "id": "x4d_-aFRSqaj",
        "colab": {
          "base_uri": "https://localhost:8080/"
        },
        "outputId": "afd31f8c-2999-4feb-ce40-1cea65d3171c"
      },
      "outputs": [
        {
          "output_type": "stream",
          "name": "stdout",
          "text": [
            "The slowest run took 78.39 times longer than the fastest. This could mean that an intermediate result is being cached.\n",
            "27.8 µs ± 15 µs per loop (mean ± std. dev. of 100 runs, 1000 loops each)\n"
          ]
        }
      ],
      "source": [
        "# Insert 100,000 values at the front of the list (index=0)\n",
        "c0 = []\n",
        "t_insert = %timeit -o -n1000 -r100 c0.insert(0, 'a')"
      ]
    },
    {
      "cell_type": "code",
      "execution_count": null,
      "metadata": {
        "ExecuteTime": {
          "end_time": "2023-08-31T18:45:31.977923Z",
          "start_time": "2023-08-31T18:45:31.971254Z"
        },
        "id": "Lvqx3Ss9Sqaj",
        "colab": {
          "base_uri": "https://localhost:8080/"
        },
        "outputId": "8615efb2-b69d-419c-d5d6-3ba3682aeae1"
      },
      "outputs": [
        {
          "output_type": "stream",
          "name": "stdout",
          "text": [
            "==> (insert time) / (append time) for 100,000 ops: ~ 188.6x\n"
          ]
        }
      ],
      "source": [
        "# Verify that the outputs of the above are the same\n",
        "assert all([a == b for a, b in zip(c0, c1)]), \"Answers differed?\"\n",
        "\n",
        "# Report the ratio of execution times\n",
        "print(\"==> (insert time) / (append time) for 100,000 ops: ~ {:.1f}x\".format(t_insert.average / t_append.average))"
      ]
    },
    {
      "cell_type": "code",
      "execution_count": null,
      "metadata": {
        "ExecuteTime": {
          "end_time": "2023-08-31T18:44:03.283143Z",
          "start_time": "2023-08-31T18:43:47.729446Z"
        },
        "id": "iTMrkQLySqaj",
        "colab": {
          "base_uri": "https://localhost:8080/"
        },
        "outputId": "9ed144c8-cf35-4a31-e14a-dab24a390e89"
      },
      "outputs": [
        {
          "output_type": "stream",
          "name": "stdout",
          "text": [
            "The slowest run took 92.05 times longer than the fastest. This could mean that an intermediate result is being cached.\n",
            "91.7 µs ± 55.5 µs per loop (mean ± std. dev. of 100 runs, 3000 loops each)\n",
            "77.7 ns ± 53.4 ns per loop (mean ± std. dev. of 100 runs, 3000 loops each)\n",
            "\n",
            "==> (insert time) / (append time) for 300,000 ops: ~ 1180.5x\n"
          ]
        }
      ],
      "source": [
        "# Demonstrate scaling: Same experiment as above, but triple the ops\n",
        "c0 = []\n",
        "t_insert = %timeit -o -n3000 -r100 c0.insert(0, 'a')\n",
        "\n",
        "# Append the same 100,000 values at the end of the list\n",
        "c1 = []\n",
        "t_append = %timeit -o -n3000 -r100 c1.append('a')\n",
        "\n",
        "# Verify that the outputs of the above are the same\n",
        "assert all([a == b for a, b in zip(c0, c1)]), \"Answers differed?\"\n",
        "\n",
        "# Report the ratio of execution times\n",
        "print(\"\\n==> (insert time) / (append time) for 300,000 ops: ~ {:.1f}x\".format(t_insert.average / t_append.average))"
      ]
    },
    {
      "cell_type": "markdown",
      "metadata": {
        "id": "VdCLSHbYSqaj"
      },
      "source": [
        "**Performance, part 2: search.** Simple searches, which can be performed using the membership-test operator, `in`, can be slow."
      ]
    },
    {
      "cell_type": "code",
      "execution_count": null,
      "metadata": {
        "ExecuteTime": {
          "end_time": "2023-08-31T18:48:13.639731Z",
          "start_time": "2023-08-31T18:48:13.596353Z"
        },
        "id": "JnaXV1FvSqaj",
        "colab": {
          "base_uri": "https://localhost:8080/"
        },
        "outputId": "8687776c-1c10-4ecf-c26f-ccfaf52e0cd9"
      },
      "outputs": [
        {
          "output_type": "stream",
          "name": "stdout",
          "text": [
            "long_list = [72230, 97479, 72754, 71022, 9929] ... [28201, 26232, 4192, 45280, 29156]   (all values are unique)\n",
            "\n",
            "72230 in long_list == True\n",
            "29156 in long_list == True\n"
          ]
        }
      ],
      "source": [
        "long_list = list(range(100_000))\n",
        "shuffle(long_list)\n",
        "\n",
        "# Inspect first and last five elements:\n",
        "print('long_list =', long_list[:5], '...', long_list[-5:], '  (all values are unique)')\n",
        "first_elem = long_list[0]\n",
        "last_elem = long_list[-1]\n",
        "print('\\n{} in long_list == {}'.format(first_elem, first_elem in long_list))\n",
        "print('{} in long_list == {}'.format(last_elem, last_elem in long_list))"
      ]
    },
    {
      "cell_type": "code",
      "execution_count": null,
      "metadata": {
        "ExecuteTime": {
          "end_time": "2023-08-31T18:49:10.572027Z",
          "start_time": "2023-08-31T18:48:56.600554Z"
        },
        "scrolled": true,
        "id": "0VTaqPUnSqaj",
        "colab": {
          "base_uri": "https://localhost:8080/"
        },
        "outputId": "b26c0f9a-769e-449f-fc13-6f4238c7e7c7"
      },
      "outputs": [
        {
          "output_type": "stream",
          "name": "stdout",
          "text": [
            "\n",
            "Times to search a list of 100000 values (all unique):\n",
            "73.9 ns ± 21.2 ns per loop (mean ± std. dev. of 7 runs, 10000000 loops each)\n",
            "1.61 ms ± 310 µs per loop (mean ± std. dev. of 7 runs, 1000 loops each)\n",
            "\n",
            "==> Ratio: ~ 21732.5x\n"
          ]
        }
      ],
      "source": [
        "print('\\nTimes to search a list of {} values (all unique):'.format(len(long_list)))\n",
        "t_first = %timeit -o first_elem in long_list\n",
        "t_last = %timeit -o last_elem in long_list\n",
        "\n",
        "print('\\n==> Ratio: ~ {:.1f}x'.format(t_last.average / t_first.average))"
      ]
    },
    {
      "cell_type": "code",
      "execution_count": null,
      "metadata": {
        "ExecuteTime": {
          "end_time": "2023-08-31T18:53:59.777423Z",
          "start_time": "2023-08-31T18:53:59.768531Z"
        },
        "id": "dzbO4_oYSqaj",
        "colab": {
          "base_uri": "https://localhost:8080/"
        },
        "outputId": "6e51e8fd-da38-425a-d594-ec1e106cd43f"
      },
      "outputs": [
        {
          "output_type": "execute_result",
          "data": {
            "text/plain": [
              "99999"
            ]
          },
          "metadata": {},
          "execution_count": 28
        }
      ],
      "source": [
        "# Recall:\n",
        "long_list.index(last_elem) # O(n)"
      ]
    },
    {
      "cell_type": "code",
      "execution_count": null,
      "metadata": {
        "ExecuteTime": {
          "end_time": "2023-08-31T18:54:30.985210Z",
          "start_time": "2023-08-31T18:54:19.242164Z"
        },
        "id": "15EHOr0iSqaj",
        "colab": {
          "base_uri": "https://localhost:8080/"
        },
        "outputId": "f65c0477-030c-47ee-ad0e-caa4b1431198"
      },
      "outputs": [
        {
          "output_type": "stream",
          "name": "stdout",
          "text": [
            "1.76 ms ± 416 µs per loop (mean ± std. dev. of 7 runs, 1000 loops each)\n"
          ]
        }
      ],
      "source": [
        "%timeit long_list.index(last_elem)"
      ]
    },
    {
      "cell_type": "markdown",
      "metadata": {
        "id": "pP3iZOaiSqaj"
      },
      "source": [
        "## Aside: Variables are references\n",
        "\n",
        "One subtlety about variables is that you should always think of them as references or \"pointers\" to the underlying object or value. Example:"
      ]
    },
    {
      "cell_type": "code",
      "source": [
        "id([1, 2, 3])"
      ],
      "metadata": {
        "colab": {
          "base_uri": "https://localhost:8080/"
        },
        "id": "zmN5T4iPCKC8",
        "outputId": "c132dbfb-4d44-481c-e540-f9f18ed64774"
      },
      "execution_count": null,
      "outputs": [
        {
          "output_type": "execute_result",
          "data": {
            "text/plain": [
              "134192204670400"
            ]
          },
          "metadata": {},
          "execution_count": 30
        }
      ]
    },
    {
      "cell_type": "code",
      "execution_count": null,
      "metadata": {
        "ExecuteTime": {
          "end_time": "2023-08-31T18:57:41.129130Z",
          "start_time": "2023-08-31T18:57:41.121874Z"
        },
        "id": "-nclW4poSqaj",
        "colab": {
          "base_uri": "https://localhost:8080/"
        },
        "outputId": "7e418556-c3a4-40e9-a003-4cee4055b104"
      },
      "outputs": [
        {
          "output_type": "stream",
          "name": "stdout",
          "text": [
            "[1, 2, 3, 4]\n",
            "[1, 2, 3, 4]\n"
          ]
        }
      ],
      "source": [
        "x = [1, 2, 3]\n",
        "y = x\n",
        "x.append(4)\n",
        "print(x) # [1, 2, 3, 4]\n",
        "print(y)"
      ]
    },
    {
      "cell_type": "code",
      "source": [
        "id(x), id(y)"
      ],
      "metadata": {
        "colab": {
          "base_uri": "https://localhost:8080/"
        },
        "id": "rzPbQ60nCnbW",
        "outputId": "95ded4cc-d062-42ab-f875-b5dc9eaaeecc"
      },
      "execution_count": null,
      "outputs": [
        {
          "output_type": "execute_result",
          "data": {
            "text/plain": [
              "(134192160028160, 134192160028160)"
            ]
          },
          "metadata": {},
          "execution_count": 33
        }
      ]
    },
    {
      "cell_type": "markdown",
      "metadata": {
        "id": "E39HcOysSqaj"
      },
      "source": [
        "Observe that `y` and `x` \"point\" to the same object. Here is a nice visualization of this code and concept: [Python Tutor](https://pythontutor.com/render.html#code=x%20%3D%20%5B1,%202,%203%5D%0Ay%20%3D%20x%0Ax.append%284%29%0Aprint%28x%29%0Aprint%28y%29&cumulative=false&curInstr=0&heapPrimitives=nevernest&mode=display&origin=opt-frontend.js&py=3&rawInputLstJSON=%5B%5D&textReferences=false)."
      ]
    },
    {
      "cell_type": "markdown",
      "metadata": {
        "id": "p1d9_IcjSqaj"
      },
      "source": [
        "The Python `is` operator can be used to test whether two references are identical, and `.copy()` can be used to clone a list to be distinct references."
      ]
    },
    {
      "cell_type": "code",
      "execution_count": null,
      "metadata": {
        "ExecuteTime": {
          "end_time": "2023-08-31T19:00:59.434697Z",
          "start_time": "2023-08-31T19:00:59.428700Z"
        },
        "id": "XeBlB9Y1Sqaj",
        "colab": {
          "base_uri": "https://localhost:8080/"
        },
        "outputId": "4e1e18fb-8785-46c5-e9ee-c28a3024eca2"
      },
      "outputs": [
        {
          "output_type": "stream",
          "name": "stdout",
          "text": [
            "True\n",
            "False\n"
          ]
        }
      ],
      "source": [
        "print(x is y)\n",
        "print(x is not y) # By the way..."
      ]
    },
    {
      "cell_type": "code",
      "execution_count": null,
      "metadata": {
        "ExecuteTime": {
          "end_time": "2023-08-31T19:01:33.761254Z",
          "start_time": "2023-08-31T19:01:33.758487Z"
        },
        "id": "L6C7032zSqak"
      },
      "outputs": [],
      "source": [
        "z = y.copy()  # performs a so-called \"shallow\" copy\n",
        "print(x is z)\n",
        "\n",
        "x.append(len(x)+1)\n",
        "print(x, z)"
      ]
    },
    {
      "cell_type": "markdown",
      "metadata": {
        "id": "wJRwlf0bSqak"
      },
      "source": [
        "Try out the `.copy()` code in the [Python Tutor](https://pythontutor.com/render.html#code=x%20%3D%20%5B1,%202,%203%5D%0Ay%20%3D%20x.copy%28%29%0Ax.append%284%29&cumulative=false&curInstr=0&heapPrimitives=nevernest&mode=display&origin=opt-frontend.js&py=3&rawInputLstJSON=%5B%5D&textReferences=false)."
      ]
    },
    {
      "cell_type": "markdown",
      "metadata": {
        "id": "zQeTQUNSSqak"
      },
      "source": [
        "So what if you want a \"deep\" copy, rather than a shallow one? There is a module and function for that:"
      ]
    },
    {
      "cell_type": "code",
      "execution_count": null,
      "metadata": {
        "ExecuteTime": {
          "end_time": "2023-08-31T19:08:08.344970Z",
          "start_time": "2023-08-31T19:08:08.340223Z"
        },
        "id": "PVStKiiXSqak"
      },
      "outputs": [],
      "source": [
        "from copy import deepcopy\n",
        "\n",
        "x = [1, 2, 3]\n",
        "x.append([4, 5, 6]) # [1, 2, 3, [4, 5, 6]]\n",
        "y = x.copy()\n",
        "z = deepcopy(x)\n",
        "y[3].append(7)\n",
        "print(x)\n",
        "print(y)\n",
        "print(z)"
      ]
    },
    {
      "cell_type": "markdown",
      "metadata": {
        "id": "9WkmkLSOSqak"
      },
      "source": [
        "> See this example in the [Python Tutor](https://pythontutor.com/render.html#code=from%20copy%20import%20deepcopy%0A%0Ax%20%3D%20%5B1,%202,%203%5D%0Ax.append%28%5B4,%205,%206%5D%29%20%23%20%5B1,%202,%203,%20%5B4,%205,%206%5D%5D%0Ay%20%3D%20x.copy%28%29%0Az%20%3D%20deepcopy%28x%29%0Ay%5B3%5D.append%287%29&cumulative=false&curInstr=0&heapPrimitives=nevernest&mode=display&origin=opt-frontend.js&py=3&rawInputLstJSON=%5B%5D&textReferences=false)."
      ]
    },
    {
      "cell_type": "markdown",
      "metadata": {
        "id": "K8w-WcswSqal"
      },
      "source": [
        "## Sets\n",
        "\n",
        "A Python set is like a mathematical set: all values are unique and immutable (more later). Therefore, the underlying implementation is free to organize values in clever ways so that search or membership-test becomes much faster than with lists.\n",
        "\n",
        "> A set is itself mutable, even though its values must be immutable. If you require an immutable set, use [`frozenset`](https://docs.python.org/3/library/stdtypes.html#frozenset)."
      ]
    },
    {
      "cell_type": "code",
      "execution_count": null,
      "metadata": {
        "ExecuteTime": {
          "end_time": "2023-08-31T19:09:57.107093Z",
          "start_time": "2023-08-31T19:09:57.101288Z"
        },
        "id": "E3dexWIxSqal",
        "colab": {
          "base_uri": "https://localhost:8080/"
        },
        "outputId": "a8a48ae6-e993-46fb-e2b5-6d814fabdcef"
      },
      "outputs": [
        {
          "output_type": "stream",
          "name": "stdout",
          "text": [
            "{1, 2, 3, 4, 5} & {3, 4, 5, 6, 7} == {3, 4, 5}\n",
            "{1, 2, 3, 4, 5} | {3, 4, 5, 6, 7} == {1, 2, 3, 4, 5, 6, 7}\n",
            "{1, 2, 3, 4, 5} - {3, 4, 5, 6, 7} == {1, 2}\n",
            "{1, 2, 3, 4, 5} < {3, 4, 5, 6, 7} == False\n"
          ]
        }
      ],
      "source": [
        "A = {1, 2, 3, 4, 5}\n",
        "B = {3, 4, 5, 6, 7}\n",
        "print(A, '&', B, '==', A & B) # intersection\n",
        "print(A, '|', B, '==', A | B) # union\n",
        "print(A, '-', B, '==', A - B) # difference\n",
        "print(A, '<', B, '==', A < B) # proper subset (use `<=` for subset, `>` or `>=` for superset, or '==' for equality)"
      ]
    },
    {
      "cell_type": "code",
      "execution_count": null,
      "metadata": {
        "ExecuteTime": {
          "end_time": "2023-08-31T19:11:04.589888Z",
          "start_time": "2023-08-31T19:11:04.587251Z"
        },
        "id": "4bvmVD6MSqal",
        "colab": {
          "base_uri": "https://localhost:8080/"
        },
        "outputId": "659975db-fa0a-4eb2-f4a3-9917b8f62dbc"
      },
      "outputs": [
        {
          "output_type": "execute_result",
          "data": {
            "text/plain": [
              "True"
            ]
          },
          "metadata": {},
          "execution_count": 36
        }
      ],
      "source": [
        "4 in A"
      ]
    },
    {
      "cell_type": "code",
      "execution_count": null,
      "metadata": {
        "ExecuteTime": {
          "end_time": "2023-08-31T19:10:13.573400Z",
          "start_time": "2023-08-31T19:10:13.570258Z"
        },
        "id": "HhJE7KTbSqal",
        "colab": {
          "base_uri": "https://localhost:8080/"
        },
        "outputId": "e27251de-5815-41ee-c483-fda6c6512bab"
      },
      "outputs": [
        {
          "output_type": "stream",
          "name": "stdout",
          "text": [
            "{1, 2, 3, 4, 5, 8}\n",
            "{1, 2, 3, 4, 5, 8, -2, -3, -1}\n"
          ]
        }
      ],
      "source": [
        "A.add(8)\n",
        "print(A)\n",
        "\n",
        "A.update({-1, -2, -3})\n",
        "print(A)"
      ]
    },
    {
      "cell_type": "markdown",
      "metadata": {
        "id": "r0utuAY3Sqal"
      },
      "source": [
        "Under the hood, Python is free to reorder your values. So if you create a set with values in a particular order, don't assume these are maintained when printing or iterating over the set:"
      ]
    },
    {
      "cell_type": "code",
      "execution_count": null,
      "metadata": {
        "ExecuteTime": {
          "end_time": "2023-08-31T17:17:59.752885Z",
          "start_time": "2023-08-31T17:17:59.750836Z"
        },
        "id": "VJmbW8LbSqal",
        "colab": {
          "base_uri": "https://localhost:8080/"
        },
        "outputId": "87cc4cbf-1ef2-4cf3-eb97-639e5a04b0a4"
      },
      "outputs": [
        {
          "output_type": "stream",
          "name": "stdout",
          "text": [
            "{1, 2, 3, 4, 5}\n",
            "[1, 2, 3, 4, 5]\n"
          ]
        }
      ],
      "source": [
        "A2 = {5, 4, 3, 2, 1}\n",
        "print(A2)\n",
        "print([a for a in A2])"
      ]
    },
    {
      "cell_type": "markdown",
      "metadata": {
        "id": "64vRCiC4Sqal"
      },
      "source": [
        "Values are not limited to integers and, like lists, elements may mix types. **However, the elements must be immutable**. Recall that the primitive built-in types (e.g., `int`, `float`, `str`, `bool`) are immutable, as is `tuple`. However, a `list` is mutable, and therefore cannot be a set element."
      ]
    },
    {
      "cell_type": "code",
      "execution_count": null,
      "metadata": {
        "ExecuteTime": {
          "end_time": "2023-08-31T17:18:00.320705Z",
          "start_time": "2023-08-31T17:18:00.318335Z"
        },
        "id": "ivngeS4uSqal"
      },
      "outputs": [],
      "source": [
        "E = {'cat', 1.61803398875, ('a', 'b', 'c')}\n",
        "# E.add([1, 2, 3]) # Error!\n",
        "print(E)"
      ]
    },
    {
      "cell_type": "markdown",
      "metadata": {
        "id": "NHc15zB_Sqal"
      },
      "source": [
        "> There is a subtlety -- although `tuple` is immutable, you can construct a `tuple` that contains mutable values, e.g., the triple `(1, 2, [3, 4, 5])` where the third element is a `list`, which is mutable. This tuple would, therefore, be an invalid set element."
      ]
    },
    {
      "cell_type": "markdown",
      "metadata": {
        "id": "K5iAY63NSqam"
      },
      "source": [
        "**Performance of membership tests.**"
      ]
    },
    {
      "cell_type": "code",
      "execution_count": null,
      "metadata": {
        "ExecuteTime": {
          "end_time": "2023-08-31T17:02:25.864758Z",
          "start_time": "2023-08-31T17:02:25.858599Z"
        },
        "id": "vr0KcAflSqam"
      },
      "outputs": [],
      "source": [
        "big_set = set(long_list) # Convert list to set\n",
        "\n",
        "print('{} in big_set == {}'.format(first_elem, first_elem in big_set))\n",
        "print('{} in big_set == {}'.format(last_elem, last_elem in big_set))"
      ]
    },
    {
      "cell_type": "code",
      "execution_count": null,
      "metadata": {
        "ExecuteTime": {
          "end_time": "2023-08-31T17:02:33.733042Z",
          "start_time": "2023-08-31T17:02:26.143990Z"
        },
        "id": "nIV-zZNOSqam"
      },
      "outputs": [],
      "source": [
        "print('\\nTimes to search a set of {} values (all unique):'.format(len(big_set)))\n",
        "t_first = %timeit -o first_elem in big_set\n",
        "t_last = %timeit -o last_elem in big_set\n",
        "\n",
        "print('\\n==> Ratio: ~ {:.1f}x'.format(t_last.average / t_first.average))"
      ]
    },
    {
      "cell_type": "markdown",
      "metadata": {
        "id": "gKfQde0TSqam"
      },
      "source": [
        "**Another example.** Let's use sets, whose values will be unique, to count the number of unique values in a list."
      ]
    },
    {
      "cell_type": "code",
      "execution_count": null,
      "metadata": {
        "ExecuteTime": {
          "end_time": "2023-08-31T17:02:40.286207Z",
          "start_time": "2023-08-31T17:02:40.282386Z"
        },
        "id": "xvAivUV2Sqam"
      },
      "outputs": [],
      "source": [
        "# http://socialgoodipsum.com/#/\n",
        "social_good_ipsum = \"Agile bandwidth; greenwashing citizen-centered; scale and impact shared value theory of change mass incarceration. Entrepreneur entrepreneur benefit corporation think tank effective her body her rights her body her rights strengthening infrastructure. Collective impact, her body her rights innovation thought provoking social enterprise boots on the ground. Radical black lives matter academic, our work energize granular inclusion expose the truth. Collective impact collective impact LGBTQ+ effective we must stand up. Collaborative cities; inspire, social intrapreneurship outcomes society impact bandwidth. Mass incarceration ecosystem problem-solvers, communities best practices social return on investment and synergy synergy. Shared value, equal opportunity; social innovation segmentation vibrant. Agile problem-solvers progress paradigm B-corp. State of play compelling, compelling; social innovation, effective systems thinking parse cultivate preliminary thinking. Global, triple bottom line; replicable, low-hanging fruit society collective impact society cultivate boots on the ground. Movements entrepreneur targeted, segmentation, game-changer. Empower communities, save the world thought leadership mobilize social entrepreneurship systems thinking impact investing. Correlation policymaker movements inspirational, empower communities, but, B-corp emerging. Social entrepreneurship, ideate scalable, philanthropy then thought leader. Save the world technology unprecedented challenge milestones challenges and opportunities sustainable a. Rubric collaborative consumption targeted, empathetic emerging; collaborative cities leverage. Corporate social responsibility inspire social return on investment cultivate shared vocabulary efficient commitment. State of play benefit corporation, theory of change strategy gender rights catalyze. Effective, change-makers engaging co-creation; circular think tank synergy we must stand up improve the world. Natural resources milestones the scale and impact silo compassion. Then, resilient, shared unit of analysis inspiring the inspire. Social return on investment change-makers strategize, co-create change-makers scale and impact issue outcomes overcome injustice. Correlation, social entrepreneurship shared value, social enterprise blended value LGBTQ+ strategy. Indicators, catalyze shared value inclusion; initiative unprecedented challenge and. Collaborative consumption, to, revolutionary ecosystem thought leader benefit corporation replicable engaging. Initiative gender rights collective.\"\n",
        "alpha_only = ''.join([c for c in social_good_ipsum if c.isalpha() or c.isspace()])\n",
        "tokens = alpha_only.split()\n",
        "print(f\"The original string has {len(tokens)} tokens.\")\n",
        "\n",
        "unique_tokens = set(tokens)\n",
        "print(f\"Of these, {len(unique_tokens)} are unique.\")"
      ]
    },
    {
      "cell_type": "markdown",
      "metadata": {
        "id": "_EHCcdOfSqan"
      },
      "source": [
        "## Dictionaries\n",
        "\n",
        "A dictionary is a map of unique keys to values. Like set elements, keys must be unique."
      ]
    },
    {
      "cell_type": "code",
      "execution_count": null,
      "metadata": {
        "ExecuteTime": {
          "end_time": "2023-08-31T19:13:23.688928Z",
          "start_time": "2023-08-31T19:13:23.685072Z"
        },
        "id": "AtaKxO91Sqan"
      },
      "outputs": [],
      "source": [
        "d['e_approx']"
      ]
    },
    {
      "cell_type": "code",
      "execution_count": null,
      "metadata": {
        "ExecuteTime": {
          "end_time": "2023-08-31T19:13:07.112196Z",
          "start_time": "2023-08-31T19:13:07.102208Z"
        },
        "id": "kXf32Q2fSqan"
      },
      "outputs": [],
      "source": [
        "d = {'pi_approx': 3.14159265359,\n",
        "     'e_approx': 2.71828182846,\n",
        "     'c_approx': '299,792,458 m/s',\n",
        "     'h_bar_approx': '6.62607004e-34 m^2 kg / s'}\n",
        "print('d =', d)"
      ]
    },
    {
      "cell_type": "markdown",
      "metadata": {
        "id": "K-IWRihJSqan"
      },
      "source": [
        "The keys in the above example all have the same type, but need not. For example, let's add some integer keys."
      ]
    },
    {
      "cell_type": "code",
      "execution_count": null,
      "metadata": {
        "ExecuteTime": {
          "end_time": "2023-08-31T17:03:19.220443Z",
          "start_time": "2023-08-31T17:03:19.218169Z"
        },
        "scrolled": true,
        "id": "Bw3BzJdmSqan"
      },
      "outputs": [],
      "source": [
        "d[0] = 0.0\n",
        "d[1] = 1.0\n",
        "d[-1] = -1.0\n",
        "d['minus_one'] = d[-1]\n",
        "print(len(d), 'key-value pairs:', d)"
      ]
    },
    {
      "cell_type": "markdown",
      "metadata": {
        "id": "NnncOXQ1Sqan"
      },
      "source": [
        "Deletion of keys:"
      ]
    },
    {
      "cell_type": "code",
      "execution_count": null,
      "metadata": {
        "ExecuteTime": {
          "end_time": "2023-08-31T17:03:20.649274Z",
          "start_time": "2023-08-31T17:03:20.647323Z"
        },
        "id": "UpfVsrz6Sqan"
      },
      "outputs": [],
      "source": [
        "d.pop('minus_one')\n",
        "print(len(d), 'key-value pairs:', d)"
      ]
    },
    {
      "cell_type": "code",
      "execution_count": null,
      "metadata": {
        "ExecuteTime": {
          "end_time": "2023-08-31T17:03:21.282273Z",
          "start_time": "2023-08-31T17:03:21.280005Z"
        },
        "id": "axaJ-tWmSqan"
      },
      "outputs": [],
      "source": [
        "print(d['c_approx'])\n",
        "print(d.keys())\n",
        "print(d.values())\n",
        "print(d.items()) # (key, value) pairs"
      ]
    },
    {
      "cell_type": "markdown",
      "metadata": {
        "id": "cN36E-P6Sqan"
      },
      "source": [
        "Key-membership testing:"
      ]
    },
    {
      "cell_type": "code",
      "execution_count": null,
      "metadata": {
        "ExecuteTime": {
          "end_time": "2023-08-31T17:12:31.916241Z",
          "start_time": "2023-08-31T17:12:31.911816Z"
        },
        "id": "HRo6UtYqSqan"
      },
      "outputs": [],
      "source": [
        "print('h_bar_approx' in d)\n",
        "print('planck constant' in d)"
      ]
    },
    {
      "cell_type": "markdown",
      "metadata": {
        "id": "S64JUIbySqao"
      },
      "source": [
        "Referencing missing keys will produce an error:"
      ]
    },
    {
      "cell_type": "code",
      "execution_count": null,
      "metadata": {
        "ExecuteTime": {
          "end_time": "2023-08-31T17:12:33.412437Z",
          "start_time": "2023-08-31T17:12:33.410587Z"
        },
        "id": "u-9RswETSqao"
      },
      "outputs": [],
      "source": [
        "# d['planck constant']   # Uncomment to see an error"
      ]
    },
    {
      "cell_type": "markdown",
      "metadata": {
        "id": "7Xy7pUTNSqao"
      },
      "source": [
        "Example: Build an English-to-French dictionary."
      ]
    },
    {
      "cell_type": "code",
      "execution_count": null,
      "metadata": {
        "ExecuteTime": {
          "end_time": "2023-08-31T17:12:34.255396Z",
          "start_time": "2023-08-31T17:12:34.252255Z"
        },
        "id": "ViOA4LxKSqao"
      },
      "outputs": [],
      "source": [
        "english = \"one two three four five six seven eight nine ten\".split()\n",
        "print(english)\n",
        "\n",
        "french = \"un deux trois quatre cinq six sept huit neuf dix\".split()\n",
        "print(french)"
      ]
    },
    {
      "cell_type": "code",
      "execution_count": null,
      "metadata": {
        "ExecuteTime": {
          "end_time": "2023-08-31T17:12:35.873877Z",
          "start_time": "2023-08-31T17:12:35.871481Z"
        },
        "id": "cUio247QSqao"
      },
      "outputs": [],
      "source": [
        "e2f = {k: v for k, v in zip(english, french)} # Dictionary comprehension\n",
        "print(e2f['three'])"
      ]
    },
    {
      "cell_type": "markdown",
      "metadata": {
        "id": "Q8YTcvtgSqao"
      },
      "source": [
        "**Performance of key-membership testing.** The time to check if a key is present should be comparable to set-membership. That fact would imply that looking up a value in a dictionary will take about the same amount of time."
      ]
    },
    {
      "cell_type": "code",
      "execution_count": null,
      "metadata": {
        "ExecuteTime": {
          "end_time": "2023-08-31T17:17:49.847492Z",
          "start_time": "2023-08-31T17:17:41.353765Z"
        },
        "id": "csT6mRhESqao"
      },
      "outputs": [],
      "source": [
        "big_dict = {v: True for v in long_list} # Convert list to dictionary of (value, True) pairs\n",
        "\n",
        "print('{} in big_dict == {}'.format(first_elem, first_elem in big_dict))\n",
        "print('{} in big_dict == {}'.format(last_elem, last_elem in big_dict))\n",
        "\n",
        "print('\\nTimes to search a dictionary of {} keys:'.format(len(big_dict)))\n",
        "t_first = %timeit -o first_elem in big_dict\n",
        "t_last = %timeit -o last_elem in big_dict\n",
        "\n",
        "print('\\n==> Ratio: ~ {:.1f}x'.format(t_last.average / t_first.average))"
      ]
    },
    {
      "cell_type": "markdown",
      "metadata": {
        "id": "wcOT1BgYSqap"
      },
      "source": [
        "> Recall that sets are unordered. Dictionary keys used to be unordered, too, but that changed as of Python 3.7. For a discussion of this fact, see [this summary](https://softwaremaniacs.org/blog/2020/02/05/dicts-ordered/). Our suggestion is to not assume anything about the ordering of keys in a dictionary."
      ]
    },
    {
      "cell_type": "markdown",
      "metadata": {
        "id": "1RQKPV6kSqap"
      },
      "source": [
        "## Aside: Nesting\n",
        "\n",
        "Since lists and dictionaries can contain values (but not keys, in the case of dictionaries) of arbitrary types, you can nest data structures."
      ]
    },
    {
      "cell_type": "markdown",
      "metadata": {
        "id": "ZDFo2i2eSqap"
      },
      "source": [
        "**Example: Dictionary of dictionaries.**"
      ]
    },
    {
      "cell_type": "code",
      "execution_count": null,
      "metadata": {
        "ExecuteTime": {
          "end_time": "2023-08-31T17:17:49.853565Z",
          "start_time": "2023-08-31T17:17:49.850002Z"
        },
        "id": "NQh4Mo__Sqap"
      },
      "outputs": [],
      "source": [
        "numbers = {i+1: {'english': english[i],\n",
        "                 'french': french[i]\n",
        "                } for i in range(10)\n",
        "          }\n",
        "\n",
        "print('5 is \"{english}\" in English and \"{french}\" in French.'.format(english=numbers[5]['english'],\n",
        "                                                                     french=numbers[5]['french']))"
      ]
    },
    {
      "cell_type": "markdown",
      "metadata": {
        "id": "YuMWfHM7Sqap"
      },
      "source": [
        "**Aside within an aside: argument unpacking with dictionaries.** One trick that a dictionary enables is called [argument unpacking](https://docs.python.org/3/tutorial/controlflow.html#tut-unpacking-arguments). That is the substituion of keys for named arguments.\n",
        "\n",
        "For example, look at the print statement above: the `.format(...)` subexpression requires named arguments. If you have any dictionary with the same keys, you can substitute those using the `**` operator:"
      ]
    },
    {
      "cell_type": "code",
      "execution_count": null,
      "metadata": {
        "ExecuteTime": {
          "end_time": "2023-08-31T17:17:49.860213Z",
          "start_time": "2023-08-31T17:17:49.856104Z"
        },
        "id": "6ySc-s6YSqap"
      },
      "outputs": [],
      "source": [
        "numbers"
      ]
    },
    {
      "cell_type": "code",
      "execution_count": null,
      "metadata": {
        "ExecuteTime": {
          "end_time": "2023-08-31T17:17:49.865179Z",
          "start_time": "2023-08-31T17:17:49.862752Z"
        },
        "scrolled": true,
        "id": "QiIrg6C7Sqap"
      },
      "outputs": [],
      "source": [
        "six = numbers[6]\n",
        "print(f\"Dictionary `six` is {six}.\")\n",
        "\n",
        "print('\\n==> 6 is \"{english}\" in English and \"{french}\" in French.'.format(**six))"
      ]
    },
    {
      "cell_type": "markdown",
      "metadata": {
        "collapsed": true,
        "id": "DM1B_rpVSqap"
      },
      "source": [
        "# Summary #\n",
        "\n",
        "* Basic operations on the \"core\" Python collections: tuples, lists, sets, and dictionaries\n",
        "* These differ in their basic interfaces: what they hold, how to build them, how to add items, how to remove items, how to perform \"queries\" (lookups), how to merge or combine them, ...\n",
        "* Be aware of whether they are mutable or immutable, and whether they may contain mutable or immutable objects\n",
        "* Teach yourself heuristics to remember the basic cost of different kinds of operations"
      ]
    },
    {
      "cell_type": "markdown",
      "source": [
        "## Meta-concept P.S.: The \"physics\" of computation\n",
        "\n",
        "In class, I made several additional side-comments intended to remind you of a (somewhat) deeper fact about computation: although it may seem virtual and abstract—it is _also_ rooted in the physical world because the machines that execute our programs _are_ physical artifacts! When we talk about making computation efficient, we are (implicitly) exploiting the physical properties of machines.\n",
        "\n",
        "**Energy and computation.** You experience this \"physics\" every day if you own a mobile device: as your active use of it goes up, the battery life (its energy capacity) decreases, and it emits heat (the transformation of information expends energy, which is then released into the environment). A computation that does fewer operations consumes less energy and \"runs cooler.\"\n",
        "\n",
        "The experiments in this notebook reveal other facts about the physics of our machines.\n",
        "\n",
        "**The organization of memory.** For example, consider the list-append versus list-insert comparison, which reveals a fundamental fact that data must be _physically organized_ in some way in a machine.\n",
        "\n",
        "You can think of the storage of your computer—its _memory_—as being essentially one big list! The way we use the list—the \"list abstraction\"—says that when we put an element into the list, we assign it to a location, its integer index, starting from 0. The operation, \"give me the value at location `i`\" is fast for lists because we know exactly how to get to location `i`.\n",
        "\n",
        "So, when we first create an \"empty\" list, you can imagine reserving a bunch of consecutive spaces in memory. When we append, we simply add the element to the next available space in our \"reservation.\" However, if you insert at the beginning, you need to move everything you've stored so far down to make room for the new element and maintain the correct effect of the operation, \"give me the value at location `i`\". As the list size grows, so does the cost of shifting its existing elements. That's why we see such a stark difference between the cost of list-append and list-insert.\n",
        "\n",
        "> _Thought question:_ What happens when we fill all the slots of our initial reeservation?\n",
        "\n",
        "In the next class, we will continue this conversation using dictionaries and sets as examples, in addition to making these high-level claims more \"analytical\" (i.e., with simple scaling formulas).\n",
        "\n",
        "**Parallelism.** Another fact about physical machines today is that the computer does not have just one \"unit\" capable of performing an operation. Rather, it can do _many_ simultaneous operations. We refer to this mode of operating as \"parallel computation\"—doing many operations, in parallel, at once. The best example of such a parallel machine is a GPU; and GPU technology is what made NVIDIA the world's largest company, with a market cap in excess of $1 trillion USD!\n",
        "\n",
        "To efficiently use modern machines, we should arrange whatever operations we need to do so that many are available to be executed at any given time. That's not always possible, but the more you can do it, the more likely your computation will continue to scale with successive generations of machines.\n",
        "\n",
        "I draw your attention to this fact because the way we teach computing largely _ignores_ parallelism, even at the graduate level. As a result, the prototype many people write for small scale problems must be completely rewritten when deployed \"at scale\" on, say, an entire compute cluster or datacenter. When you use techniques like the \"data parallelism\" example embodied by the list comprehension, `[f(e) for e in L if p(e)]`, you are (implicitly) designing a piece of computation that _can_ scale when `L` is a massive collection. So, even if this form does not buy you much at a small scale on the system you happen to be running on right now, if that code is part of a larger application that _will_ be deployed at scale, your foresight will reduce the engineering effort needed to achieve scale.\n",
        "\n",
        "**Summary.** I hope today's class helped you appreciate that computers are real ([unlike birds](https://birdsarentreal.com/?srsltid=AfmBOookD4onPs8GPaWNTc52U--_9GJ9S7mX-9Gv9GMn_cSBGLloObOE)): they are physical systems, and when you design a computation, you may be making choices (explicitly or not) whose performance and efficiency will be affected by the physical nature of the system."
      ],
      "metadata": {
        "id": "ybYdRDD3yIJs"
      }
    }
  ],
  "metadata": {
    "celltoolbar": "Slideshow",
    "kernelspec": {
      "display_name": "Python 3 (ipykernel)",
      "language": "python",
      "name": "python3"
    },
    "language_info": {
      "codemirror_mode": {
        "name": "ipython",
        "version": 3
      },
      "file_extension": ".py",
      "mimetype": "text/x-python",
      "name": "python",
      "nbconvert_exporter": "python",
      "pygments_lexer": "ipython3",
      "version": "3.8.15"
    },
    "toc": {
      "base_numbering": 1,
      "nav_menu": {},
      "number_sections": true,
      "sideBar": true,
      "skip_h1_title": false,
      "title_cell": "Table of Contents",
      "title_sidebar": "Contents",
      "toc_cell": false,
      "toc_position": {},
      "toc_section_display": true,
      "toc_window_display": false
    },
    "colab": {
      "provenance": [],
      "toc_visible": true,
      "include_colab_link": true
    }
  },
  "nbformat": 4,
  "nbformat_minor": 0
}