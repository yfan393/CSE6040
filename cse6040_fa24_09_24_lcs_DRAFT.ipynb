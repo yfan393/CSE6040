{
  "cells": [
    {
      "cell_type": "markdown",
      "metadata": {
        "id": "view-in-github",
        "colab_type": "text"
      },
      "source": [
        "<a href=\"https://colab.research.google.com/github/yfan393/CSE6040/blob/main/cse6040_fa24_09_24_lcs_DRAFT.ipynb\" target=\"_parent\"><img src=\"https://colab.research.google.com/assets/colab-badge.svg\" alt=\"Open In Colab\"/></a>"
      ]
    },
    {
      "cell_type": "markdown",
      "metadata": {
        "id": "IoH1t2cmcB6d"
      },
      "source": [
        "# Problem-solving techniques: slicing, data parallelism, preconditioning, and the \"longest consecutive subsequences\" problem #\n",
        "\n",
        "## Link: `bit.ly/4eDM9t7`\n",
        "\n",
        "_(September 24, 2024)_\n",
        "\n",
        "* Review: Properties of slices\n",
        "* Pro-tip: Pretty-printing nested data structures\n",
        "* Review: Basics of problem solving — outputs, inputs, and strategy\n",
        "* New topic: \"Data parallelism\" — elevating your view of problems\n",
        "* Example: Longest consecutive subsequences (from Codewars)"
      ]
    },
    {
      "cell_type": "markdown",
      "metadata": {
        "id": "GI5d88bTcB6e"
      },
      "source": [
        "# Review: Facts about slicing #\n",
        "\n",
        "Take a moment to review how slicing works. We'll use slices in a subsequent example."
      ]
    },
    {
      "cell_type": "markdown",
      "metadata": {
        "id": "f_Cht4kdcB6e"
      },
      "source": [
        "Here is one example: suppose you have the list `L` below and you want to extract the last three elements. Come up with **two slice-based methods** to do it."
      ]
    },
    {
      "cell_type": "code",
      "execution_count": null,
      "metadata": {
        "ExecuteTime": {
          "end_time": "2023-09-21T17:37:27.473616Z",
          "start_time": "2023-09-21T17:37:27.470218Z"
        },
        "id": "-QjJNS7ScB6e"
      },
      "outputs": [],
      "source": [
        "#.   0.    1.   2.   3.   4\n",
        "L = [\"a\", \"b\", \"c\", \"d\", \"e\"]\n",
        "\n",
        "### YOUR CODE HERE ###\n",
        "# L[a:b:s] start at a, stop just before b, proceed in steps of size s\n",
        "#          defaults: a = 0, b = len(L), s = 1\n",
        "#          a, b < 0: len(L)-{a,b}\n",
        "# L[-3:] ==> L[len(L)-3:len(L):1]"
      ]
    },
    {
      "cell_type": "markdown",
      "metadata": {
        "id": "DFRKlWBRcB6f"
      },
      "source": [
        "When you reference a list using an invalid index, you get an error. Uncomment the following line to see an example:"
      ]
    },
    {
      "cell_type": "code",
      "execution_count": null,
      "metadata": {
        "ExecuteTime": {
          "end_time": "2023-09-21T17:37:27.479833Z",
          "start_time": "2023-09-21T17:37:27.478117Z"
        },
        "id": "Po7JL1KlcB6f"
      },
      "outputs": [],
      "source": [
        "#L[len(L)] # Fails: Why?"
      ]
    },
    {
      "cell_type": "markdown",
      "metadata": {
        "id": "Vjnh1jbZcB6f"
      },
      "source": [
        "Slices work a little differently. Consider the following slice of a list:"
      ]
    },
    {
      "cell_type": "code",
      "execution_count": null,
      "metadata": {
        "ExecuteTime": {
          "end_time": "2023-09-21T17:37:27.484893Z",
          "start_time": "2023-09-21T17:37:27.482598Z"
        },
        "id": "zLTFW3-EcB6f",
        "colab": {
          "base_uri": "https://localhost:8080/"
        },
        "outputId": "77a7eeef-3682-40a5-840b-5ef0372732f6"
      },
      "outputs": [
        {
          "output_type": "execute_result",
          "data": {
            "text/plain": [
              "[]"
            ]
          },
          "metadata": {},
          "execution_count": 3
        }
      ],
      "source": [
        "### INSERT: SLICE FROM `len(L)` ###\n",
        "L[len(L):]"
      ]
    },
    {
      "cell_type": "markdown",
      "metadata": {
        "id": "Xvc1xYR_cB6g"
      },
      "source": [
        "Instead of failing, `L[len(L):]` returns an empty list!\n",
        "\n",
        "You can think of it this way. First, Python interprets the slice; a range with invalid indices yields an empty range. Referencing the list on an empty range returns an empty list.\n",
        "\n",
        "Why is this default behavior helpful? You can use it to construct more \"robust\" algorithms by not having to worry about corner cases, e.g., an empty subset or out-of-bounds ranges."
      ]
    },
    {
      "cell_type": "markdown",
      "metadata": {
        "id": "8osrAuavcB6h"
      },
      "source": [
        "Here is another example:"
      ]
    },
    {
      "cell_type": "code",
      "execution_count": null,
      "metadata": {
        "ExecuteTime": {
          "end_time": "2023-09-21T17:37:27.488164Z",
          "start_time": "2023-09-21T17:37:27.485835Z"
        },
        "id": "Z_Vm3lLScB6h",
        "colab": {
          "base_uri": "https://localhost:8080/"
        },
        "outputId": "7cfb1baf-fdd2-44aa-e7ff-2e73248c2943"
      },
      "outputs": [
        {
          "output_type": "execute_result",
          "data": {
            "text/plain": [
              "['a', 'b', 'c', 'd', 'e']"
            ]
          },
          "metadata": {},
          "execution_count": 4
        }
      ],
      "source": [
        "L[-6:1_000_000_000]"
      ]
    },
    {
      "cell_type": "markdown",
      "metadata": {
        "id": "jcyoXO4fcB6h"
      },
      "source": [
        "# Pro-tip: Pretty-printing nested data structures #\n",
        "\n",
        "When debugging, consider [`pprint.pprint()`](https://docs.python.org/3/library/pprint.html) to \"pretty print\" a native-Python nested data structure."
      ]
    },
    {
      "cell_type": "markdown",
      "metadata": {
        "id": "EPbxF3NjcB6h"
      },
      "source": [
        "**Example:** Consider the following \"list of dictionaries.\""
      ]
    },
    {
      "cell_type": "code",
      "execution_count": null,
      "metadata": {
        "ExecuteTime": {
          "end_time": "2023-09-21T17:37:27.443677Z",
          "start_time": "2023-09-21T17:37:27.427777Z"
        },
        "id": "0dw7aPuucB6i",
        "colab": {
          "base_uri": "https://localhost:8080/"
        },
        "outputId": "2f66dd66-e980-4ac0-ac18-7004944b7394"
      },
      "outputs": [
        {
          "output_type": "stream",
          "name": "stdout",
          "text": [
            "[{'first': 'Guido', 'last': 'Van Rossum', 'year': 1956}, {'first': 'Grace', 'last': 'Hopper', 'year': 1906}, {'first': 'Alan', 'last': 'Turing', 'year': 1912}]\n"
          ]
        }
      ],
      "source": [
        "data = [{'first': 'Guido', 'last': 'Van Rossum', 'year': 1956},\n",
        "        {'first': 'Grace', 'last': 'Hopper',     'year': 1906},\n",
        "        {'first': 'Alan',  'last': 'Turing',     'year': 1912}]\n",
        "print(data)"
      ]
    },
    {
      "cell_type": "code",
      "execution_count": null,
      "metadata": {
        "ExecuteTime": {
          "end_time": "2023-09-21T17:37:27.449823Z",
          "start_time": "2023-09-21T17:37:27.446484Z"
        },
        "id": "9F74UTlfcB6i",
        "colab": {
          "base_uri": "https://localhost:8080/"
        },
        "outputId": "5f1eb197-62fd-4a46-9b8b-0c70ca56d6a6"
      },
      "outputs": [
        {
          "output_type": "stream",
          "name": "stdout",
          "text": [
            "[{'first': 'Guido', 'last': 'Van Rossum', 'year': 1956},\n",
            " {'first': 'Grace', 'last': 'Hopper', 'year': 1906},\n",
            " {'first': 'Alan', 'last': 'Turing', 'year': 1912}]\n"
          ]
        }
      ],
      "source": [
        "from pprint import pprint\n",
        "pprint(data)"
      ]
    },
    {
      "cell_type": "code",
      "source": [
        "[{'first': 'Guido', 'last': 'Van Rossum', 'year': 1956}, {'first': 'Grace', 'last': 'Hopper', 'year': 1906}, {'first': 'Alan', 'last': 'Turing', 'year': 1912}]"
      ],
      "metadata": {
        "colab": {
          "base_uri": "https://localhost:8080/"
        },
        "id": "DBqBcnoLQFAB",
        "outputId": "a23e41f1-3826-44cb-c781-b110c4a328fa"
      },
      "execution_count": null,
      "outputs": [
        {
          "output_type": "execute_result",
          "data": {
            "text/plain": [
              "[{'first': 'Guido', 'last': 'Van Rossum', 'year': 1956},\n",
              " {'first': 'Grace', 'last': 'Hopper', 'year': 1906},\n",
              " {'first': 'Alan', 'last': 'Turing', 'year': 1912}]"
            ]
          },
          "metadata": {},
          "execution_count": 7
        }
      ]
    },
    {
      "cell_type": "markdown",
      "metadata": {
        "id": "K1hUifcNcB6i"
      },
      "source": [
        "# Exercise: Longest consecutive subsequences and \"data parallelism\" #\n",
        "\n",
        "Given a string of characters, write some code to find longest consecutive substring of repeated characters. It should then return the character and the number of times it occurred in that longest substring. If there are multiple substrings of repeated characters having the same length, then the function should return the first one that occurs."
      ]
    },
    {
      "cell_type": "code",
      "execution_count": null,
      "metadata": {
        "ExecuteTime": {
          "end_time": "2023-09-21T17:37:27.492039Z",
          "start_time": "2023-09-21T17:37:27.489287Z"
        },
        "id": "6F_qopUUcB6i"
      },
      "outputs": [],
      "source": [
        "# Examples:\n",
        "tests = {\n",
        "    'aaaabb': ('a', 4),\n",
        "    'bbbaaabaaaa': ('a', 4),\n",
        "    'bbbaaaabaaa': ('a', 4),\n",
        "    'bbbaabbaaa': ('b', 3), # tie: return first\n",
        "    'cbdeuuu900': ('u', 3),\n",
        "    'abbbbb': ('b', 5),\n",
        "    'aabb': ('a', 2),\n",
        "    'ba': ('b', 1),\n",
        "    '': ('', 0)\n",
        "}"
      ]
    },
    {
      "cell_type": "markdown",
      "metadata": {
        "id": "w9blpmezcB6j"
      },
      "source": [
        "Below, we'll implement a few variants. To check them, we'll use the following function.\n",
        "\n",
        "> It's a _higher-order function!_ It takes an implementation of LCS as input and checks it against the test cases shown above."
      ]
    },
    {
      "cell_type": "code",
      "execution_count": null,
      "metadata": {
        "ExecuteTime": {
          "end_time": "2023-09-21T17:37:27.495848Z",
          "start_time": "2023-09-21T17:37:27.493182Z"
        },
        "id": "CQjx4NPIcB6j"
      },
      "outputs": [],
      "source": [
        "def check(implementation):\n",
        "    for input_string, true_answer in tests.items():\n",
        "        print(f'* Checking {repr(input_string)}: True solution is {repr(true_answer)}...')\n",
        "        your_answer = implementation(input_string)\n",
        "        assert your_answer == true_answer, f'Your code produced {repr(your_answer)} instead.'\n",
        "    print(\"\\n(Passed!)\")"
      ]
    },
    {
      "cell_type": "markdown",
      "metadata": {
        "id": "b1HNU2ukcB6j"
      },
      "source": [
        "**Exercise.** Implement a program to solve the LCS problem. As a suggestion, start by identifying the **goal** (outputs) and the **inputs**, and then outline a **strategy** (sequence of steps _without_ code) before writing the code."
      ]
    },
    {
      "cell_type": "code",
      "execution_count": null,
      "metadata": {
        "ExecuteTime": {
          "end_time": "2023-09-21T17:37:27.498396Z",
          "start_time": "2023-09-21T17:37:27.496637Z"
        },
        "id": "aXToHYqYcB6j"
      },
      "outputs": [],
      "source": [
        "def longest_consecutive_subsequence(s):\n",
        "    # Input: string `s`\n",
        "    #\n",
        "    # Output: ('x', m)\n",
        "    pass"
      ]
    },
    {
      "cell_type": "markdown",
      "metadata": {
        "id": "D7JQE3hGcB6j"
      },
      "source": [
        "### Baseline method: One-at-a-time ###\n",
        "\n",
        "Here is a version you might naturally implement. It works as follows.\n",
        "\n",
        "1. Let `best` and `best_count` hold the letter with the largest count seen so far.\n",
        "2. Visit each character `c` of the input string `s` from left to right.\n",
        "3. Determine whether `c` is the same as the previous letter, `previous`, which has occurred `previous_count` times.\n",
        "4. If `c` is the same as `previous`, increment `previous_count`.\n",
        "5. Otherwise, see if we can update `best` with `previous`."
      ]
    },
    {
      "cell_type": "code",
      "execution_count": null,
      "metadata": {
        "ExecuteTime": {
          "end_time": "2023-09-21T17:37:27.501624Z",
          "start_time": "2023-09-21T17:37:27.499353Z"
        },
        "id": "0kcoV-5CcB6k"
      },
      "outputs": [],
      "source": [
        "def longest_consecutive_subsequence_0a(s):\n",
        "    best, best_count = '', 0 # `best` is a single letter, `best_count` is freq in subseq\n",
        "    previous, previous_count = '', 0 # `previous` will hold a single letter, `previous_count` ...\n",
        "    for c in s:\n",
        "        if c == previous: # check: extending sequence?\n",
        "            previous_count += 1\n",
        "        else: # c != previous\n",
        "            if previous_count > best_count:\n",
        "                best, best_count = previous, previous_count\n",
        "            previous, previous_count = c, 1\n",
        "    if previous_count > best_count:\n",
        "        best, best_count = previous, previous_count\n",
        "    return best, best_count"
      ]
    },
    {
      "cell_type": "markdown",
      "metadata": {
        "id": "SidWos9OcB6k"
      },
      "source": [
        "First, let's check this solution:"
      ]
    },
    {
      "cell_type": "code",
      "execution_count": null,
      "metadata": {
        "ExecuteTime": {
          "end_time": "2023-09-21T17:37:27.504151Z",
          "start_time": "2023-09-21T17:37:27.502476Z"
        },
        "id": "WA7GHTercB6k",
        "colab": {
          "base_uri": "https://localhost:8080/"
        },
        "outputId": "e4f45495-070c-47ee-ddca-5d3f9b73924c"
      },
      "outputs": [
        {
          "output_type": "stream",
          "name": "stdout",
          "text": [
            "* Checking 'aaaabb': True solution is ('a', 4)...\n",
            "* Checking 'bbbaaabaaaa': True solution is ('a', 4)...\n",
            "* Checking 'bbbaaaabaaa': True solution is ('a', 4)...\n",
            "* Checking 'bbbaabbaaa': True solution is ('b', 3)...\n",
            "* Checking 'cbdeuuu900': True solution is ('u', 3)...\n",
            "* Checking 'abbbbb': True solution is ('b', 5)...\n",
            "* Checking 'aabb': True solution is ('a', 2)...\n",
            "* Checking 'ba': True solution is ('b', 1)...\n",
            "* Checking '': True solution is ('', 0)...\n",
            "\n",
            "(Passed!)\n"
          ]
        }
      ],
      "source": [
        "check(longest_consecutive_subsequence_0a)"
      ]
    },
    {
      "cell_type": "markdown",
      "metadata": {
        "id": "bOuOqYUucB6k"
      },
      "source": [
        "The solution shown above has some repetition: the code to update `best` and `best_count` when a new and longer subsequence is discovered appears in two places (lines 8-9 and again in lines 11-12). We'll address that momentarily."
      ]
    },
    {
      "cell_type": "markdown",
      "source": [
        "> In class, one of you suggested simplyfing the algorithm by _always_ updating the best solution so far. This works!"
      ],
      "metadata": {
        "id": "UfNLjzIM2Pij"
      }
    },
    {
      "cell_type": "code",
      "execution_count": null,
      "metadata": {
        "ExecuteTime": {
          "end_time": "2023-09-21T17:37:27.501624Z",
          "start_time": "2023-09-21T17:37:27.499353Z"
        },
        "id": "XmE1DTtW2S2K"
      },
      "outputs": [],
      "source": [
        "def longest_consecutive_subsequence_0b(s):\n",
        "    best, best_count = '', 0 # `best` is a single letter, `best_count` is freq in subseq\n",
        "    previous, previous_count = '', 0 # `previous` will hold a single letter, `previous_count` ...\n",
        "    for c in s:\n",
        "        if c == previous: # check: extending sequence?\n",
        "            previous_count += 1\n",
        "        else: # c != previous\n",
        "            previous, previous_count = c, 1\n",
        "        if previous_count > best_count: # update as soon as possible\n",
        "            best, best_count = previous, previous_count\n",
        "    return best, best_count"
      ]
    },
    {
      "cell_type": "markdown",
      "metadata": {
        "id": "PUJ8JivG2S2M"
      },
      "source": [
        "This does, indeed, work."
      ]
    },
    {
      "cell_type": "code",
      "execution_count": null,
      "metadata": {
        "ExecuteTime": {
          "end_time": "2023-09-21T17:37:27.504151Z",
          "start_time": "2023-09-21T17:37:27.502476Z"
        },
        "colab": {
          "base_uri": "https://localhost:8080/"
        },
        "outputId": "dc19ce3e-3d0f-4a49-903e-8f3d131c42ce",
        "id": "TAf_BwND2S2N"
      },
      "outputs": [
        {
          "output_type": "stream",
          "name": "stdout",
          "text": [
            "* Checking 'aaaabb': True solution is ('a', 4)...\n",
            "* Checking 'bbbaaabaaaa': True solution is ('a', 4)...\n",
            "* Checking 'bbbaaaabaaa': True solution is ('a', 4)...\n",
            "* Checking 'bbbaabbaaa': True solution is ('b', 3)...\n",
            "* Checking 'cbdeuuu900': True solution is ('u', 3)...\n",
            "* Checking 'abbbbb': True solution is ('b', 5)...\n",
            "* Checking 'aabb': True solution is ('a', 2)...\n",
            "* Checking 'ba': True solution is ('b', 1)...\n",
            "* Checking '': True solution is ('', 0)...\n",
            "\n",
            "(Passed!)\n"
          ]
        }
      ],
      "source": [
        "check(longest_consecutive_subsequence_0b)"
      ]
    },
    {
      "cell_type": "markdown",
      "metadata": {
        "id": "haUIA1NMcB6k"
      },
      "source": [
        "Here is a variation on the above with a few revisions for clarity:\n",
        "\n",
        "1. _Refactor_ the redundant code into a separate function, `update`. Doing so improves reading, debugging, and maintaining the function. (If you wanted to solve the _shortest_ consecutive subsequence problem instead, you need only change `update`!)\n",
        "2. Maintain substrings and use `len` to get the length when needed.\n",
        "3. Use slices to handle empty strings more robustly."
      ]
    },
    {
      "cell_type": "code",
      "execution_count": null,
      "metadata": {
        "ExecuteTime": {
          "end_time": "2023-09-21T17:37:27.507566Z",
          "start_time": "2023-09-21T17:37:27.504873Z"
        },
        "id": "TYjaEhQhcB6l",
        "colab": {
          "base_uri": "https://localhost:8080/"
        },
        "outputId": "615b6c2b-0ecf-4fae-f214-765ab4ad01ec"
      },
      "outputs": [
        {
          "output_type": "stream",
          "name": "stdout",
          "text": [
            "* Checking 'aaaabb': True solution is ('a', 4)...\n",
            "* Checking 'bbbaaabaaaa': True solution is ('a', 4)...\n",
            "* Checking 'bbbaaaabaaa': True solution is ('a', 4)...\n",
            "* Checking 'bbbaabbaaa': True solution is ('b', 3)...\n",
            "* Checking 'cbdeuuu900': True solution is ('u', 3)...\n",
            "* Checking 'abbbbb': True solution is ('b', 5)...\n",
            "* Checking 'aabb': True solution is ('a', 2)...\n",
            "* Checking 'ba': True solution is ('b', 1)...\n",
            "* Checking '': True solution is ('', 0)...\n",
            "\n",
            "(Passed!)\n"
          ]
        }
      ],
      "source": [
        "def longest_consecutive_subsequence_0c(s):\n",
        "    def update(best, previous):\n",
        "        return max(best, previous, key=len) # ???\n",
        "\n",
        "    previous = ''\n",
        "    best = ''\n",
        "    for c in s:\n",
        "        if c not in previous:\n",
        "            previous = ''\n",
        "        previous += c\n",
        "        best = update(best, previous)\n",
        "    return best[-1:], len(best)\n",
        "\n",
        "check(longest_consecutive_subsequence_0b)"
      ]
    },
    {
      "cell_type": "markdown",
      "metadata": {
        "id": "MjN_3n2xcB6l"
      },
      "source": [
        "### Method 1: Data parallelism ###\n",
        "\n",
        "Instead of thinking about building the solution one character at a time, let's try to think about the input \"as a whole.\" What are you really looking for?\n",
        "\n",
        "In the case of this problem, the input string is really a collection of substrings having the same letter. You can think of finding the solution in two parts: (1) finding the substrings, and then (2) finding the largest one."
      ]
    },
    {
      "cell_type": "markdown",
      "metadata": {
        "id": "FXRdhWXEcB6l"
      },
      "source": [
        "For example, consider the input string again:"
      ]
    },
    {
      "cell_type": "code",
      "execution_count": null,
      "metadata": {
        "ExecuteTime": {
          "end_time": "2023-09-21T17:37:27.510215Z",
          "start_time": "2023-09-21T17:37:27.508479Z"
        },
        "id": "9jGvfgAscB6l"
      },
      "outputs": [],
      "source": [
        "s = 'bbbaaabaaaa'"
      ]
    },
    {
      "cell_type": "markdown",
      "metadata": {
        "id": "Q5yY0ZaIcB6l"
      },
      "source": [
        "The pieces correspond to these slices of `s`:"
      ]
    },
    {
      "cell_type": "code",
      "execution_count": null,
      "metadata": {
        "ExecuteTime": {
          "end_time": "2023-09-21T17:37:27.513555Z",
          "start_time": "2023-09-21T17:37:27.510974Z"
        },
        "id": "dN94P1kBcB6l",
        "colab": {
          "base_uri": "https://localhost:8080/"
        },
        "outputId": "9ed6f094-8e6c-4f5a-cf7a-3104f9b4dd87"
      },
      "outputs": [
        {
          "output_type": "execute_result",
          "data": {
            "text/plain": [
              "('bbb', 'aaa', 'b', 'aaaa')"
            ]
          },
          "metadata": {},
          "execution_count": 17
        }
      ],
      "source": [
        "s[0:3], s[3:6], s[6:7], s[7:11]"
      ]
    },
    {
      "cell_type": "markdown",
      "metadata": {
        "id": "2Ml61yADcB6m"
      },
      "source": [
        "To reconstruct these substrings, all you need are the locations of _changes_, which occur at positions `[0, 3, 6, 7, 11]`."
      ]
    },
    {
      "cell_type": "markdown",
      "metadata": {
        "id": "uNxmGpKGcB6m"
      },
      "source": [
        "To find these, we need to look at consecutive pairs of letters in `s` and see where they differ. Let's write some code to build up this information in two parts."
      ]
    },
    {
      "cell_type": "code",
      "execution_count": null,
      "metadata": {
        "ExecuteTime": {
          "end_time": "2023-09-21T17:37:27.520384Z",
          "start_time": "2023-09-21T17:37:27.517790Z"
        },
        "id": "GAaeghLRcB6n",
        "colab": {
          "base_uri": "https://localhost:8080/",
          "height": 36
        },
        "outputId": "9d2976f3-5ace-458f-b63f-7c03fc04b5b1"
      },
      "outputs": [
        {
          "output_type": "execute_result",
          "data": {
            "text/plain": [
              "'bbbaaabaaa'"
            ],
            "application/vnd.google.colaboratory.intrinsic+json": {
              "type": "string"
            }
          },
          "metadata": {},
          "execution_count": 18
        }
      ],
      "source": [
        "### DEMO ###\n",
        "s[:-1] # i.e., all but the last (position n-1)"
      ]
    },
    {
      "cell_type": "code",
      "source": [
        "s[1:] # i.e., all but the first (position 0)"
      ],
      "metadata": {
        "colab": {
          "base_uri": "https://localhost:8080/",
          "height": 36
        },
        "id": "ywkDuJfWZN5m",
        "outputId": "edd6d94f-c3ce-4bef-f9eb-3a448a5980b8"
      },
      "execution_count": null,
      "outputs": [
        {
          "output_type": "execute_result",
          "data": {
            "text/plain": [
              "'bbaaabaaaa'"
            ],
            "application/vnd.google.colaboratory.intrinsic+json": {
              "type": "string"
            }
          },
          "metadata": {},
          "execution_count": 19
        }
      ]
    },
    {
      "cell_type": "code",
      "source": [
        "# Pair them up and count:\n",
        "list(enumerate(zip(s[:-1], s[1:])))"
      ],
      "metadata": {
        "colab": {
          "base_uri": "https://localhost:8080/"
        },
        "id": "CmatwG5tZswu",
        "outputId": "c37bf7d4-e7a1-49cd-f7e5-70099a754239"
      },
      "execution_count": null,
      "outputs": [
        {
          "output_type": "execute_result",
          "data": {
            "text/plain": [
              "[(0, ('b', 'b')),\n",
              " (1, ('b', 'b')),\n",
              " (2, ('b', 'a')),\n",
              " (3, ('a', 'a')),\n",
              " (4, ('a', 'a')),\n",
              " (5, ('a', 'b')),\n",
              " (6, ('b', 'a')),\n",
              " (7, ('a', 'a')),\n",
              " (8, ('a', 'a')),\n",
              " (9, ('a', 'a'))]"
            ]
          },
          "metadata": {},
          "execution_count": 20
        }
      ]
    },
    {
      "cell_type": "code",
      "source": [
        "# Identify all subsequence starting positions\n",
        "starts = [0] + [k+1 for k, (x, y) in enumerate(zip(s[:-1], s[1:])) if x != y] + [len(s)]\n",
        "starts"
      ],
      "metadata": {
        "colab": {
          "base_uri": "https://localhost:8080/"
        },
        "id": "OSUP-Qyda3zx",
        "outputId": "310c605d-fe28-4b49-eb87-6b33faccf620"
      },
      "execution_count": null,
      "outputs": [
        {
          "output_type": "execute_result",
          "data": {
            "text/plain": [
              "[0, 3, 6, 7, 11]"
            ]
          },
          "metadata": {},
          "execution_count": 21
        }
      ]
    },
    {
      "cell_type": "code",
      "execution_count": null,
      "metadata": {
        "ExecuteTime": {
          "end_time": "2023-09-21T17:37:27.524221Z",
          "start_time": "2023-09-21T17:37:27.521159Z"
        },
        "id": "l96CPRdLcB6n",
        "colab": {
          "base_uri": "https://localhost:8080/"
        },
        "outputId": "e99987b1-232d-4bd2-8d66-d17c8d67aace"
      },
      "outputs": [
        {
          "output_type": "stream",
          "name": "stdout",
          "text": [
            "s = bbbaaabaaaa\n"
          ]
        },
        {
          "output_type": "execute_result",
          "data": {
            "text/plain": [
              "[('b', 'b'),\n",
              " ('b', 'b'),\n",
              " ('b', 'a'),\n",
              " ('a', 'a'),\n",
              " ('a', 'a'),\n",
              " ('a', 'b'),\n",
              " ('b', 'a'),\n",
              " ('a', 'a'),\n",
              " ('a', 'a'),\n",
              " ('a', 'a')]"
            ]
          },
          "metadata": {},
          "execution_count": 22
        }
      ],
      "source": [
        "def zip_neighbors(s):\n",
        "    ### SAMPLE SOLUTION ###\n",
        "    return zip(s[:-1], s[1:])\n",
        "\n",
        "print(\"s =\", s)\n",
        "list(zip_neighbors(s))"
      ]
    },
    {
      "cell_type": "markdown",
      "metadata": {
        "id": "-Z_g9Q7ycB6n"
      },
      "source": [
        "To associate these neighbor-pairs with positions, apply `enumerate`:"
      ]
    },
    {
      "cell_type": "code",
      "execution_count": null,
      "metadata": {
        "ExecuteTime": {
          "end_time": "2023-09-21T17:37:27.528535Z",
          "start_time": "2023-09-21T17:37:27.525250Z"
        },
        "id": "ejNEBq2tcB6n",
        "colab": {
          "base_uri": "https://localhost:8080/"
        },
        "outputId": "30c1026b-8c2c-43b8-cfc8-4960600c74f6"
      },
      "outputs": [
        {
          "output_type": "stream",
          "name": "stdout",
          "text": [
            "s = bbbaaabaaaa\n"
          ]
        },
        {
          "output_type": "execute_result",
          "data": {
            "text/plain": [
              "[(0, ('b', 'b')),\n",
              " (1, ('b', 'b')),\n",
              " (2, ('b', 'a')),\n",
              " (3, ('a', 'a')),\n",
              " (4, ('a', 'a')),\n",
              " (5, ('a', 'b')),\n",
              " (6, ('b', 'a')),\n",
              " (7, ('a', 'a')),\n",
              " (8, ('a', 'a')),\n",
              " (9, ('a', 'a'))]"
            ]
          },
          "metadata": {},
          "execution_count": 23
        }
      ],
      "source": [
        "print(\"s =\", s)\n",
        "\n",
        "### INSERT: APPLY ENUMERATE ###\n",
        "list(enumerate(zip_neighbors(s)))"
      ]
    },
    {
      "cell_type": "markdown",
      "metadata": {
        "id": "cmcL8DOVcB6n"
      },
      "source": [
        "These are the building blocks for a \"change detector:\""
      ]
    },
    {
      "cell_type": "code",
      "execution_count": null,
      "metadata": {
        "ExecuteTime": {
          "end_time": "2023-09-21T17:37:27.534075Z",
          "start_time": "2023-09-21T17:37:27.529372Z"
        },
        "id": "GRcz-sjocB6n",
        "colab": {
          "base_uri": "https://localhost:8080/"
        },
        "outputId": "736f5a0f-6b74-4b73-b46b-7980303f2261"
      },
      "outputs": [
        {
          "output_type": "execute_result",
          "data": {
            "text/plain": [
              "[0, 3, 6, 7, 11]"
            ]
          },
          "metadata": {},
          "execution_count": 24
        }
      ],
      "source": [
        "def detect_changes(s):\n",
        "    ### SAMPLE SOLUTION ###\n",
        "    changes = [0]\n",
        "    changes += [k+1 for k, (x, y) in enumerate(zip_neighbors(s)) if x != y]\n",
        "    changes += [len(s)]\n",
        "    return changes\n",
        "\n",
        "detect_changes(s)"
      ]
    },
    {
      "cell_type": "markdown",
      "metadata": {
        "id": "QDgZXcXecB6n"
      },
      "source": [
        "> _Aside:_ The implementation of `detect_changes` produces the following result on an empty input:"
      ]
    },
    {
      "cell_type": "code",
      "execution_count": null,
      "metadata": {
        "ExecuteTime": {
          "end_time": "2023-09-21T17:37:27.537227Z",
          "start_time": "2023-09-21T17:37:27.535036Z"
        },
        "id": "RLcX4_FkcB6n",
        "colab": {
          "base_uri": "https://localhost:8080/"
        },
        "outputId": "f9985ff6-a4d1-4c9b-8547-eb2fa6a1cd5b"
      },
      "outputs": [
        {
          "output_type": "execute_result",
          "data": {
            "text/plain": [
              "[0, 0]"
            ]
          },
          "metadata": {},
          "execution_count": 25
        }
      ],
      "source": [
        "detect_changes('')"
      ]
    },
    {
      "cell_type": "markdown",
      "metadata": {
        "id": "RlAt71L1cB6o"
      },
      "source": [
        "From the changes, the pieces follow:"
      ]
    },
    {
      "cell_type": "code",
      "execution_count": null,
      "metadata": {
        "ExecuteTime": {
          "end_time": "2023-09-21T17:37:27.540825Z",
          "start_time": "2023-09-21T17:37:27.538015Z"
        },
        "id": "o-5yFgQLcB6o",
        "colab": {
          "base_uri": "https://localhost:8080/"
        },
        "outputId": "f2f275f0-9c19-484e-cf65-21211cdac430"
      },
      "outputs": [
        {
          "output_type": "execute_result",
          "data": {
            "text/plain": [
              "['bbb', 'aaa', 'b', 'aaaa']"
            ]
          },
          "metadata": {},
          "execution_count": 26
        }
      ],
      "source": [
        "def get_pieces(s, changes):\n",
        "    ### SAMPLE SOLUTION ###\n",
        "    return [s[start:stop] for start, stop in zip_neighbors(changes)]\n",
        "\n",
        "get_pieces(s, detect_changes(s))"
      ]
    },
    {
      "cell_type": "markdown",
      "metadata": {
        "id": "PGOSBwaTcB6o"
      },
      "source": [
        "The largest piece is then easy to find:"
      ]
    },
    {
      "cell_type": "code",
      "execution_count": null,
      "metadata": {
        "ExecuteTime": {
          "end_time": "2023-09-21T17:37:27.543905Z",
          "start_time": "2023-09-21T17:37:27.541685Z"
        },
        "id": "VTEsDERScB6o",
        "colab": {
          "base_uri": "https://localhost:8080/",
          "height": 36
        },
        "outputId": "1f0d7035-8634-4314-9bf7-d885bb9ba754"
      },
      "outputs": [
        {
          "output_type": "execute_result",
          "data": {
            "text/plain": [
              "'aaaa'"
            ],
            "application/vnd.google.colaboratory.intrinsic+json": {
              "type": "string"
            }
          },
          "metadata": {},
          "execution_count": 27
        }
      ],
      "source": [
        "### FIND LARGEST PIECE VIA KEYED `max` ###\n",
        "max(get_pieces(s, detect_changes(s)), key=len)"
      ]
    },
    {
      "cell_type": "markdown",
      "metadata": {
        "id": "6KEMH8sTcB6o"
      },
      "source": [
        "Putting it all together:"
      ]
    },
    {
      "cell_type": "code",
      "execution_count": null,
      "metadata": {
        "ExecuteTime": {
          "end_time": "2023-09-21T17:37:27.551247Z",
          "start_time": "2023-09-21T17:37:27.548094Z"
        },
        "id": "mxw5eaZJcB6o",
        "colab": {
          "base_uri": "https://localhost:8080/"
        },
        "outputId": "0e298db4-078a-450d-bbb2-7169e199afae"
      },
      "outputs": [
        {
          "output_type": "execute_result",
          "data": {
            "text/plain": [
              "('a', 4)"
            ]
          },
          "metadata": {},
          "execution_count": 28
        }
      ],
      "source": [
        "def longest_consecutive_subsequence_1(s):\n",
        "    changes = detect_changes(s)\n",
        "    pieces = get_pieces(s, changes)\n",
        "    largest_piece = max(pieces, key=len)\n",
        "    return largest_piece[:1], len(largest_piece)\n",
        "\n",
        "longest_consecutive_subsequence_1(s)"
      ]
    },
    {
      "cell_type": "code",
      "execution_count": null,
      "metadata": {
        "ExecuteTime": {
          "end_time": "2023-09-21T17:37:27.554268Z",
          "start_time": "2023-09-21T17:37:27.552371Z"
        },
        "id": "duAOye12cB6p",
        "colab": {
          "base_uri": "https://localhost:8080/"
        },
        "outputId": "cf16b946-1bdc-4244-9a84-669c44438546"
      },
      "outputs": [
        {
          "output_type": "stream",
          "name": "stdout",
          "text": [
            "* Checking 'aaaabb': True solution is ('a', 4)...\n",
            "* Checking 'bbbaaabaaaa': True solution is ('a', 4)...\n",
            "* Checking 'bbbaaaabaaa': True solution is ('a', 4)...\n",
            "* Checking 'bbbaabbaaa': True solution is ('b', 3)...\n",
            "* Checking 'cbdeuuu900': True solution is ('u', 3)...\n",
            "* Checking 'abbbbb': True solution is ('b', 5)...\n",
            "* Checking 'aabb': True solution is ('a', 2)...\n",
            "* Checking 'ba': True solution is ('b', 1)...\n",
            "* Checking '': True solution is ('', 0)...\n",
            "\n",
            "(Passed!)\n"
          ]
        }
      ],
      "source": [
        "check(longest_consecutive_subsequence_1)"
      ]
    },
    {
      "cell_type": "markdown",
      "metadata": {
        "id": "aVh1wq4EcB6p"
      },
      "source": [
        "### Method 2: Data parallel \"preconditioning\" approach ###\n",
        "\n",
        "Transform the input into something, e.g., preprocess or \"precondition\" it so that the problem becomes easier to solve."
      ]
    },
    {
      "cell_type": "code",
      "execution_count": null,
      "metadata": {
        "ExecuteTime": {
          "end_time": "2023-09-21T17:37:27.557278Z",
          "start_time": "2023-09-21T17:37:27.555020Z"
        },
        "id": "f6YLejkOcB6p"
      },
      "outputs": [],
      "source": [
        "s = 'bbbaaabaaaa'\n",
        "\n",
        "### INSERT: DEMO `s` and `t` ###\n",
        "t = 'bbb|aaa|b|aaaa'"
      ]
    },
    {
      "cell_type": "code",
      "execution_count": null,
      "metadata": {
        "ExecuteTime": {
          "end_time": "2023-09-21T17:37:27.561193Z",
          "start_time": "2023-09-21T17:37:27.558126Z"
        },
        "id": "UiKuXc2ZcB6p",
        "colab": {
          "base_uri": "https://localhost:8080/",
          "height": 359
        },
        "outputId": "5e28f1af-9604-4729-b8f0-15464f2aa9dc"
      },
      "outputs": [
        {
          "output_type": "stream",
          "name": "stdout",
          "text": [
            "* Checking 'aaaabb': True solution is ('a', 4)...\n"
          ]
        },
        {
          "output_type": "error",
          "ename": "AttributeError",
          "evalue": "'NoneType' object has no attribute 'split'",
          "traceback": [
            "\u001b[0;31m---------------------------------------------------------------------------\u001b[0m",
            "\u001b[0;31mAttributeError\u001b[0m                            Traceback (most recent call last)",
            "\u001b[0;32m<ipython-input-31-8ef3a605f568>\u001b[0m in \u001b[0;36m<cell line: 12>\u001b[0;34m()\u001b[0m\n\u001b[1;32m     10\u001b[0m     \u001b[0;32mreturn\u001b[0m \u001b[0mlargest_substring\u001b[0m\u001b[0;34m[\u001b[0m\u001b[0;34m-\u001b[0m\u001b[0;36m1\u001b[0m\u001b[0;34m:\u001b[0m\u001b[0;34m]\u001b[0m\u001b[0;34m,\u001b[0m \u001b[0mlen\u001b[0m\u001b[0;34m(\u001b[0m\u001b[0mlargest_substring\u001b[0m\u001b[0;34m)\u001b[0m\u001b[0;34m\u001b[0m\u001b[0;34m\u001b[0m\u001b[0m\n\u001b[1;32m     11\u001b[0m \u001b[0;34m\u001b[0m\u001b[0m\n\u001b[0;32m---> 12\u001b[0;31m \u001b[0mcheck\u001b[0m\u001b[0;34m(\u001b[0m\u001b[0mlongest_consecutive_subsequence_3\u001b[0m\u001b[0;34m)\u001b[0m\u001b[0;34m\u001b[0m\u001b[0;34m\u001b[0m\u001b[0m\n\u001b[0m",
            "\u001b[0;32m<ipython-input-9-8054ace1587b>\u001b[0m in \u001b[0;36mcheck\u001b[0;34m(implementation)\u001b[0m\n\u001b[1;32m      2\u001b[0m     \u001b[0;32mfor\u001b[0m \u001b[0minput_string\u001b[0m\u001b[0;34m,\u001b[0m \u001b[0mtrue_answer\u001b[0m \u001b[0;32min\u001b[0m \u001b[0mtests\u001b[0m\u001b[0;34m.\u001b[0m\u001b[0mitems\u001b[0m\u001b[0;34m(\u001b[0m\u001b[0;34m)\u001b[0m\u001b[0;34m:\u001b[0m\u001b[0;34m\u001b[0m\u001b[0;34m\u001b[0m\u001b[0m\n\u001b[1;32m      3\u001b[0m         \u001b[0mprint\u001b[0m\u001b[0;34m(\u001b[0m\u001b[0;34mf'* Checking {repr(input_string)}: True solution is {repr(true_answer)}...'\u001b[0m\u001b[0;34m)\u001b[0m\u001b[0;34m\u001b[0m\u001b[0;34m\u001b[0m\u001b[0m\n\u001b[0;32m----> 4\u001b[0;31m         \u001b[0myour_answer\u001b[0m \u001b[0;34m=\u001b[0m \u001b[0mimplementation\u001b[0m\u001b[0;34m(\u001b[0m\u001b[0minput_string\u001b[0m\u001b[0;34m)\u001b[0m\u001b[0;34m\u001b[0m\u001b[0;34m\u001b[0m\u001b[0m\n\u001b[0m\u001b[1;32m      5\u001b[0m         \u001b[0;32massert\u001b[0m \u001b[0myour_answer\u001b[0m \u001b[0;34m==\u001b[0m \u001b[0mtrue_answer\u001b[0m\u001b[0;34m,\u001b[0m \u001b[0;34mf'Your code produced {repr(your_answer)} instead.'\u001b[0m\u001b[0;34m\u001b[0m\u001b[0;34m\u001b[0m\u001b[0m\n\u001b[1;32m      6\u001b[0m     \u001b[0mprint\u001b[0m\u001b[0;34m(\u001b[0m\u001b[0;34m\"\\n(Passed!)\"\u001b[0m\u001b[0;34m)\u001b[0m\u001b[0;34m\u001b[0m\u001b[0;34m\u001b[0m\u001b[0m\n",
            "\u001b[0;32m<ipython-input-31-8ef3a605f568>\u001b[0m in \u001b[0;36mlongest_consecutive_subsequence_3\u001b[0;34m(s)\u001b[0m\n\u001b[1;32m      6\u001b[0m \u001b[0;32mdef\u001b[0m \u001b[0mlongest_consecutive_subsequence_3\u001b[0m\u001b[0;34m(\u001b[0m\u001b[0ms\u001b[0m\u001b[0;34m)\u001b[0m\u001b[0;34m:\u001b[0m\u001b[0;34m\u001b[0m\u001b[0;34m\u001b[0m\u001b[0m\n\u001b[1;32m      7\u001b[0m     \u001b[0mt\u001b[0m \u001b[0;34m=\u001b[0m \u001b[0minsert_cuts\u001b[0m\u001b[0;34m(\u001b[0m\u001b[0ms\u001b[0m\u001b[0;34m)\u001b[0m\u001b[0;34m\u001b[0m\u001b[0;34m\u001b[0m\u001b[0m\n\u001b[0;32m----> 8\u001b[0;31m     \u001b[0msubstrings\u001b[0m \u001b[0;34m=\u001b[0m \u001b[0mt\u001b[0m\u001b[0;34m.\u001b[0m\u001b[0msplit\u001b[0m\u001b[0;34m(\u001b[0m\u001b[0;34m'|'\u001b[0m\u001b[0;34m)\u001b[0m\u001b[0;34m\u001b[0m\u001b[0;34m\u001b[0m\u001b[0m\n\u001b[0m\u001b[1;32m      9\u001b[0m     \u001b[0mlargest_substring\u001b[0m \u001b[0;34m=\u001b[0m \u001b[0mmax\u001b[0m\u001b[0;34m(\u001b[0m\u001b[0msubstrings\u001b[0m\u001b[0;34m,\u001b[0m \u001b[0mkey\u001b[0m\u001b[0;34m=\u001b[0m\u001b[0mlen\u001b[0m\u001b[0;34m)\u001b[0m\u001b[0;34m\u001b[0m\u001b[0;34m\u001b[0m\u001b[0m\n\u001b[1;32m     10\u001b[0m     \u001b[0;32mreturn\u001b[0m \u001b[0mlargest_substring\u001b[0m\u001b[0;34m[\u001b[0m\u001b[0;34m-\u001b[0m\u001b[0;36m1\u001b[0m\u001b[0;34m:\u001b[0m\u001b[0;34m]\u001b[0m\u001b[0;34m,\u001b[0m \u001b[0mlen\u001b[0m\u001b[0;34m(\u001b[0m\u001b[0mlargest_substring\u001b[0m\u001b[0;34m)\u001b[0m\u001b[0;34m\u001b[0m\u001b[0;34m\u001b[0m\u001b[0m\n",
            "\u001b[0;31mAttributeError\u001b[0m: 'NoneType' object has no attribute 'split'"
          ]
        }
      ],
      "source": [
        "def insert_cuts(s, separator='|'):\n",
        "    assert separator not in s     # Q for you: \"but y tho\"\n",
        "    ### YOUR CODE HERE ###\n",
        "    pass\n",
        "\n",
        "def longest_consecutive_subsequence_3(s):\n",
        "    t = insert_cuts(s)\n",
        "    substrings = t.split('|')\n",
        "    largest_substring = max(substrings, key=len)\n",
        "    return largest_substring[-1:], len(largest_substring)\n",
        "\n",
        "check(longest_consecutive_subsequence_3)"
      ]
    },
    {
      "cell_type": "markdown",
      "metadata": {
        "id": "eLRfbIBLcB6p"
      },
      "source": [
        "## Summary ##\n",
        "\n",
        "Here is a quick review of the main ideas in this note:\n",
        "\n",
        "- **Slices** are well-worth mastering. Empty ranges produced empty lists, which we exploited to write more robust code for corner cases.\n",
        "- **Functions** encapsulate ... functionality!\n",
        "- **Data parallelism** is an \"all-at-once\" mindset, which can be more efficient, easier to read, and easier to parallelize.\n",
        "- **Preconditioning** is a strategy whereby one transforms an input (or any intermediate object) into another object that simplifies how the next step can be solved."
      ]
    }
  ],
  "metadata": {
    "celltoolbar": "Slideshow",
    "kernelspec": {
      "display_name": "Python 3 (ipykernel)",
      "language": "python",
      "name": "python3"
    },
    "language_info": {
      "codemirror_mode": {
        "name": "ipython",
        "version": 3
      },
      "file_extension": ".py",
      "mimetype": "text/x-python",
      "name": "python",
      "nbconvert_exporter": "python",
      "pygments_lexer": "ipython3",
      "version": "3.11.7"
    },
    "toc": {
      "base_numbering": 1,
      "nav_menu": {},
      "number_sections": true,
      "sideBar": true,
      "skip_h1_title": false,
      "title_cell": "Table of Contents",
      "title_sidebar": "Contents",
      "toc_cell": false,
      "toc_position": {},
      "toc_section_display": true,
      "toc_window_display": false
    },
    "colab": {
      "provenance": [],
      "include_colab_link": true
    }
  },
  "nbformat": 4,
  "nbformat_minor": 0
}